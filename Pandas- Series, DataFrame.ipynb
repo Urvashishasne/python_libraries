{
 "cells": [
  {
   "cell_type": "markdown",
   "id": "a79638cb",
   "metadata": {},
   "source": [
    "Pandas contain data structures and data manipulation tools designed for data cleaning and analysis.\n",
    "\n",
    "While pandas adopt much code from NumPy, the difference is that Pandas is designed for tabular, heterogeneous data. NumPy, by difference, is best suited for working with homogeneous numerical array data.\n",
    "\n",
    "The name Pandas is derived from the term 'panel data' (an econometrics term for multidimensional structured data sets)."
   ]
  },
  {
   "cell_type": "markdown",
   "id": "4719c0ab",
   "metadata": {},
   "source": [
    "Pandas has two data structures as follows:\n",
    "\n",
    "1. A Series is a 1-dimensional labelled array that can hold data of any type (such as integer, string, boolean, float, python objects). Its axis labels are collectively called an index.\n",
    "1. A DataFrame is a 2-dimensional labelled data structure with columns. It supports multiple data types."
   ]
  },
  {
   "cell_type": "code",
   "execution_count": 1,
   "id": "dc0f68fd",
   "metadata": {},
   "outputs": [],
   "source": [
    "# Import the numpy and pandas libraryimport numpy as np\n",
    "import pandas as pd"
   ]
  },
  {
   "cell_type": "code",
   "execution_count": 2,
   "id": "075ab950",
   "metadata": {},
   "outputs": [
    {
     "name": "stdout",
     "output_type": "stream",
     "text": [
      "0    1\n",
      "1    2\n",
      "2    3\n",
      "3    4\n",
      "4    5\n",
      "dtype: int64\n"
     ]
    }
   ],
   "source": [
    "#make series from list\n",
    "data= [ 1,2,3,4,5]\n",
    "series= pd.Series(data)\n",
    "print(series)"
   ]
  },
  {
   "cell_type": "code",
   "execution_count": 3,
   "id": "37d0af57",
   "metadata": {},
   "outputs": [
    {
     "data": {
      "text/plain": [
       "a    1\n",
       "b    2\n",
       "c    3\n",
       "dtype: int64"
      ]
     },
     "execution_count": 3,
     "metadata": {},
     "output_type": "execute_result"
    }
   ],
   "source": [
    "#make series from dictionary \n",
    "dic={'a':1,'b':2,'c':3}\n",
    "se_dict=pd.Series(dic)\n",
    "se_dict"
   ]
  },
  {
   "cell_type": "code",
   "execution_count": 4,
   "id": "b32feda2",
   "metadata": {},
   "outputs": [
    {
     "data": {
      "text/plain": [
       "3    10\n",
       "4    20\n",
       "5    30\n",
       "dtype: int64"
      ]
     },
     "execution_count": 4,
     "metadata": {},
     "output_type": "execute_result"
    }
   ],
   "source": [
    "#create series with own data and index\n",
    "data=[10,20,30]\n",
    "index=[3,4,5]\n",
    "s=pd.Series(data,index)\n",
    "s"
   ]
  },
  {
   "cell_type": "code",
   "execution_count": 5,
   "id": "5394fa29",
   "metadata": {},
   "outputs": [
    {
     "data": {
      "text/html": [
       "<div>\n",
       "<style scoped>\n",
       "    .dataframe tbody tr th:only-of-type {\n",
       "        vertical-align: middle;\n",
       "    }\n",
       "\n",
       "    .dataframe tbody tr th {\n",
       "        vertical-align: top;\n",
       "    }\n",
       "\n",
       "    .dataframe thead th {\n",
       "        text-align: right;\n",
       "    }\n",
       "</style>\n",
       "<table border=\"1\" class=\"dataframe\">\n",
       "  <thead>\n",
       "    <tr style=\"text-align: right;\">\n",
       "      <th></th>\n",
       "      <th>Name</th>\n",
       "      <th>Age</th>\n",
       "      <th>Salary</th>\n",
       "    </tr>\n",
       "  </thead>\n",
       "  <tbody>\n",
       "    <tr>\n",
       "      <th>0</th>\n",
       "      <td>Arman</td>\n",
       "      <td>23</td>\n",
       "      <td>20000</td>\n",
       "    </tr>\n",
       "    <tr>\n",
       "      <th>1</th>\n",
       "      <td>Arushi</td>\n",
       "      <td>34</td>\n",
       "      <td>80000</td>\n",
       "    </tr>\n",
       "    <tr>\n",
       "      <th>2</th>\n",
       "      <td>urvi</td>\n",
       "      <td>25</td>\n",
       "      <td>30000</td>\n",
       "    </tr>\n",
       "  </tbody>\n",
       "</table>\n",
       "</div>"
      ],
      "text/plain": [
       "     Name  Age  Salary\n",
       "0   Arman   23   20000\n",
       "1  Arushi   34   80000\n",
       "2    urvi   25   30000"
      ]
     },
     "execution_count": 5,
     "metadata": {},
     "output_type": "execute_result"
    }
   ],
   "source": [
    "#create dataframe from dictionary of list\n",
    "data={\n",
    "    'Name':['Arman','Arushi','urvi'],\n",
    "    'Age':[23,34,25],\n",
    "    'Salary':[20000,80000,30000]\n",
    "    }\n",
    "df_from_dict=pd.DataFrame(data)\n",
    "df_from_dict"
   ]
  },
  {
   "cell_type": "code",
   "execution_count": 6,
   "id": "a38066f4",
   "metadata": {},
   "outputs": [
    {
     "data": {
      "text/html": [
       "<div>\n",
       "<style scoped>\n",
       "    .dataframe tbody tr th:only-of-type {\n",
       "        vertical-align: middle;\n",
       "    }\n",
       "\n",
       "    .dataframe tbody tr th {\n",
       "        vertical-align: top;\n",
       "    }\n",
       "\n",
       "    .dataframe thead th {\n",
       "        text-align: right;\n",
       "    }\n",
       "</style>\n",
       "<table border=\"1\" class=\"dataframe\">\n",
       "  <thead>\n",
       "    <tr style=\"text-align: right;\">\n",
       "      <th></th>\n",
       "      <th>Name</th>\n",
       "      <th>Age</th>\n",
       "      <th>Salary</th>\n",
       "    </tr>\n",
       "  </thead>\n",
       "  <tbody>\n",
       "    <tr>\n",
       "      <th>0</th>\n",
       "      <td>Arman</td>\n",
       "      <td>23</td>\n",
       "      <td>20000</td>\n",
       "    </tr>\n",
       "    <tr>\n",
       "      <th>1</th>\n",
       "      <td>Anshuman</td>\n",
       "      <td>25</td>\n",
       "      <td>20000</td>\n",
       "    </tr>\n",
       "    <tr>\n",
       "      <th>2</th>\n",
       "      <td>Aman</td>\n",
       "      <td>45</td>\n",
       "      <td>20000</td>\n",
       "    </tr>\n",
       "    <tr>\n",
       "      <th>3</th>\n",
       "      <td>bharti</td>\n",
       "      <td>34</td>\n",
       "      <td>20000</td>\n",
       "    </tr>\n",
       "    <tr>\n",
       "      <th>4</th>\n",
       "      <td>urvi</td>\n",
       "      <td>78</td>\n",
       "      <td>195000</td>\n",
       "    </tr>\n",
       "  </tbody>\n",
       "</table>\n",
       "</div>"
      ],
      "text/plain": [
       "       Name  Age  Salary\n",
       "0     Arman   23   20000\n",
       "1  Anshuman   25   20000\n",
       "2      Aman   45   20000\n",
       "3    bharti   34   20000\n",
       "4      urvi   78  195000"
      ]
     },
     "execution_count": 6,
     "metadata": {},
     "output_type": "execute_result"
    }
   ],
   "source": [
    "#create dataframe from list of dictionaries\n",
    "data_dic=(\n",
    "    {'Name':'Arman','Age':23,'Salary':20000},\n",
    "    {'Name':'Anshuman','Age':25,'Salary':20000},\n",
    "    {'Name':'Aman','Age':45,'Salary':20000},\n",
    "    {'Name':'bharti','Age':34,'Salary':20000},\n",
    "    {'Name':'urvi','Age':78,'Salary':195000}\n",
    ")\n",
    "df_from_listofdic=pd.DataFrame(data_dic)\n",
    "df_from_listofdic"
   ]
  },
  {
   "cell_type": "code",
   "execution_count": 7,
   "id": "ec520f12",
   "metadata": {},
   "outputs": [
    {
     "data": {
      "text/plain": [
       "array([['Arman', 23, 20000],\n",
       "       ['Anshuman', 25, 20000],\n",
       "       ['Aman', 45, 20000],\n",
       "       ['bharti', 34, 20000],\n",
       "       ['urvi', 78, 195000]], dtype=object)"
      ]
     },
     "execution_count": 7,
     "metadata": {},
     "output_type": "execute_result"
    }
   ],
   "source": [
    "import numpy as np\n",
    "arrof_listofdict=np.array(data_dic)\n",
    "arrof=np.array(df_from_listofdic)\n",
    "arrof"
   ]
  },
  {
   "cell_type": "code",
   "execution_count": 57,
   "id": "80964d69",
   "metadata": {},
   "outputs": [
    {
     "data": {
      "text/html": [
       "<div>\n",
       "<style scoped>\n",
       "    .dataframe tbody tr th:only-of-type {\n",
       "        vertical-align: middle;\n",
       "    }\n",
       "\n",
       "    .dataframe tbody tr th {\n",
       "        vertical-align: top;\n",
       "    }\n",
       "\n",
       "    .dataframe thead th {\n",
       "        text-align: right;\n",
       "    }\n",
       "</style>\n",
       "<table border=\"1\" class=\"dataframe\">\n",
       "  <thead>\n",
       "    <tr style=\"text-align: right;\">\n",
       "      <th></th>\n",
       "      <th>Manufacturer</th>\n",
       "      <th>Device</th>\n",
       "      <th>CUDA</th>\n",
       "      <th>Metal</th>\n",
       "      <th>OpenCL</th>\n",
       "      <th>Vulkan</th>\n",
       "    </tr>\n",
       "  </thead>\n",
       "  <tbody>\n",
       "    <tr>\n",
       "      <th>0</th>\n",
       "      <td>Nvidia</td>\n",
       "      <td>GeForce RTX 3090 Ti</td>\n",
       "      <td>260346.0</td>\n",
       "      <td>NaN</td>\n",
       "      <td>229738.0</td>\n",
       "      <td>141134.0</td>\n",
       "    </tr>\n",
       "    <tr>\n",
       "      <th>1</th>\n",
       "      <td>Nvidia</td>\n",
       "      <td>A100 80GB PCIe</td>\n",
       "      <td>259828.0</td>\n",
       "      <td>NaN</td>\n",
       "      <td>214586.0</td>\n",
       "      <td>NaN</td>\n",
       "    </tr>\n",
       "    <tr>\n",
       "      <th>2</th>\n",
       "      <td>Nvidia</td>\n",
       "      <td>A100-PCIE-80GB</td>\n",
       "      <td>256292.0</td>\n",
       "      <td>NaN</td>\n",
       "      <td>207124.0</td>\n",
       "      <td>NaN</td>\n",
       "    </tr>\n",
       "    <tr>\n",
       "      <th>3</th>\n",
       "      <td>Nvidia</td>\n",
       "      <td>GeForce RTX 3090</td>\n",
       "      <td>238123.0</td>\n",
       "      <td>NaN</td>\n",
       "      <td>204921.0</td>\n",
       "      <td>138859.0</td>\n",
       "    </tr>\n",
       "    <tr>\n",
       "      <th>4</th>\n",
       "      <td>Nvidia</td>\n",
       "      <td>A100-SXM4-40GB</td>\n",
       "      <td>237220.0</td>\n",
       "      <td>NaN</td>\n",
       "      <td>190489.0</td>\n",
       "      <td>NaN</td>\n",
       "    </tr>\n",
       "    <tr>\n",
       "      <th>...</th>\n",
       "      <td>...</td>\n",
       "      <td>...</td>\n",
       "      <td>...</td>\n",
       "      <td>...</td>\n",
       "      <td>...</td>\n",
       "      <td>...</td>\n",
       "    </tr>\n",
       "    <tr>\n",
       "      <th>1208</th>\n",
       "      <td>AMD</td>\n",
       "      <td>Vega 20 [Radeon VII]</td>\n",
       "      <td>NaN</td>\n",
       "      <td>NaN</td>\n",
       "      <td>96073.0</td>\n",
       "      <td>NaN</td>\n",
       "    </tr>\n",
       "    <tr>\n",
       "      <th>1209</th>\n",
       "      <td>Other</td>\n",
       "      <td>VeriSilicon</td>\n",
       "      <td>NaN</td>\n",
       "      <td>NaN</td>\n",
       "      <td>NaN</td>\n",
       "      <td>73.0</td>\n",
       "    </tr>\n",
       "    <tr>\n",
       "      <th>1210</th>\n",
       "      <td>Other</td>\n",
       "      <td>VideoCore VI HW (V3D-620)</td>\n",
       "      <td>NaN</td>\n",
       "      <td>NaN</td>\n",
       "      <td>NaN</td>\n",
       "      <td>76.0</td>\n",
       "    </tr>\n",
       "    <tr>\n",
       "      <th>1211</th>\n",
       "      <td>Intel</td>\n",
       "      <td>Xe Graphics</td>\n",
       "      <td>NaN</td>\n",
       "      <td>NaN</td>\n",
       "      <td>49205.0</td>\n",
       "      <td>NaN</td>\n",
       "    </tr>\n",
       "    <tr>\n",
       "      <th>1212</th>\n",
       "      <td>Intel</td>\n",
       "      <td>Xe Graphics (TGL GT2)</td>\n",
       "      <td>NaN</td>\n",
       "      <td>NaN</td>\n",
       "      <td>NaN</td>\n",
       "      <td>8895.0</td>\n",
       "    </tr>\n",
       "  </tbody>\n",
       "</table>\n",
       "<p>1213 rows × 6 columns</p>\n",
       "</div>"
      ],
      "text/plain": [
       "     Manufacturer                     Device      CUDA  Metal    OpenCL  \\\n",
       "0          Nvidia        GeForce RTX 3090 Ti  260346.0    NaN  229738.0   \n",
       "1          Nvidia             A100 80GB PCIe  259828.0    NaN  214586.0   \n",
       "2          Nvidia             A100-PCIE-80GB  256292.0    NaN  207124.0   \n",
       "3          Nvidia           GeForce RTX 3090  238123.0    NaN  204921.0   \n",
       "4          Nvidia             A100-SXM4-40GB  237220.0    NaN  190489.0   \n",
       "...           ...                        ...       ...    ...       ...   \n",
       "1208          AMD       Vega 20 [Radeon VII]       NaN    NaN   96073.0   \n",
       "1209        Other                VeriSilicon       NaN    NaN       NaN   \n",
       "1210        Other  VideoCore VI HW (V3D-620)       NaN    NaN       NaN   \n",
       "1211        Intel                Xe Graphics       NaN    NaN   49205.0   \n",
       "1212        Intel      Xe Graphics (TGL GT2)       NaN    NaN       NaN   \n",
       "\n",
       "        Vulkan  \n",
       "0     141134.0  \n",
       "1          NaN  \n",
       "2          NaN  \n",
       "3     138859.0  \n",
       "4          NaN  \n",
       "...        ...  \n",
       "1208       NaN  \n",
       "1209      73.0  \n",
       "1210      76.0  \n",
       "1211       NaN  \n",
       "1212    8895.0  \n",
       "\n",
       "[1213 rows x 6 columns]"
      ]
     },
     "execution_count": 57,
     "metadata": {},
     "output_type": "execute_result"
    }
   ],
   "source": [
    "#data from csv\n",
    "data=pd.read_csv(\"graphicsAPIs.csv\")\n",
    "data"
   ]
  },
  {
   "cell_type": "code",
   "execution_count": 59,
   "id": "e0f80bfc",
   "metadata": {},
   "outputs": [
    {
     "data": {
      "text/plain": [
       "0     Arman\n",
       "1    Arushi\n",
       "2      urvi\n",
       "Name: Name, dtype: object"
      ]
     },
     "execution_count": 59,
     "metadata": {},
     "output_type": "execute_result"
    }
   ],
   "source": [
    "df_from_dict['Name']"
   ]
  },
  {
   "cell_type": "markdown",
   "id": "c854e9cb",
   "metadata": {},
   "source": [
    "1. Python loc() function can accept the boolean data.\n",
    "2. The loc() function is label based data selecting method which means that we have to pass the name of the row or column which we want to select.\n",
    "3. when we use :\n",
    "1. Selecting Data According to Some Conditions\n",
    "2. Selecting a Range of Rows From the DataFrame\n",
    "3. Updating the Value of Any Column"
   ]
  },
  {
   "cell_type": "code",
   "execution_count": 75,
   "id": "aaf63be1",
   "metadata": {},
   "outputs": [
    {
     "data": {
      "text/plain": [
       "Name      Arman\n",
       "Age          23\n",
       "Salary    20000\n",
       "Name: 0, dtype: object"
      ]
     },
     "execution_count": 75,
     "metadata": {},
     "output_type": "execute_result"
    }
   ],
   "source": [
    "df_from_dict.loc[0]#loc=row index"
   ]
  },
  {
   "cell_type": "markdown",
   "id": "1915ac77",
   "metadata": {},
   "source": [
    "when we use iloc:\n",
    "1. Selecting Rows Using Integer Indices\n",
    "2. Selecting a Range of Columns and Rows Simultaneously\n"
   ]
  },
  {
   "cell_type": "code",
   "execution_count": 76,
   "id": "3f8c74b2",
   "metadata": {},
   "outputs": [
    {
     "data": {
      "text/html": [
       "<div>\n",
       "<style scoped>\n",
       "    .dataframe tbody tr th:only-of-type {\n",
       "        vertical-align: middle;\n",
       "    }\n",
       "\n",
       "    .dataframe tbody tr th {\n",
       "        vertical-align: top;\n",
       "    }\n",
       "\n",
       "    .dataframe thead th {\n",
       "        text-align: right;\n",
       "    }\n",
       "</style>\n",
       "<table border=\"1\" class=\"dataframe\">\n",
       "  <thead>\n",
       "    <tr style=\"text-align: right;\">\n",
       "      <th></th>\n",
       "      <th>Name</th>\n",
       "      <th>Age</th>\n",
       "      <th>Salary</th>\n",
       "    </tr>\n",
       "  </thead>\n",
       "  <tbody>\n",
       "    <tr>\n",
       "      <th>0</th>\n",
       "      <td>Arman</td>\n",
       "      <td>23</td>\n",
       "      <td>20000</td>\n",
       "    </tr>\n",
       "    <tr>\n",
       "      <th>2</th>\n",
       "      <td>urvi</td>\n",
       "      <td>25</td>\n",
       "      <td>30000</td>\n",
       "    </tr>\n",
       "  </tbody>\n",
       "</table>\n",
       "</div>"
      ],
      "text/plain": [
       "    Name  Age  Salary\n",
       "0  Arman   23   20000\n",
       "2   urvi   25   30000"
      ]
     },
     "execution_count": 76,
     "metadata": {},
     "output_type": "execute_result"
    }
   ],
   "source": [
    "df_from_dict.iloc[[0,2]] #iloc = column index"
   ]
  },
  {
   "cell_type": "code",
   "execution_count": 79,
   "id": "a71ff566",
   "metadata": {},
   "outputs": [
    {
     "data": {
      "text/html": [
       "<div>\n",
       "<style scoped>\n",
       "    .dataframe tbody tr th:only-of-type {\n",
       "        vertical-align: middle;\n",
       "    }\n",
       "\n",
       "    .dataframe tbody tr th {\n",
       "        vertical-align: top;\n",
       "    }\n",
       "\n",
       "    .dataframe thead th {\n",
       "        text-align: right;\n",
       "    }\n",
       "</style>\n",
       "<table border=\"1\" class=\"dataframe\">\n",
       "  <thead>\n",
       "    <tr style=\"text-align: right;\">\n",
       "      <th></th>\n",
       "      <th>Name</th>\n",
       "      <th>Age</th>\n",
       "    </tr>\n",
       "  </thead>\n",
       "  <tbody>\n",
       "    <tr>\n",
       "      <th>0</th>\n",
       "      <td>Arman</td>\n",
       "      <td>23</td>\n",
       "    </tr>\n",
       "    <tr>\n",
       "      <th>1</th>\n",
       "      <td>Arushi</td>\n",
       "      <td>34</td>\n",
       "    </tr>\n",
       "  </tbody>\n",
       "</table>\n",
       "</div>"
      ],
      "text/plain": [
       "     Name  Age\n",
       "0   Arman   23\n",
       "1  Arushi   34"
      ]
     },
     "execution_count": 79,
     "metadata": {},
     "output_type": "execute_result"
    }
   ],
   "source": [
    "#2\n",
    "df_from_dict.iloc[:2,:2] #iloc[row index start:end, col.index start:end]"
   ]
  },
  {
   "cell_type": "code",
   "execution_count": 73,
   "id": "45922f28",
   "metadata": {},
   "outputs": [
    {
     "data": {
      "text/plain": [
       "34"
      ]
     },
     "execution_count": 73,
     "metadata": {},
     "output_type": "execute_result"
    }
   ],
   "source": [
    "#accesing the specified element \n",
    "df_from_dict.at[1,'Age']"
   ]
  },
  {
   "cell_type": "code",
   "execution_count": 86,
   "id": "f93883d3",
   "metadata": {},
   "outputs": [
    {
     "data": {
      "text/html": [
       "<div>\n",
       "<style scoped>\n",
       "    .dataframe tbody tr th:only-of-type {\n",
       "        vertical-align: middle;\n",
       "    }\n",
       "\n",
       "    .dataframe tbody tr th {\n",
       "        vertical-align: top;\n",
       "    }\n",
       "\n",
       "    .dataframe thead th {\n",
       "        text-align: right;\n",
       "    }\n",
       "</style>\n",
       "<table border=\"1\" class=\"dataframe\">\n",
       "  <thead>\n",
       "    <tr style=\"text-align: right;\">\n",
       "      <th></th>\n",
       "      <th>Name</th>\n",
       "      <th>Age</th>\n",
       "      <th>Salary</th>\n",
       "    </tr>\n",
       "  </thead>\n",
       "  <tbody>\n",
       "    <tr>\n",
       "      <th>0</th>\n",
       "      <td>Arman</td>\n",
       "      <td>23</td>\n",
       "      <td>40000</td>\n",
       "    </tr>\n",
       "    <tr>\n",
       "      <th>1</th>\n",
       "      <td>Arushi</td>\n",
       "      <td>34</td>\n",
       "      <td>80000</td>\n",
       "    </tr>\n",
       "    <tr>\n",
       "      <th>2</th>\n",
       "      <td>urvi</td>\n",
       "      <td>25</td>\n",
       "      <td>60000</td>\n",
       "    </tr>\n",
       "  </tbody>\n",
       "</table>\n",
       "</div>"
      ],
      "text/plain": [
       "     Name  Age  Salary\n",
       "0   Arman   23   40000\n",
       "1  Arushi   34   80000\n",
       "2    urvi   25   60000"
      ]
     },
     "execution_count": 86,
     "metadata": {},
     "output_type": "execute_result"
    }
   ],
   "source": [
    "#iat \n",
    "df_from_dict\n",
    "#df_from_dict.iat[2,2]"
   ]
  },
  {
   "cell_type": "markdown",
   "id": "388f088e",
   "metadata": {},
   "source": [
    "Data Manipulation with pandas"
   ]
  },
  {
   "cell_type": "code",
   "execution_count": 84,
   "id": "1c239e44",
   "metadata": {},
   "outputs": [
    {
     "data": {
      "text/html": [
       "<div>\n",
       "<style scoped>\n",
       "    .dataframe tbody tr th:only-of-type {\n",
       "        vertical-align: middle;\n",
       "    }\n",
       "\n",
       "    .dataframe tbody tr th {\n",
       "        vertical-align: top;\n",
       "    }\n",
       "\n",
       "    .dataframe thead th {\n",
       "        text-align: right;\n",
       "    }\n",
       "</style>\n",
       "<table border=\"1\" class=\"dataframe\">\n",
       "  <thead>\n",
       "    <tr style=\"text-align: right;\">\n",
       "      <th></th>\n",
       "      <th>Name</th>\n",
       "      <th>Age</th>\n",
       "      <th>Salary</th>\n",
       "    </tr>\n",
       "  </thead>\n",
       "  <tbody>\n",
       "    <tr>\n",
       "      <th>0</th>\n",
       "      <td>Arman</td>\n",
       "      <td>23</td>\n",
       "      <td>40000</td>\n",
       "    </tr>\n",
       "    <tr>\n",
       "      <th>1</th>\n",
       "      <td>Arushi</td>\n",
       "      <td>34</td>\n",
       "      <td>80000</td>\n",
       "    </tr>\n",
       "    <tr>\n",
       "      <th>2</th>\n",
       "      <td>urvi</td>\n",
       "      <td>25</td>\n",
       "      <td>60000</td>\n",
       "    </tr>\n",
       "  </tbody>\n",
       "</table>\n",
       "</div>"
      ],
      "text/plain": [
       "     Name  Age  Salary\n",
       "0   Arman   23   40000\n",
       "1  Arushi   34   80000\n",
       "2    urvi   25   60000"
      ]
     },
     "execution_count": 84,
     "metadata": {},
     "output_type": "execute_result"
    }
   ],
   "source": [
    "df_from_dict['Salary']=[40000,80000,60000]\n",
    "df_from_dict"
   ]
  },
  {
   "cell_type": "code",
   "execution_count": 91,
   "id": "6566bec9",
   "metadata": {},
   "outputs": [
    {
     "data": {
      "text/html": [
       "<div>\n",
       "<style scoped>\n",
       "    .dataframe tbody tr th:only-of-type {\n",
       "        vertical-align: middle;\n",
       "    }\n",
       "\n",
       "    .dataframe tbody tr th {\n",
       "        vertical-align: top;\n",
       "    }\n",
       "\n",
       "    .dataframe thead th {\n",
       "        text-align: right;\n",
       "    }\n",
       "</style>\n",
       "<table border=\"1\" class=\"dataframe\">\n",
       "  <thead>\n",
       "    <tr style=\"text-align: right;\">\n",
       "      <th></th>\n",
       "      <th>Name</th>\n",
       "      <th>Age</th>\n",
       "      <th>Salary</th>\n",
       "      <th>City</th>\n",
       "    </tr>\n",
       "  </thead>\n",
       "  <tbody>\n",
       "    <tr>\n",
       "      <th>0</th>\n",
       "      <td>Arman</td>\n",
       "      <td>23</td>\n",
       "      <td>40000</td>\n",
       "      <td>Ratlam</td>\n",
       "    </tr>\n",
       "    <tr>\n",
       "      <th>1</th>\n",
       "      <td>Arushi</td>\n",
       "      <td>34</td>\n",
       "      <td>80000</td>\n",
       "      <td>Bhopal</td>\n",
       "    </tr>\n",
       "    <tr>\n",
       "      <th>2</th>\n",
       "      <td>urvi</td>\n",
       "      <td>25</td>\n",
       "      <td>60000</td>\n",
       "      <td>Pune</td>\n",
       "    </tr>\n",
       "  </tbody>\n",
       "</table>\n",
       "</div>"
      ],
      "text/plain": [
       "     Name  Age  Salary    City\n",
       "0   Arman   23   40000  Ratlam\n",
       "1  Arushi   34   80000  Bhopal\n",
       "2    urvi   25   60000    Pune"
      ]
     },
     "execution_count": 91,
     "metadata": {},
     "output_type": "execute_result"
    }
   ],
   "source": [
    "#creating a new column \n",
    "df_from_dict['City']=['Ratlam','Bhopal','Pune']\n",
    "df_from_dict"
   ]
  },
  {
   "cell_type": "code",
   "execution_count": null,
   "id": "14620593",
   "metadata": {},
   "outputs": [
    {
     "data": {
      "text/html": [
       "<div>\n",
       "<style scoped>\n",
       "    .dataframe tbody tr th:only-of-type {\n",
       "        vertical-align: middle;\n",
       "    }\n",
       "\n",
       "    .dataframe tbody tr th {\n",
       "        vertical-align: top;\n",
       "    }\n",
       "\n",
       "    .dataframe thead th {\n",
       "        text-align: right;\n",
       "    }\n",
       "</style>\n",
       "<table border=\"1\" class=\"dataframe\">\n",
       "  <thead>\n",
       "    <tr style=\"text-align: right;\">\n",
       "      <th></th>\n",
       "      <th>Name</th>\n",
       "      <th>Age</th>\n",
       "      <th>Salary</th>\n",
       "    </tr>\n",
       "  </thead>\n",
       "  <tbody>\n",
       "    <tr>\n",
       "      <th>0</th>\n",
       "      <td>Arman</td>\n",
       "      <td>23</td>\n",
       "      <td>40000</td>\n",
       "    </tr>\n",
       "    <tr>\n",
       "      <th>1</th>\n",
       "      <td>Arushi</td>\n",
       "      <td>34</td>\n",
       "      <td>80000</td>\n",
       "    </tr>\n",
       "    <tr>\n",
       "      <th>2</th>\n",
       "      <td>urvi</td>\n",
       "      <td>25</td>\n",
       "      <td>60000</td>\n",
       "    </tr>\n",
       "  </tbody>\n",
       "</table>\n",
       "</div>"
      ],
      "text/plain": [
       "     Name  Age  Salary\n",
       "0   Arman   23   40000\n",
       "1  Arushi   34   80000\n",
       "2    urvi   25   60000"
      ]
     },
     "execution_count": 90,
     "metadata": {},
     "output_type": "execute_result"
    }
   ],
   "source": [
    "#to remove a column\n",
    "df_from_dict.drop('City',axis=1,inplace=True)#it will check in column if axis =1 and then drop\n",
    "#inplace=True means it will permanantly delete the column from df"
   ]
  },
  {
   "cell_type": "code",
   "execution_count": 95,
   "id": "c8b9727f",
   "metadata": {},
   "outputs": [
    {
     "data": {
      "text/html": [
       "<div>\n",
       "<style scoped>\n",
       "    .dataframe tbody tr th:only-of-type {\n",
       "        vertical-align: middle;\n",
       "    }\n",
       "\n",
       "    .dataframe tbody tr th {\n",
       "        vertical-align: top;\n",
       "    }\n",
       "\n",
       "    .dataframe thead th {\n",
       "        text-align: right;\n",
       "    }\n",
       "</style>\n",
       "<table border=\"1\" class=\"dataframe\">\n",
       "  <thead>\n",
       "    <tr style=\"text-align: right;\">\n",
       "      <th></th>\n",
       "      <th>Name</th>\n",
       "      <th>Age</th>\n",
       "      <th>Salary</th>\n",
       "      <th>City</th>\n",
       "    </tr>\n",
       "  </thead>\n",
       "  <tbody>\n",
       "    <tr>\n",
       "      <th>0</th>\n",
       "      <td>Arman</td>\n",
       "      <td>23</td>\n",
       "      <td>40000</td>\n",
       "      <td>Ratlam</td>\n",
       "    </tr>\n",
       "    <tr>\n",
       "      <th>2</th>\n",
       "      <td>urvi</td>\n",
       "      <td>25</td>\n",
       "      <td>60000</td>\n",
       "      <td>Pune</td>\n",
       "    </tr>\n",
       "  </tbody>\n",
       "</table>\n",
       "</div>"
      ],
      "text/plain": [
       "    Name  Age  Salary    City\n",
       "0  Arman   23   40000  Ratlam\n",
       "2   urvi   25   60000    Pune"
      ]
     },
     "execution_count": 95,
     "metadata": {},
     "output_type": "execute_result"
    }
   ],
   "source": [
    "#delete  a row from df\n",
    "#df_from_dict.drop(1,inplace=True)\n",
    "df_from_dict"
   ]
  },
  {
   "cell_type": "code",
   "execution_count": 96,
   "id": "d89c9091",
   "metadata": {},
   "outputs": [
    {
     "data": {
      "text/html": [
       "<div>\n",
       "<style scoped>\n",
       "    .dataframe tbody tr th:only-of-type {\n",
       "        vertical-align: middle;\n",
       "    }\n",
       "\n",
       "    .dataframe tbody tr th {\n",
       "        vertical-align: top;\n",
       "    }\n",
       "\n",
       "    .dataframe thead th {\n",
       "        text-align: right;\n",
       "    }\n",
       "</style>\n",
       "<table border=\"1\" class=\"dataframe\">\n",
       "  <thead>\n",
       "    <tr style=\"text-align: right;\">\n",
       "      <th></th>\n",
       "      <th>Age</th>\n",
       "      <th>Salary</th>\n",
       "    </tr>\n",
       "  </thead>\n",
       "  <tbody>\n",
       "    <tr>\n",
       "      <th>count</th>\n",
       "      <td>2.000000</td>\n",
       "      <td>2.000000</td>\n",
       "    </tr>\n",
       "    <tr>\n",
       "      <th>mean</th>\n",
       "      <td>24.000000</td>\n",
       "      <td>50000.000000</td>\n",
       "    </tr>\n",
       "    <tr>\n",
       "      <th>std</th>\n",
       "      <td>1.414214</td>\n",
       "      <td>14142.135624</td>\n",
       "    </tr>\n",
       "    <tr>\n",
       "      <th>min</th>\n",
       "      <td>23.000000</td>\n",
       "      <td>40000.000000</td>\n",
       "    </tr>\n",
       "    <tr>\n",
       "      <th>25%</th>\n",
       "      <td>23.500000</td>\n",
       "      <td>45000.000000</td>\n",
       "    </tr>\n",
       "    <tr>\n",
       "      <th>50%</th>\n",
       "      <td>24.000000</td>\n",
       "      <td>50000.000000</td>\n",
       "    </tr>\n",
       "    <tr>\n",
       "      <th>75%</th>\n",
       "      <td>24.500000</td>\n",
       "      <td>55000.000000</td>\n",
       "    </tr>\n",
       "    <tr>\n",
       "      <th>max</th>\n",
       "      <td>25.000000</td>\n",
       "      <td>60000.000000</td>\n",
       "    </tr>\n",
       "  </tbody>\n",
       "</table>\n",
       "</div>"
      ],
      "text/plain": [
       "             Age        Salary\n",
       "count   2.000000      2.000000\n",
       "mean   24.000000  50000.000000\n",
       "std     1.414214  14142.135624\n",
       "min    23.000000  40000.000000\n",
       "25%    23.500000  45000.000000\n",
       "50%    24.000000  50000.000000\n",
       "75%    24.500000  55000.000000\n",
       "max    25.000000  60000.000000"
      ]
     },
     "execution_count": 96,
     "metadata": {},
     "output_type": "execute_result"
    }
   ],
   "source": [
    "#statistical summary \n",
    "df_from_dict.describe()"
   ]
  },
  {
   "cell_type": "markdown",
   "id": "af2c95f1",
   "metadata": {},
   "source": [
    "# Series"
   ]
  },
  {
   "cell_type": "markdown",
   "id": "4d455978",
   "metadata": {},
   "source": [
    "Pandas Series is a one-dimensional labelled array capable of holding any data type. However, a series is a sequence of similar data types, similar to an array, list, or column in a table.\n",
    "\n",
    "It will assign a labelled index to each item in the pd.Series. By default, each item will receive an index label from 0 to N, where N is the length of the Series minus one."
   ]
  },
  {
   "cell_type": "markdown",
   "id": "fa15dd29",
   "metadata": {},
   "source": [
    "### Creating a Series"
   ]
  },
  {
   "cell_type": "markdown",
   "id": "6276d624",
   "metadata": {},
   "source": [
    "**To create a numeric series** "
   ]
  },
  {
   "cell_type": "code",
   "execution_count": 9,
   "id": "b7f41f80",
   "metadata": {},
   "outputs": [
    {
     "data": {
      "text/plain": [
       "0      1\n",
       "1      2\n",
       "2      3\n",
       "3      4\n",
       "4      5\n",
       "5      6\n",
       "6      7\n",
       "7      8\n",
       "8      9\n",
       "9     10\n",
       "10    11\n",
       "11    12\n",
       "12    13\n",
       "13    14\n",
       "14    15\n",
       "15    16\n",
       "16    17\n",
       "17    18\n",
       "18    19\n",
       "dtype: int64"
      ]
     },
     "execution_count": 9,
     "metadata": {},
     "output_type": "execute_result"
    }
   ],
   "source": [
    "# create a numeric series\n",
    "num = range(1, 20)\n",
    "pd.Series(num)"
   ]
  },
  {
   "cell_type": "markdown",
   "id": "d146125f",
   "metadata": {},
   "source": [
    "The output also gives the data type of the series as `int64`"
   ]
  },
  {
   "cell_type": "markdown",
   "id": "ae46b47d",
   "metadata": {},
   "source": [
    "**To create an object series** "
   ]
  },
  {
   "cell_type": "code",
   "execution_count": 10,
   "id": "2d854fea",
   "metadata": {},
   "outputs": [
    {
     "data": {
      "text/plain": [
       "0     Hi\n",
       "1    How\n",
       "2    are\n",
       "3    you\n",
       "4      ?\n",
       "dtype: object"
      ]
     },
     "execution_count": 10,
     "metadata": {},
     "output_type": "execute_result"
    }
   ],
   "source": [
    "# create an object series\n",
    "string = \"Hi\" , \"How\" ,\"are\", \"you\", \"?\"\n",
    "pd.Series(string)"
   ]
  },
  {
   "cell_type": "markdown",
   "id": "96042dd3",
   "metadata": {},
   "source": [
    "The output gives the data type of the series as `object`"
   ]
  },
  {
   "cell_type": "markdown",
   "id": "d7aac357",
   "metadata": {},
   "source": [
    "**To create a series by giving both numeric and string values** "
   ]
  },
  {
   "cell_type": "code",
   "execution_count": 11,
   "id": "8e4ad139",
   "metadata": {},
   "outputs": [
    {
     "data": {
      "text/plain": [
       "0               345\n",
       "1            London\n",
       "2              34.5\n",
       "3            -34.45\n",
       "4    Happy Birthday\n",
       "dtype: object"
      ]
     },
     "execution_count": 11,
     "metadata": {},
     "output_type": "execute_result"
    }
   ],
   "source": [
    "# create a Series with an arbitrary list\n",
    "mix = [345, 'London', 34.5, -34.45, 'Happy Birthday']\n",
    "pd.Series(mix)"
   ]
  },
  {
   "cell_type": "markdown",
   "id": "50c96b14",
   "metadata": {},
   "source": [
    "Here the numeric values are treated as object."
   ]
  },
  {
   "cell_type": "markdown",
   "id": "24182009",
   "metadata": {},
   "source": [
    "**To set index values for a series**"
   ]
  },
  {
   "cell_type": "code",
   "execution_count": 12,
   "id": "2e308a64",
   "metadata": {},
   "outputs": [
    {
     "data": {
      "text/plain": [
       "0    60\n",
       "1    89\n",
       "2    74\n",
       "3    86\n",
       "dtype: int64"
      ]
     },
     "execution_count": 12,
     "metadata": {},
     "output_type": "execute_result"
    }
   ],
   "source": [
    "# declare a list of marks\n",
    "marks = [60, 89, 74, 86]\n",
    "\n",
    "# declare a list of subjects\n",
    "subject = [\"Maths\", \"Science\", \"English\" , \"Social Science\"]\n",
    "\n",
    "marks_series = pd.Series(marks)\n",
    "marks_series"
   ]
  },
  {
   "cell_type": "code",
   "execution_count": 13,
   "id": "69e5ea14",
   "metadata": {},
   "outputs": [
    {
     "data": {
      "text/plain": [
       "Maths             60\n",
       "Science           89\n",
       "English           74\n",
       "Social Science    86\n",
       "dtype: int64"
      ]
     },
     "execution_count": 13,
     "metadata": {},
     "output_type": "execute_result"
    }
   ],
   "source": [
    "# create a series from the above list of marks with subjects as its index names\n",
    "# index: adds the index \n",
    "marks_series = pd.Series(marks, index = subject)\n",
    "marks_series"
   ]
  },
  {
   "cell_type": "markdown",
   "id": "fe222568",
   "metadata": {},
   "source": [
    "The index is added using the argument `index=`. The data type of the series continues to be numeric."
   ]
  },
  {
   "cell_type": "markdown",
   "id": "8bc1bbcf",
   "metadata": {},
   "source": [
    "**To print the values and index of the Series**"
   ]
  },
  {
   "cell_type": "code",
   "execution_count": 14,
   "id": "ca636a80",
   "metadata": {},
   "outputs": [
    {
     "data": {
      "text/plain": [
       "Index(['Maths', 'Science', 'English', 'Social Science'], dtype='object')"
      ]
     },
     "execution_count": 14,
     "metadata": {},
     "output_type": "execute_result"
    }
   ],
   "source": [
    "# print the index of the series\n",
    "marks_series.index"
   ]
  },
  {
   "cell_type": "code",
   "execution_count": 15,
   "id": "92dc5638",
   "metadata": {},
   "outputs": [
    {
     "data": {
      "text/plain": [
       "array([60, 89, 74, 86], dtype=int64)"
      ]
     },
     "execution_count": 15,
     "metadata": {},
     "output_type": "execute_result"
    }
   ],
   "source": [
    "# prints the values of the series\n",
    "marks_series.values"
   ]
  },
  {
   "cell_type": "markdown",
   "id": "9816d8b8",
   "metadata": {},
   "source": [
    "**To create a series from a dictionary**"
   ]
  },
  {
   "cell_type": "code",
   "execution_count": 16,
   "id": "484b2a57",
   "metadata": {},
   "outputs": [
    {
     "data": {
      "text/plain": [
       "Maths             60\n",
       "Science           89\n",
       "English           76\n",
       "Social Science    86\n",
       "dtype: int64"
      ]
     },
     "execution_count": 16,
     "metadata": {},
     "output_type": "execute_result"
    }
   ],
   "source": [
    "# declare a dictionary\n",
    "data = {'Maths': 60, 'Science': 89, 'English': 76, 'Social Science': 86}\n",
    "\n",
    "# create a series from the dictionary\n",
    "# the dictionary keys are the index names\n",
    "# the dictionary values are the series values\n",
    "pd.Series(data)"
   ]
  },
  {
   "cell_type": "markdown",
   "id": "5cd30d99",
   "metadata": {},
   "source": [
    "On passing a `dict`, the index in the resulting Series will have the dict’s keys in given order."
   ]
  },
  {
   "cell_type": "markdown",
   "id": "b77bed24",
   "metadata": {},
   "source": [
    "**A series with missing values**\n",
    "\n",
    "If we pass a key that is not defined, then its value will be `NaN`."
   ]
  },
  {
   "cell_type": "code",
   "execution_count": 17,
   "id": "90a76971",
   "metadata": {},
   "outputs": [
    {
     "data": {
      "text/plain": [
       "Maths             60.0\n",
       "Science           89.0\n",
       "Art and Craft      NaN\n",
       "Social Science    86.0\n",
       "dtype: float64"
      ]
     },
     "execution_count": 17,
     "metadata": {},
     "output_type": "execute_result"
    }
   ],
   "source": [
    "# create a list of subjects\n",
    "subjects = [\"Maths\", \"Science\", \"Art and Craft\" , \"Social Science\"]\n",
    "\n",
    "# declare a dictionary\n",
    "data = {'Maths': 60, 'Science': 89, 'English': 76, 'Social Science': 86}\n",
    "\n",
    "# create a series from the dictionary\n",
    "marks_series = pd.Series(data, index = subjects)\n",
    "marks_series"
   ]
  },
  {
   "cell_type": "raw",
   "id": "21ea4d76",
   "metadata": {},
   "source": []
  },
  {
   "cell_type": "markdown",
   "id": "1f02b1d1",
   "metadata": {},
   "source": [
    "### Manipulating Series \n",
    "\n",
    "**To check for null values using `.isnull`**"
   ]
  },
  {
   "cell_type": "code",
   "execution_count": 18,
   "id": "bf842c03",
   "metadata": {},
   "outputs": [
    {
     "data": {
      "text/plain": [
       "Maths             False\n",
       "Science           False\n",
       "Art and Craft      True\n",
       "Social Science    False\n",
       "dtype: bool"
      ]
     },
     "execution_count": 18,
     "metadata": {},
     "output_type": "execute_result"
    }
   ],
   "source": [
    "# check for nulls in the data\n",
    "marks_series.isnull()"
   ]
  },
  {
   "cell_type": "markdown",
   "id": "04a42d67",
   "metadata": {},
   "source": [
    "`False` indicates that the value is not null."
   ]
  },
  {
   "cell_type": "markdown",
   "id": "a2c6b8d9",
   "metadata": {},
   "source": [
    "**To check for null values using `.notnull`**"
   ]
  },
  {
   "cell_type": "code",
   "execution_count": 19,
   "id": "cc1d4088",
   "metadata": {},
   "outputs": [
    {
     "data": {
      "text/plain": [
       "Maths              True\n",
       "Science            True\n",
       "Art and Craft     False\n",
       "Social Science     True\n",
       "dtype: bool"
      ]
     },
     "execution_count": 19,
     "metadata": {},
     "output_type": "execute_result"
    }
   ],
   "source": [
    "# check for nulls in the data\n",
    "marks_series.notnull()"
   ]
  },
  {
   "cell_type": "markdown",
   "id": "6c13010c",
   "metadata": {},
   "source": [
    "` True` indicates that the value is not null."
   ]
  },
  {
   "cell_type": "markdown",
   "id": "1b074b6c",
   "metadata": {},
   "source": [
    "**To know the subjects in which marks score is more than 75**"
   ]
  },
  {
   "cell_type": "code",
   "execution_count": 20,
   "id": "53c48361",
   "metadata": {},
   "outputs": [
    {
     "data": {
      "text/plain": [
       "Science           89.0\n",
       "Social Science    86.0\n",
       "dtype: float64"
      ]
     },
     "execution_count": 20,
     "metadata": {},
     "output_type": "execute_result"
    }
   ],
   "source": [
    "# check for marks more than 75\n",
    "marks_series[marks_series > 75]"
   ]
  },
  {
   "cell_type": "markdown",
   "id": "aaa3d982",
   "metadata": {},
   "source": [
    "**To assign 68 marks to 'Art and Craft'**"
   ]
  },
  {
   "cell_type": "code",
   "execution_count": 21,
   "id": "80dc4b4c",
   "metadata": {},
   "outputs": [
    {
     "data": {
      "text/plain": [
       "Maths             60.0\n",
       "Science           89.0\n",
       "Art and Craft      NaN\n",
       "Social Science    86.0\n",
       "dtype: float64"
      ]
     },
     "execution_count": 21,
     "metadata": {},
     "output_type": "execute_result"
    }
   ],
   "source": [
    "marks_series"
   ]
  },
  {
   "cell_type": "code",
   "execution_count": 22,
   "id": "9c47742f",
   "metadata": {},
   "outputs": [
    {
     "data": {
      "text/plain": [
       "Maths             60.0\n",
       "Science           89.0\n",
       "Art and Craft     68.0\n",
       "Social Science    86.0\n",
       "dtype: float64"
      ]
     },
     "execution_count": 22,
     "metadata": {},
     "output_type": "execute_result"
    }
   ],
   "source": [
    "# assign 68 marks to 'Art and Craft'\n",
    "marks_series['Art and Craft'] = 68\n",
    "marks_series"
   ]
  },
  {
   "cell_type": "markdown",
   "id": "f37e36c2",
   "metadata": {},
   "source": [
    "**To check whether Maths marks are 73**"
   ]
  },
  {
   "cell_type": "code",
   "execution_count": 23,
   "id": "8a70e459",
   "metadata": {},
   "outputs": [
    {
     "data": {
      "text/plain": [
       "False"
      ]
     },
     "execution_count": 23,
     "metadata": {},
     "output_type": "execute_result"
    }
   ],
   "source": [
    "# check whether Maths marks are 73\n",
    "marks_series.Maths == 73"
   ]
  },
  {
   "cell_type": "code",
   "execution_count": 24,
   "id": "3c5dcea6",
   "metadata": {},
   "outputs": [
    {
     "data": {
      "text/plain": [
       "False"
      ]
     },
     "execution_count": 24,
     "metadata": {},
     "output_type": "execute_result"
    }
   ],
   "source": [
    "# or you may use\n",
    "marks_series['Maths'] == 73"
   ]
  },
  {
   "cell_type": "markdown",
   "id": "3b102ec8",
   "metadata": {},
   "source": [
    "**To create a series by generating numpy random numbers**"
   ]
  },
  {
   "cell_type": "code",
   "execution_count": 25,
   "id": "fd8ca2ae",
   "metadata": {},
   "outputs": [
    {
     "data": {
      "text/plain": [
       "0     17\n",
       "1      2\n",
       "2      1\n",
       "3     16\n",
       "4     10\n",
       "5     14\n",
       "6     11\n",
       "7     10\n",
       "8      1\n",
       "9      3\n",
       "10     5\n",
       "11    19\n",
       "12     2\n",
       "13    11\n",
       "14     1\n",
       "15    14\n",
       "16     2\n",
       "17    12\n",
       "18    18\n",
       "19     6\n",
       "dtype: int32"
      ]
     },
     "execution_count": 25,
     "metadata": {},
     "output_type": "execute_result"
    }
   ],
   "source": [
    "# create the numbers series \n",
    "# generate a sequence of 20 random numbers using randint()\n",
    "num = np.random.randint(1, 20, 20)\n",
    "num = pd.Series(num)\n",
    "num"
   ]
  },
  {
   "cell_type": "code",
   "execution_count": 26,
   "id": "008eb7e9",
   "metadata": {},
   "outputs": [
    {
     "data": {
      "text/plain": [
       "0     294\n",
       "1       9\n",
       "2       6\n",
       "3     261\n",
       "4     105\n",
       "5     201\n",
       "6     126\n",
       "7     105\n",
       "8       6\n",
       "9      14\n",
       "10     30\n",
       "11    366\n",
       "12      9\n",
       "13    126\n",
       "14      6\n",
       "15    201\n",
       "16      9\n",
       "17    149\n",
       "18    329\n",
       "19     41\n",
       "dtype: int32"
      ]
     },
     "execution_count": 26,
     "metadata": {},
     "output_type": "execute_result"
    }
   ],
   "source": [
    "(num ** 2) + 5"
   ]
  },
  {
   "cell_type": "markdown",
   "id": "9ca6cdcb",
   "metadata": {},
   "source": [
    "**To find the square of the numbers series**"
   ]
  },
  {
   "cell_type": "code",
   "execution_count": 27,
   "id": "816ad1d6",
   "metadata": {},
   "outputs": [
    {
     "data": {
      "text/plain": [
       "0     289\n",
       "1       4\n",
       "2       1\n",
       "3     256\n",
       "4     100\n",
       "5     196\n",
       "6     121\n",
       "7     100\n",
       "8       1\n",
       "9       9\n",
       "10     25\n",
       "11    361\n",
       "12      4\n",
       "13    121\n",
       "14      1\n",
       "15    196\n",
       "16      4\n",
       "17    144\n",
       "18    324\n",
       "19     36\n",
       "dtype: int32"
      ]
     },
     "execution_count": 27,
     "metadata": {},
     "output_type": "execute_result"
    }
   ],
   "source": [
    "# declare a variable square \n",
    "# variable 'square' contains the \n",
    "square = pd.Series(num ** 2)\n",
    "square"
   ]
  },
  {
   "cell_type": "code",
   "execution_count": 28,
   "id": "08ac0590",
   "metadata": {},
   "outputs": [
    {
     "data": {
      "text/plain": [
       "17    289\n",
       "2       4\n",
       "1       1\n",
       "16    256\n",
       "10    100\n",
       "14    196\n",
       "11    121\n",
       "10    100\n",
       "1       1\n",
       "3       9\n",
       "5      25\n",
       "19    361\n",
       "2       4\n",
       "11    121\n",
       "1       1\n",
       "14    196\n",
       "2       4\n",
       "12    144\n",
       "18    324\n",
       "6      36\n",
       "dtype: int32"
      ]
     },
     "execution_count": 28,
     "metadata": {},
     "output_type": "execute_result"
    }
   ],
   "source": [
    "square.index = num\n",
    "square"
   ]
  },
  {
   "cell_type": "code",
   "execution_count": null,
   "id": "7cb99eee",
   "metadata": {},
   "outputs": [],
   "source": []
  },
  {
   "cell_type": "markdown",
   "id": "67945d18",
   "metadata": {},
   "source": [
    "**Add a number 5 to every element of the series**"
   ]
  },
  {
   "cell_type": "code",
   "execution_count": 29,
   "id": "346e3093",
   "metadata": {},
   "outputs": [
    {
     "data": {
      "text/plain": [
       "17    294\n",
       "2       9\n",
       "1       6\n",
       "16    261\n",
       "10    105\n",
       "14    201\n",
       "11    126\n",
       "10    105\n",
       "1       6\n",
       "3      14\n",
       "5      30\n",
       "19    366\n",
       "2       9\n",
       "11    126\n",
       "1       6\n",
       "14    201\n",
       "2       9\n",
       "12    149\n",
       "18    329\n",
       "6      41\n",
       "dtype: int32"
      ]
     },
     "execution_count": 29,
     "metadata": {},
     "output_type": "execute_result"
    }
   ],
   "source": [
    "# add 5 to each element\n",
    "square + 5"
   ]
  },
  {
   "cell_type": "markdown",
   "id": "e1bc22f3",
   "metadata": {},
   "source": [
    "The number 5 has been added to all the variables."
   ]
  },
  {
   "cell_type": "markdown",
   "id": "69cafc8c",
   "metadata": {},
   "source": [
    "**To extract a value specifying the index**"
   ]
  },
  {
   "cell_type": "code",
   "execution_count": 30,
   "id": "f7f1f6b0",
   "metadata": {},
   "outputs": [
    {
     "data": {
      "text/plain": [
       "25"
      ]
     },
     "execution_count": 30,
     "metadata": {},
     "output_type": "execute_result"
    }
   ],
   "source": [
    "# obtain the value having index 5\n",
    "square[5]"
   ]
  },
  {
   "cell_type": "markdown",
   "id": "e60e9289",
   "metadata": {},
   "source": [
    "All values with index as '14' are obtained"
   ]
  },
  {
   "cell_type": "markdown",
   "id": "9ed424fa",
   "metadata": {},
   "source": [
    "**To extract a range of values specifying the location**"
   ]
  },
  {
   "cell_type": "code",
   "execution_count": 31,
   "id": "8cfb9bc7",
   "metadata": {},
   "outputs": [
    {
     "data": {
      "text/plain": [
       "16    256\n",
       "10    100\n",
       "14    196\n",
       "11    121\n",
       "dtype: int32"
      ]
     },
     "execution_count": 31,
     "metadata": {},
     "output_type": "execute_result"
    }
   ],
   "source": [
    "# extract values having the location \n",
    "# obtain the values from the 3rd position till the 6th position\n",
    "# indexing starts from 0\n",
    "# the 7th position is not included\n",
    "square[3: 7]"
   ]
  },
  {
   "cell_type": "markdown",
   "id": "53b49750",
   "metadata": {},
   "source": [
    "**Usage of `.iloc`**\n",
    "\n",
    "We use `.iloc` to get the values of the specified index of numbers "
   ]
  },
  {
   "cell_type": "code",
   "execution_count": 32,
   "id": "d23dd205",
   "metadata": {},
   "outputs": [
    {
     "data": {
      "text/plain": [
       "100"
      ]
     },
     "execution_count": 32,
     "metadata": {},
     "output_type": "execute_result"
    }
   ],
   "source": [
    "# obtain the value in the 5th position\n",
    "square.iloc[4]"
   ]
  },
  {
   "cell_type": "code",
   "execution_count": 33,
   "id": "98d209ac",
   "metadata": {},
   "outputs": [
    {
     "data": {
      "text/plain": [
       "16    256\n",
       "10    100\n",
       "14    196\n",
       "11    121\n",
       "10    100\n",
       "1       1\n",
       "dtype: int32"
      ]
     },
     "execution_count": 33,
     "metadata": {},
     "output_type": "execute_result"
    }
   ],
   "source": [
    "# obtain the values from the 3rd till the 8th position\n",
    "# indexing starts from 0\n",
    "square.iloc[3:9]"
   ]
  },
  {
   "cell_type": "markdown",
   "id": "5eccd8c6",
   "metadata": {},
   "source": [
    "**Sorting a numeric series**"
   ]
  },
  {
   "cell_type": "code",
   "execution_count": 34,
   "id": "cf996f23",
   "metadata": {},
   "outputs": [
    {
     "data": {
      "text/plain": [
       "0    23.0\n",
       "1    45.0\n",
       "2     NaN\n",
       "3    41.0\n",
       "4    23.0\n",
       "5    34.0\n",
       "6    55.0\n",
       "7     NaN\n",
       "8    34.0\n",
       "9    20.0\n",
       "dtype: float64"
      ]
     },
     "execution_count": 34,
     "metadata": {},
     "output_type": "execute_result"
    }
   ],
   "source": [
    "# create a pandas series\n",
    "age = pd.Series([23, 45, np.nan, 41, 23, 34, 55, np.nan, 34, 20])\n",
    "\n",
    "# print values\n",
    "age"
   ]
  },
  {
   "cell_type": "code",
   "execution_count": 35,
   "id": "1f3722ba",
   "metadata": {},
   "outputs": [
    {
     "data": {
      "text/plain": [
       "9    20.0\n",
       "0    23.0\n",
       "4    23.0\n",
       "5    34.0\n",
       "8    34.0\n",
       "3    41.0\n",
       "1    45.0\n",
       "6    55.0\n",
       "2     NaN\n",
       "7     NaN\n",
       "dtype: float64"
      ]
     },
     "execution_count": 35,
     "metadata": {},
     "output_type": "execute_result"
    }
   ],
   "source": [
    "# ascending order\n",
    "# sort_values: sorts the values\n",
    "# ascending : if specified as True, it sorts values in ascending order (default value is True)\n",
    "age.sort_values(ascending = True)"
   ]
  },
  {
   "cell_type": "code",
   "execution_count": 36,
   "id": "57a29011",
   "metadata": {},
   "outputs": [
    {
     "data": {
      "text/plain": [
       "9    20.0\n",
       "0    23.0\n",
       "4    23.0\n",
       "5    34.0\n",
       "8    34.0\n",
       "3    41.0\n",
       "1    45.0\n",
       "6    55.0\n",
       "2     NaN\n",
       "7     NaN\n",
       "dtype: float64"
      ]
     },
     "execution_count": 36,
     "metadata": {},
     "output_type": "execute_result"
    }
   ],
   "source": [
    "age.sort_values()"
   ]
  },
  {
   "cell_type": "code",
   "execution_count": 37,
   "id": "720e2827",
   "metadata": {},
   "outputs": [
    {
     "data": {
      "text/plain": [
       "6    55.0\n",
       "1    45.0\n",
       "3    41.0\n",
       "5    34.0\n",
       "8    34.0\n",
       "0    23.0\n",
       "4    23.0\n",
       "9    20.0\n",
       "2     NaN\n",
       "7     NaN\n",
       "dtype: float64"
      ]
     },
     "execution_count": 37,
     "metadata": {},
     "output_type": "execute_result"
    }
   ],
   "source": [
    "# arrange in descending order\n",
    "# sort_values: sorts the values\n",
    "# ascending : if specified as True, it sorts values in ascending order (default value is True)\n",
    "# set ascending to False to sort the values in descending order\n",
    "age.sort_values(ascending = False)"
   ]
  },
  {
   "cell_type": "markdown",
   "id": "5c2998d0",
   "metadata": {},
   "source": [
    "**Sorting a categorical series**"
   ]
  },
  {
   "cell_type": "code",
   "execution_count": 38,
   "id": "4128f767",
   "metadata": {},
   "outputs": [
    {
     "data": {
      "text/plain": [
       "0    a\n",
       "1    j\n",
       "2    d\n",
       "3    f\n",
       "4    t\n",
       "5    a\n",
       "dtype: object"
      ]
     },
     "execution_count": 38,
     "metadata": {},
     "output_type": "execute_result"
    }
   ],
   "source": [
    "# create a pandas series\n",
    "string_values = pd.Series([\"a\", \"j\", \"d\", \"f\", \"t\", \"a\"])\n",
    "\n",
    "# print the values\n",
    "string_values"
   ]
  },
  {
   "cell_type": "code",
   "execution_count": 39,
   "id": "ad4a9ff1",
   "metadata": {},
   "outputs": [],
   "source": [
    "# ascending order\n",
    "# sort_values: sorts the values\n",
    "# ascending : if specified as True, it sorts values in ascending order (default value is True)\n"
   ]
  },
  {
   "cell_type": "code",
   "execution_count": 40,
   "id": "4d01e3ca",
   "metadata": {},
   "outputs": [],
   "source": [
    "# descending order\n",
    "# sort_values: sorts the values\n",
    "# ascending : if specified as True, it sorts values in ascending order (default value is True)\n",
    "# set ascending to False to sort the values in descending order\n"
   ]
  },
  {
   "cell_type": "markdown",
   "id": "8c123183",
   "metadata": {},
   "source": [
    "**Sorting based on index**"
   ]
  },
  {
   "cell_type": "code",
   "execution_count": 41,
   "id": "ea25f227",
   "metadata": {},
   "outputs": [
    {
     "data": {
      "text/plain": [
       "17    289\n",
       "2       4\n",
       "1       1\n",
       "16    256\n",
       "10    100\n",
       "14    196\n",
       "11    121\n",
       "10    100\n",
       "1       1\n",
       "3       9\n",
       "5      25\n",
       "19    361\n",
       "2       4\n",
       "11    121\n",
       "1       1\n",
       "14    196\n",
       "2       4\n",
       "12    144\n",
       "18    324\n",
       "6      36\n",
       "dtype: int32"
      ]
     },
     "execution_count": 41,
     "metadata": {},
     "output_type": "execute_result"
    }
   ],
   "source": [
    "# recall the series 'square'\n",
    "square"
   ]
  },
  {
   "cell_type": "code",
   "execution_count": 42,
   "id": "f625c3ba",
   "metadata": {},
   "outputs": [
    {
     "data": {
      "text/plain": [
       "1       1\n",
       "1       1\n",
       "1       1\n",
       "2       4\n",
       "2       4\n",
       "2       4\n",
       "3       9\n",
       "5      25\n",
       "6      36\n",
       "10    100\n",
       "10    100\n",
       "11    121\n",
       "11    121\n",
       "12    144\n",
       "14    196\n",
       "14    196\n",
       "16    256\n",
       "17    289\n",
       "18    324\n",
       "19    361\n",
       "dtype: int32"
      ]
     },
     "execution_count": 42,
     "metadata": {},
     "output_type": "execute_result"
    }
   ],
   "source": [
    "# sort in ascending order based on index\n",
    "# sort_index: sorts the series based on the index\n",
    "# ascending : if specified as True, it sorts values in ascending order (default value is True)\n",
    "square.sort_index(ascending = True)"
   ]
  },
  {
   "cell_type": "code",
   "execution_count": 43,
   "id": "0cc41c30",
   "metadata": {},
   "outputs": [],
   "source": [
    "# sort in descending order based on index\n",
    "# sort_index: sorts the series based on the index\n",
    "# ascending : if specified as True, it sorts values in ascending order (default value is True)\n",
    "# set ascending to False to sort the values in descending order\n"
   ]
  },
  {
   "cell_type": "markdown",
   "id": "8b0f02ac",
   "metadata": {},
   "source": [
    "**Rank a Series**"
   ]
  },
  {
   "cell_type": "code",
   "execution_count": 44,
   "id": "41ab4a78",
   "metadata": {},
   "outputs": [
    {
     "data": {
      "text/plain": [
       "Maths             60.0\n",
       "Science           89.0\n",
       "Art and Craft     68.0\n",
       "Social Science    86.0\n",
       "dtype: float64"
      ]
     },
     "execution_count": 44,
     "metadata": {},
     "output_type": "execute_result"
    }
   ],
   "source": [
    "# recall the marks_series\n",
    "marks_series"
   ]
  },
  {
   "cell_type": "code",
   "execution_count": 45,
   "id": "00f6ac1b",
   "metadata": {},
   "outputs": [
    {
     "data": {
      "text/plain": [
       "Maths             1.0\n",
       "Science           4.0\n",
       "Art and Craft     2.0\n",
       "Social Science    3.0\n",
       "dtype: float64"
      ]
     },
     "execution_count": 45,
     "metadata": {},
     "output_type": "execute_result"
    }
   ],
   "source": [
    "# rank the marks in ascending order\n",
    "# rank(): ranks the values of a series \n",
    "marks_series.rank()"
   ]
  },
  {
   "cell_type": "code",
   "execution_count": 46,
   "id": "5689f399",
   "metadata": {},
   "outputs": [
    {
     "data": {
      "text/plain": [
       "9    20.0\n",
       "0    23.0\n",
       "4    23.0\n",
       "5    34.0\n",
       "8    34.0\n",
       "3    41.0\n",
       "1    45.0\n",
       "6    55.0\n",
       "2     NaN\n",
       "7     NaN\n",
       "dtype: float64"
      ]
     },
     "execution_count": 46,
     "metadata": {},
     "output_type": "execute_result"
    }
   ],
   "source": [
    "age.sort_values()"
   ]
  },
  {
   "cell_type": "code",
   "execution_count": 47,
   "id": "7aaabbf5",
   "metadata": {},
   "outputs": [
    {
     "data": {
      "text/plain": [
       "9    1.0\n",
       "0    2.5\n",
       "4    2.5\n",
       "5    4.5\n",
       "8    4.5\n",
       "3    6.0\n",
       "1    7.0\n",
       "6    8.0\n",
       "2    NaN\n",
       "7    NaN\n",
       "dtype: float64"
      ]
     },
     "execution_count": 47,
     "metadata": {},
     "output_type": "execute_result"
    }
   ],
   "source": [
    "age.sort_values().rank()"
   ]
  },
  {
   "cell_type": "code",
   "execution_count": 48,
   "id": "e5a34268",
   "metadata": {},
   "outputs": [
    {
     "data": {
      "text/plain": [
       "9    1.0\n",
       "0    2.0\n",
       "4    2.0\n",
       "5    3.0\n",
       "8    3.0\n",
       "3    4.0\n",
       "1    5.0\n",
       "6    6.0\n",
       "2    NaN\n",
       "7    NaN\n",
       "dtype: float64"
      ]
     },
     "execution_count": 48,
     "metadata": {},
     "output_type": "execute_result"
    }
   ],
   "source": [
    "age.sort_values().rank(method = 'dense')"
   ]
  },
  {
   "cell_type": "code",
   "execution_count": 49,
   "id": "e168b0ec",
   "metadata": {},
   "outputs": [],
   "source": [
    "# rank the marks in descending order\n",
    "# rank(): ranks the values of a series \n",
    "# ascending : if specified as True, it sorts values in ascending order (default value is True)\n",
    "# set ascending to False to sort the values in descending order\n"
   ]
  },
  {
   "cell_type": "code",
   "execution_count": null,
   "id": "7c9032dd",
   "metadata": {},
   "outputs": [],
   "source": []
  },
  {
   "cell_type": "markdown",
   "id": "518d1220",
   "metadata": {},
   "source": [
    "# DataFrames"
   ]
  },
  {
   "cell_type": "markdown",
   "id": "dbbd9c1b",
   "metadata": {},
   "source": [
    "A DataFrame is a tabular representation of data containing an ordered collection of columns, each of which can be a different type (such as numeric, string, boolean).\n",
    "\n",
    "The DataFrame has both row and column index; it can be thought of as a dict of Series all sharing the same index. In a data frame, the data is stored as one or more two-dimensional blocks rather than a list, dict, or some other collection of one-dimensional arrays.\n",
    "\n",
    "While a DataFrame is physically two-dimensional, it can be used to represent higher dimensional data in a tabular format using hierarchical indexing."
   ]
  },
  {
   "cell_type": "markdown",
   "id": "35b0860a",
   "metadata": {},
   "source": [
    "### Creating DataFrames\n",
    "\n",
    "**1. Creating a data frame a dictionary**"
   ]
  },
  {
   "cell_type": "code",
   "execution_count": 50,
   "id": "b9e53d03",
   "metadata": {},
   "outputs": [
    {
     "data": {
      "text/html": [
       "<div>\n",
       "<style scoped>\n",
       "    .dataframe tbody tr th:only-of-type {\n",
       "        vertical-align: middle;\n",
       "    }\n",
       "\n",
       "    .dataframe tbody tr th {\n",
       "        vertical-align: top;\n",
       "    }\n",
       "\n",
       "    .dataframe thead th {\n",
       "        text-align: right;\n",
       "    }\n",
       "</style>\n",
       "<table border=\"1\" class=\"dataframe\">\n",
       "  <thead>\n",
       "    <tr style=\"text-align: right;\">\n",
       "      <th></th>\n",
       "      <th>Subject</th>\n",
       "      <th>Marks</th>\n",
       "      <th>GPA</th>\n",
       "    </tr>\n",
       "  </thead>\n",
       "  <tbody>\n",
       "    <tr>\n",
       "      <th>0</th>\n",
       "      <td>Maths</td>\n",
       "      <td>45</td>\n",
       "      <td>2.5</td>\n",
       "    </tr>\n",
       "    <tr>\n",
       "      <th>1</th>\n",
       "      <td>History</td>\n",
       "      <td>65</td>\n",
       "      <td>3.0</td>\n",
       "    </tr>\n",
       "    <tr>\n",
       "      <th>2</th>\n",
       "      <td>Science</td>\n",
       "      <td>78</td>\n",
       "      <td>3.5</td>\n",
       "    </tr>\n",
       "    <tr>\n",
       "      <th>3</th>\n",
       "      <td>English</td>\n",
       "      <td>65</td>\n",
       "      <td>2.0</td>\n",
       "    </tr>\n",
       "    <tr>\n",
       "      <th>4</th>\n",
       "      <td>Georaphy</td>\n",
       "      <td>80</td>\n",
       "      <td>4.0</td>\n",
       "    </tr>\n",
       "    <tr>\n",
       "      <th>5</th>\n",
       "      <td>Art</td>\n",
       "      <td>78</td>\n",
       "      <td>4.0</td>\n",
       "    </tr>\n",
       "  </tbody>\n",
       "</table>\n",
       "</div>"
      ],
      "text/plain": [
       "    Subject  Marks  GPA\n",
       "0     Maths     45  2.5\n",
       "1   History     65  3.0\n",
       "2   Science     78  3.5\n",
       "3   English     65  2.0\n",
       "4  Georaphy     80  4.0\n",
       "5       Art     78  4.0"
      ]
     },
     "execution_count": 50,
     "metadata": {},
     "output_type": "execute_result"
    }
   ],
   "source": [
    "# create a dictionary\n",
    "data = {'Subject': ['Maths', 'History', 'Science', 'English', 'Georaphy', 'Art'],\n",
    "        'Marks': (45, 65, 78, 65, 80, 78),\n",
    "        'GPA': [2.5, 3.0, 3.5, 2.0, 4.0, 4.0]}\n",
    "\n",
    "# create the dataframe using DataFrame()\n",
    "df_data = pd.DataFrame(data)\n",
    "df_data"
   ]
  },
  {
   "cell_type": "code",
   "execution_count": null,
   "id": "c6c62ed1",
   "metadata": {},
   "outputs": [],
   "source": []
  },
  {
   "cell_type": "markdown",
   "id": "b74a8d7a",
   "metadata": {},
   "source": [
    "**To create dataframe from lists**"
   ]
  },
  {
   "cell_type": "code",
   "execution_count": 51,
   "id": "92b7ef3f",
   "metadata": {},
   "outputs": [
    {
     "data": {
      "text/html": [
       "<div>\n",
       "<style scoped>\n",
       "    .dataframe tbody tr th:only-of-type {\n",
       "        vertical-align: middle;\n",
       "    }\n",
       "\n",
       "    .dataframe tbody tr th {\n",
       "        vertical-align: top;\n",
       "    }\n",
       "\n",
       "    .dataframe thead th {\n",
       "        text-align: right;\n",
       "    }\n",
       "</style>\n",
       "<table border=\"1\" class=\"dataframe\">\n",
       "  <thead>\n",
       "    <tr style=\"text-align: right;\">\n",
       "      <th></th>\n",
       "      <th>0</th>\n",
       "      <th>1</th>\n",
       "      <th>2</th>\n",
       "      <th>3</th>\n",
       "      <th>4</th>\n",
       "      <th>5</th>\n",
       "    </tr>\n",
       "  </thead>\n",
       "  <tbody>\n",
       "    <tr>\n",
       "      <th>Subject</th>\n",
       "      <td>Maths</td>\n",
       "      <td>History</td>\n",
       "      <td>Science</td>\n",
       "      <td>English</td>\n",
       "      <td>Georaphy</td>\n",
       "      <td>Art</td>\n",
       "    </tr>\n",
       "    <tr>\n",
       "      <th>Marks</th>\n",
       "      <td>45</td>\n",
       "      <td>65</td>\n",
       "      <td>78</td>\n",
       "      <td>65</td>\n",
       "      <td>80</td>\n",
       "      <td>78</td>\n",
       "    </tr>\n",
       "    <tr>\n",
       "      <th>GPA</th>\n",
       "      <td>2.5</td>\n",
       "      <td>3.0</td>\n",
       "      <td>3.5</td>\n",
       "      <td>2.0</td>\n",
       "      <td>4.0</td>\n",
       "      <td>4.0</td>\n",
       "    </tr>\n",
       "  </tbody>\n",
       "</table>\n",
       "</div>"
      ],
      "text/plain": [
       "             0        1        2        3         4    5\n",
       "Subject  Maths  History  Science  English  Georaphy  Art\n",
       "Marks       45       65       78       65        80   78\n",
       "GPA        2.5      3.0      3.5      2.0       4.0  4.0"
      ]
     },
     "execution_count": 51,
     "metadata": {},
     "output_type": "execute_result"
    }
   ],
   "source": [
    "# declare the list 'Subject'\n",
    "Subject = ['Maths', 'History', 'Science', 'English', 'Georaphy', 'Art']\n",
    "\n",
    "# declare the list 'Marks'\n",
    "Marks = [45, 65, 78, 65, 80, 78]\n",
    "\n",
    "# declare the list 'CPA'\n",
    "GPA = [2.5, 3.0, 3.5, 2.0, 4.0, 4.0]\n",
    "\n",
    "# create a DataFrame from the lists\n",
    "# index: specifies the index names\n",
    "df_marks = pd.DataFrame([Subject, Marks, GPA], index = ['Subject','Marks','GPA'])\n",
    "\n",
    "# print the DataFrame\n",
    "df_marks"
   ]
  },
  {
   "cell_type": "markdown",
   "id": "f6878079",
   "metadata": {},
   "source": [
    "However to want a vertical dataframe so we use `.T`. The 'T' stands for transpose."
   ]
  },
  {
   "cell_type": "code",
   "execution_count": 52,
   "id": "711bb1a6",
   "metadata": {},
   "outputs": [
    {
     "data": {
      "text/html": [
       "<div>\n",
       "<style scoped>\n",
       "    .dataframe tbody tr th:only-of-type {\n",
       "        vertical-align: middle;\n",
       "    }\n",
       "\n",
       "    .dataframe tbody tr th {\n",
       "        vertical-align: top;\n",
       "    }\n",
       "\n",
       "    .dataframe thead th {\n",
       "        text-align: right;\n",
       "    }\n",
       "</style>\n",
       "<table border=\"1\" class=\"dataframe\">\n",
       "  <thead>\n",
       "    <tr style=\"text-align: right;\">\n",
       "      <th></th>\n",
       "      <th>Subject</th>\n",
       "      <th>Marks</th>\n",
       "      <th>GPA</th>\n",
       "    </tr>\n",
       "  </thead>\n",
       "  <tbody>\n",
       "    <tr>\n",
       "      <th>0</th>\n",
       "      <td>Maths</td>\n",
       "      <td>45</td>\n",
       "      <td>2.5</td>\n",
       "    </tr>\n",
       "    <tr>\n",
       "      <th>1</th>\n",
       "      <td>History</td>\n",
       "      <td>65</td>\n",
       "      <td>3.0</td>\n",
       "    </tr>\n",
       "    <tr>\n",
       "      <th>2</th>\n",
       "      <td>Science</td>\n",
       "      <td>78</td>\n",
       "      <td>3.5</td>\n",
       "    </tr>\n",
       "    <tr>\n",
       "      <th>3</th>\n",
       "      <td>English</td>\n",
       "      <td>65</td>\n",
       "      <td>2.0</td>\n",
       "    </tr>\n",
       "    <tr>\n",
       "      <th>4</th>\n",
       "      <td>Georaphy</td>\n",
       "      <td>80</td>\n",
       "      <td>4.0</td>\n",
       "    </tr>\n",
       "    <tr>\n",
       "      <th>5</th>\n",
       "      <td>Art</td>\n",
       "      <td>78</td>\n",
       "      <td>4.0</td>\n",
       "    </tr>\n",
       "  </tbody>\n",
       "</table>\n",
       "</div>"
      ],
      "text/plain": [
       "    Subject Marks  GPA\n",
       "0     Maths    45  2.5\n",
       "1   History    65  3.0\n",
       "2   Science    78  3.5\n",
       "3   English    65  2.0\n",
       "4  Georaphy    80  4.0\n",
       "5       Art    78  4.0"
      ]
     },
     "execution_count": 52,
     "metadata": {},
     "output_type": "execute_result"
    }
   ],
   "source": [
    "# transpose the DataFrame\n",
    "df_marks.T"
   ]
  },
  {
   "cell_type": "markdown",
   "id": "967e2296",
   "metadata": {},
   "source": [
    "**To create dataframe from series**"
   ]
  },
  {
   "cell_type": "code",
   "execution_count": 53,
   "id": "77bb8189",
   "metadata": {},
   "outputs": [
    {
     "data": {
      "text/html": [
       "<div>\n",
       "<style scoped>\n",
       "    .dataframe tbody tr th:only-of-type {\n",
       "        vertical-align: middle;\n",
       "    }\n",
       "\n",
       "    .dataframe tbody tr th {\n",
       "        vertical-align: top;\n",
       "    }\n",
       "\n",
       "    .dataframe thead th {\n",
       "        text-align: right;\n",
       "    }\n",
       "</style>\n",
       "<table border=\"1\" class=\"dataframe\">\n",
       "  <thead>\n",
       "    <tr style=\"text-align: right;\">\n",
       "      <th></th>\n",
       "      <th>0</th>\n",
       "      <th>1</th>\n",
       "      <th>2</th>\n",
       "      <th>3</th>\n",
       "      <th>4</th>\n",
       "      <th>5</th>\n",
       "    </tr>\n",
       "  </thead>\n",
       "  <tbody>\n",
       "    <tr>\n",
       "      <th>Subject</th>\n",
       "      <td>Maths</td>\n",
       "      <td>History</td>\n",
       "      <td>Science</td>\n",
       "      <td>English</td>\n",
       "      <td>Georaphy</td>\n",
       "      <td>Art</td>\n",
       "    </tr>\n",
       "    <tr>\n",
       "      <th>Marks</th>\n",
       "      <td>45</td>\n",
       "      <td>65</td>\n",
       "      <td>78</td>\n",
       "      <td>65</td>\n",
       "      <td>80</td>\n",
       "      <td>78</td>\n",
       "    </tr>\n",
       "    <tr>\n",
       "      <th>GPA</th>\n",
       "      <td>2.5</td>\n",
       "      <td>3.0</td>\n",
       "      <td>3.5</td>\n",
       "      <td>2.0</td>\n",
       "      <td>4.0</td>\n",
       "      <td>4.0</td>\n",
       "    </tr>\n",
       "  </tbody>\n",
       "</table>\n",
       "</div>"
      ],
      "text/plain": [
       "             0        1        2        3         4    5\n",
       "Subject  Maths  History  Science  English  Georaphy  Art\n",
       "Marks       45       65       78       65        80   78\n",
       "GPA        2.5      3.0      3.5      2.0       4.0  4.0"
      ]
     },
     "execution_count": 53,
     "metadata": {},
     "output_type": "execute_result"
    }
   ],
   "source": [
    "# declare the series 'Subject'\n",
    "Subject = pd.Series(['Maths', 'History', 'Science', 'English', 'Georaphy', 'Art'])\n",
    "\n",
    "# declare the series 'Marks'\n",
    "Marks = pd.Series([45, 65, 78, 65, 80, 78])\n",
    "\n",
    "# declare the series 'GPA'\n",
    "GPA = pd.Series([2.5, 3.0, 3.5, 2.0, 4.0, 4.0])\n",
    "\n",
    "# create a DataFrame from the Series\n",
    "# index: specifies the index names\n",
    "df_marks = pd.DataFrame([Subject, Marks, GPA], index = ['Subject','Marks','GPA'])\n",
    "\n",
    "# print the DataFrame\n",
    "df_marks"
   ]
  },
  {
   "cell_type": "markdown",
   "id": "8dc5414b",
   "metadata": {},
   "source": [
    "However to want a vertical dataframe so we use `.T`. The 'T' stands for transpose."
   ]
  },
  {
   "cell_type": "code",
   "execution_count": 54,
   "id": "122c77e6",
   "metadata": {},
   "outputs": [
    {
     "data": {
      "text/html": [
       "<div>\n",
       "<style scoped>\n",
       "    .dataframe tbody tr th:only-of-type {\n",
       "        vertical-align: middle;\n",
       "    }\n",
       "\n",
       "    .dataframe tbody tr th {\n",
       "        vertical-align: top;\n",
       "    }\n",
       "\n",
       "    .dataframe thead th {\n",
       "        text-align: right;\n",
       "    }\n",
       "</style>\n",
       "<table border=\"1\" class=\"dataframe\">\n",
       "  <thead>\n",
       "    <tr style=\"text-align: right;\">\n",
       "      <th></th>\n",
       "      <th>Subject</th>\n",
       "      <th>Marks</th>\n",
       "      <th>GPA</th>\n",
       "    </tr>\n",
       "  </thead>\n",
       "  <tbody>\n",
       "    <tr>\n",
       "      <th>0</th>\n",
       "      <td>Maths</td>\n",
       "      <td>45</td>\n",
       "      <td>2.5</td>\n",
       "    </tr>\n",
       "    <tr>\n",
       "      <th>1</th>\n",
       "      <td>History</td>\n",
       "      <td>65</td>\n",
       "      <td>3.0</td>\n",
       "    </tr>\n",
       "    <tr>\n",
       "      <th>2</th>\n",
       "      <td>Science</td>\n",
       "      <td>78</td>\n",
       "      <td>3.5</td>\n",
       "    </tr>\n",
       "    <tr>\n",
       "      <th>3</th>\n",
       "      <td>English</td>\n",
       "      <td>65</td>\n",
       "      <td>2.0</td>\n",
       "    </tr>\n",
       "    <tr>\n",
       "      <th>4</th>\n",
       "      <td>Georaphy</td>\n",
       "      <td>80</td>\n",
       "      <td>4.0</td>\n",
       "    </tr>\n",
       "    <tr>\n",
       "      <th>5</th>\n",
       "      <td>Art</td>\n",
       "      <td>78</td>\n",
       "      <td>4.0</td>\n",
       "    </tr>\n",
       "  </tbody>\n",
       "</table>\n",
       "</div>"
      ],
      "text/plain": [
       "    Subject Marks  GPA\n",
       "0     Maths    45  2.5\n",
       "1   History    65  3.0\n",
       "2   Science    78  3.5\n",
       "3   English    65  2.0\n",
       "4  Georaphy    80  4.0\n",
       "5       Art    78  4.0"
      ]
     },
     "execution_count": 54,
     "metadata": {},
     "output_type": "execute_result"
    }
   ],
   "source": [
    "# transpose the DataFrame\n",
    "df_marks.T"
   ]
  },
  {
   "cell_type": "code",
   "execution_count": 55,
   "id": "858d041c",
   "metadata": {},
   "outputs": [
    {
     "data": {
      "text/html": [
       "<div>\n",
       "<style scoped>\n",
       "    .dataframe tbody tr th:only-of-type {\n",
       "        vertical-align: middle;\n",
       "    }\n",
       "\n",
       "    .dataframe tbody tr th {\n",
       "        vertical-align: top;\n",
       "    }\n",
       "\n",
       "    .dataframe thead th {\n",
       "        text-align: right;\n",
       "    }\n",
       "</style>\n",
       "<table border=\"1\" class=\"dataframe\">\n",
       "  <thead>\n",
       "    <tr style=\"text-align: right;\">\n",
       "      <th></th>\n",
       "      <th>Subject</th>\n",
       "      <th>Marks</th>\n",
       "      <th>GPA</th>\n",
       "      <th>Marks into GPA</th>\n",
       "    </tr>\n",
       "  </thead>\n",
       "  <tbody>\n",
       "    <tr>\n",
       "      <th>0</th>\n",
       "      <td>Maths</td>\n",
       "      <td>45</td>\n",
       "      <td>2.5</td>\n",
       "      <td>112.5</td>\n",
       "    </tr>\n",
       "    <tr>\n",
       "      <th>1</th>\n",
       "      <td>History</td>\n",
       "      <td>65</td>\n",
       "      <td>3.0</td>\n",
       "      <td>195.0</td>\n",
       "    </tr>\n",
       "    <tr>\n",
       "      <th>2</th>\n",
       "      <td>Science</td>\n",
       "      <td>78</td>\n",
       "      <td>3.5</td>\n",
       "      <td>273.0</td>\n",
       "    </tr>\n",
       "    <tr>\n",
       "      <th>3</th>\n",
       "      <td>English</td>\n",
       "      <td>65</td>\n",
       "      <td>2.0</td>\n",
       "      <td>130.0</td>\n",
       "    </tr>\n",
       "    <tr>\n",
       "      <th>4</th>\n",
       "      <td>Georaphy</td>\n",
       "      <td>80</td>\n",
       "      <td>4.0</td>\n",
       "      <td>320.0</td>\n",
       "    </tr>\n",
       "    <tr>\n",
       "      <th>5</th>\n",
       "      <td>Art</td>\n",
       "      <td>78</td>\n",
       "      <td>4.0</td>\n",
       "      <td>312.0</td>\n",
       "    </tr>\n",
       "  </tbody>\n",
       "</table>\n",
       "</div>"
      ],
      "text/plain": [
       "    Subject  Marks  GPA  Marks into GPA\n",
       "0     Maths     45  2.5           112.5\n",
       "1   History     65  3.0           195.0\n",
       "2   Science     78  3.5           273.0\n",
       "3   English     65  2.0           130.0\n",
       "4  Georaphy     80  4.0           320.0\n",
       "5       Art     78  4.0           312.0"
      ]
     },
     "execution_count": 55,
     "metadata": {},
     "output_type": "execute_result"
    }
   ],
   "source": [
    "df_data['Marks into GPA'] = df_data['Marks'] * df_data['GPA']\n",
    "df_data"
   ]
  },
  {
   "cell_type": "markdown",
   "id": "0681447d",
   "metadata": {},
   "source": [
    "**Remark:** Assign a name to the data frame and then use `.T` to transpose it."
   ]
  },
  {
   "cell_type": "markdown",
   "id": "4af1b613",
   "metadata": {},
   "source": [
    "**To read data from csv file**"
   ]
  },
  {
   "cell_type": "code",
   "execution_count": 56,
   "id": "ad78f322",
   "metadata": {},
   "outputs": [
    {
     "ename": "FileNotFoundError",
     "evalue": "[Errno 2] No such file or directory: 'D:/Samatrix/Python/Notes/Pandas/basic_info.csv'",
     "output_type": "error",
     "traceback": [
      "\u001b[1;31m---------------------------------------------------------------------------\u001b[0m",
      "\u001b[1;31mFileNotFoundError\u001b[0m                         Traceback (most recent call last)",
      "Cell \u001b[1;32mIn[56], line 1\u001b[0m\n\u001b[1;32m----> 1\u001b[0m df_basic_info \u001b[38;5;241m=\u001b[39m \u001b[43mpd\u001b[49m\u001b[38;5;241;43m.\u001b[39;49m\u001b[43mread_csv\u001b[49m\u001b[43m(\u001b[49m\u001b[38;5;124;43m\"\u001b[39;49m\u001b[38;5;124;43mD:/Samatrix/Python/Notes/Pandas/basic_info.csv\u001b[39;49m\u001b[38;5;124;43m\"\u001b[39;49m\u001b[43m)\u001b[49m\n",
      "File \u001b[1;32m~\\AppData\\Local\\Packages\\PythonSoftwareFoundation.Python.3.11_qbz5n2kfra8p0\\LocalCache\\local-packages\\Python311\\site-packages\\pandas\\io\\parsers\\readers.py:948\u001b[0m, in \u001b[0;36mread_csv\u001b[1;34m(filepath_or_buffer, sep, delimiter, header, names, index_col, usecols, dtype, engine, converters, true_values, false_values, skipinitialspace, skiprows, skipfooter, nrows, na_values, keep_default_na, na_filter, verbose, skip_blank_lines, parse_dates, infer_datetime_format, keep_date_col, date_parser, date_format, dayfirst, cache_dates, iterator, chunksize, compression, thousands, decimal, lineterminator, quotechar, quoting, doublequote, escapechar, comment, encoding, encoding_errors, dialect, on_bad_lines, delim_whitespace, low_memory, memory_map, float_precision, storage_options, dtype_backend)\u001b[0m\n\u001b[0;32m    935\u001b[0m kwds_defaults \u001b[38;5;241m=\u001b[39m _refine_defaults_read(\n\u001b[0;32m    936\u001b[0m     dialect,\n\u001b[0;32m    937\u001b[0m     delimiter,\n\u001b[1;32m   (...)\u001b[0m\n\u001b[0;32m    944\u001b[0m     dtype_backend\u001b[38;5;241m=\u001b[39mdtype_backend,\n\u001b[0;32m    945\u001b[0m )\n\u001b[0;32m    946\u001b[0m kwds\u001b[38;5;241m.\u001b[39mupdate(kwds_defaults)\n\u001b[1;32m--> 948\u001b[0m \u001b[38;5;28;01mreturn\u001b[39;00m \u001b[43m_read\u001b[49m\u001b[43m(\u001b[49m\u001b[43mfilepath_or_buffer\u001b[49m\u001b[43m,\u001b[49m\u001b[43m \u001b[49m\u001b[43mkwds\u001b[49m\u001b[43m)\u001b[49m\n",
      "File \u001b[1;32m~\\AppData\\Local\\Packages\\PythonSoftwareFoundation.Python.3.11_qbz5n2kfra8p0\\LocalCache\\local-packages\\Python311\\site-packages\\pandas\\io\\parsers\\readers.py:611\u001b[0m, in \u001b[0;36m_read\u001b[1;34m(filepath_or_buffer, kwds)\u001b[0m\n\u001b[0;32m    608\u001b[0m _validate_names(kwds\u001b[38;5;241m.\u001b[39mget(\u001b[38;5;124m\"\u001b[39m\u001b[38;5;124mnames\u001b[39m\u001b[38;5;124m\"\u001b[39m, \u001b[38;5;28;01mNone\u001b[39;00m))\n\u001b[0;32m    610\u001b[0m \u001b[38;5;66;03m# Create the parser.\u001b[39;00m\n\u001b[1;32m--> 611\u001b[0m parser \u001b[38;5;241m=\u001b[39m \u001b[43mTextFileReader\u001b[49m\u001b[43m(\u001b[49m\u001b[43mfilepath_or_buffer\u001b[49m\u001b[43m,\u001b[49m\u001b[43m \u001b[49m\u001b[38;5;241;43m*\u001b[39;49m\u001b[38;5;241;43m*\u001b[39;49m\u001b[43mkwds\u001b[49m\u001b[43m)\u001b[49m\n\u001b[0;32m    613\u001b[0m \u001b[38;5;28;01mif\u001b[39;00m chunksize \u001b[38;5;129;01mor\u001b[39;00m iterator:\n\u001b[0;32m    614\u001b[0m     \u001b[38;5;28;01mreturn\u001b[39;00m parser\n",
      "File \u001b[1;32m~\\AppData\\Local\\Packages\\PythonSoftwareFoundation.Python.3.11_qbz5n2kfra8p0\\LocalCache\\local-packages\\Python311\\site-packages\\pandas\\io\\parsers\\readers.py:1448\u001b[0m, in \u001b[0;36mTextFileReader.__init__\u001b[1;34m(self, f, engine, **kwds)\u001b[0m\n\u001b[0;32m   1445\u001b[0m     \u001b[38;5;28mself\u001b[39m\u001b[38;5;241m.\u001b[39moptions[\u001b[38;5;124m\"\u001b[39m\u001b[38;5;124mhas_index_names\u001b[39m\u001b[38;5;124m\"\u001b[39m] \u001b[38;5;241m=\u001b[39m kwds[\u001b[38;5;124m\"\u001b[39m\u001b[38;5;124mhas_index_names\u001b[39m\u001b[38;5;124m\"\u001b[39m]\n\u001b[0;32m   1447\u001b[0m \u001b[38;5;28mself\u001b[39m\u001b[38;5;241m.\u001b[39mhandles: IOHandles \u001b[38;5;241m|\u001b[39m \u001b[38;5;28;01mNone\u001b[39;00m \u001b[38;5;241m=\u001b[39m \u001b[38;5;28;01mNone\u001b[39;00m\n\u001b[1;32m-> 1448\u001b[0m \u001b[38;5;28mself\u001b[39m\u001b[38;5;241m.\u001b[39m_engine \u001b[38;5;241m=\u001b[39m \u001b[38;5;28;43mself\u001b[39;49m\u001b[38;5;241;43m.\u001b[39;49m\u001b[43m_make_engine\u001b[49m\u001b[43m(\u001b[49m\u001b[43mf\u001b[49m\u001b[43m,\u001b[49m\u001b[43m \u001b[49m\u001b[38;5;28;43mself\u001b[39;49m\u001b[38;5;241;43m.\u001b[39;49m\u001b[43mengine\u001b[49m\u001b[43m)\u001b[49m\n",
      "File \u001b[1;32m~\\AppData\\Local\\Packages\\PythonSoftwareFoundation.Python.3.11_qbz5n2kfra8p0\\LocalCache\\local-packages\\Python311\\site-packages\\pandas\\io\\parsers\\readers.py:1705\u001b[0m, in \u001b[0;36mTextFileReader._make_engine\u001b[1;34m(self, f, engine)\u001b[0m\n\u001b[0;32m   1703\u001b[0m     \u001b[38;5;28;01mif\u001b[39;00m \u001b[38;5;124m\"\u001b[39m\u001b[38;5;124mb\u001b[39m\u001b[38;5;124m\"\u001b[39m \u001b[38;5;129;01mnot\u001b[39;00m \u001b[38;5;129;01min\u001b[39;00m mode:\n\u001b[0;32m   1704\u001b[0m         mode \u001b[38;5;241m+\u001b[39m\u001b[38;5;241m=\u001b[39m \u001b[38;5;124m\"\u001b[39m\u001b[38;5;124mb\u001b[39m\u001b[38;5;124m\"\u001b[39m\n\u001b[1;32m-> 1705\u001b[0m \u001b[38;5;28mself\u001b[39m\u001b[38;5;241m.\u001b[39mhandles \u001b[38;5;241m=\u001b[39m \u001b[43mget_handle\u001b[49m\u001b[43m(\u001b[49m\n\u001b[0;32m   1706\u001b[0m \u001b[43m    \u001b[49m\u001b[43mf\u001b[49m\u001b[43m,\u001b[49m\n\u001b[0;32m   1707\u001b[0m \u001b[43m    \u001b[49m\u001b[43mmode\u001b[49m\u001b[43m,\u001b[49m\n\u001b[0;32m   1708\u001b[0m \u001b[43m    \u001b[49m\u001b[43mencoding\u001b[49m\u001b[38;5;241;43m=\u001b[39;49m\u001b[38;5;28;43mself\u001b[39;49m\u001b[38;5;241;43m.\u001b[39;49m\u001b[43moptions\u001b[49m\u001b[38;5;241;43m.\u001b[39;49m\u001b[43mget\u001b[49m\u001b[43m(\u001b[49m\u001b[38;5;124;43m\"\u001b[39;49m\u001b[38;5;124;43mencoding\u001b[39;49m\u001b[38;5;124;43m\"\u001b[39;49m\u001b[43m,\u001b[49m\u001b[43m \u001b[49m\u001b[38;5;28;43;01mNone\u001b[39;49;00m\u001b[43m)\u001b[49m\u001b[43m,\u001b[49m\n\u001b[0;32m   1709\u001b[0m \u001b[43m    \u001b[49m\u001b[43mcompression\u001b[49m\u001b[38;5;241;43m=\u001b[39;49m\u001b[38;5;28;43mself\u001b[39;49m\u001b[38;5;241;43m.\u001b[39;49m\u001b[43moptions\u001b[49m\u001b[38;5;241;43m.\u001b[39;49m\u001b[43mget\u001b[49m\u001b[43m(\u001b[49m\u001b[38;5;124;43m\"\u001b[39;49m\u001b[38;5;124;43mcompression\u001b[39;49m\u001b[38;5;124;43m\"\u001b[39;49m\u001b[43m,\u001b[49m\u001b[43m \u001b[49m\u001b[38;5;28;43;01mNone\u001b[39;49;00m\u001b[43m)\u001b[49m\u001b[43m,\u001b[49m\n\u001b[0;32m   1710\u001b[0m \u001b[43m    \u001b[49m\u001b[43mmemory_map\u001b[49m\u001b[38;5;241;43m=\u001b[39;49m\u001b[38;5;28;43mself\u001b[39;49m\u001b[38;5;241;43m.\u001b[39;49m\u001b[43moptions\u001b[49m\u001b[38;5;241;43m.\u001b[39;49m\u001b[43mget\u001b[49m\u001b[43m(\u001b[49m\u001b[38;5;124;43m\"\u001b[39;49m\u001b[38;5;124;43mmemory_map\u001b[39;49m\u001b[38;5;124;43m\"\u001b[39;49m\u001b[43m,\u001b[49m\u001b[43m \u001b[49m\u001b[38;5;28;43;01mFalse\u001b[39;49;00m\u001b[43m)\u001b[49m\u001b[43m,\u001b[49m\n\u001b[0;32m   1711\u001b[0m \u001b[43m    \u001b[49m\u001b[43mis_text\u001b[49m\u001b[38;5;241;43m=\u001b[39;49m\u001b[43mis_text\u001b[49m\u001b[43m,\u001b[49m\n\u001b[0;32m   1712\u001b[0m \u001b[43m    \u001b[49m\u001b[43merrors\u001b[49m\u001b[38;5;241;43m=\u001b[39;49m\u001b[38;5;28;43mself\u001b[39;49m\u001b[38;5;241;43m.\u001b[39;49m\u001b[43moptions\u001b[49m\u001b[38;5;241;43m.\u001b[39;49m\u001b[43mget\u001b[49m\u001b[43m(\u001b[49m\u001b[38;5;124;43m\"\u001b[39;49m\u001b[38;5;124;43mencoding_errors\u001b[39;49m\u001b[38;5;124;43m\"\u001b[39;49m\u001b[43m,\u001b[49m\u001b[43m \u001b[49m\u001b[38;5;124;43m\"\u001b[39;49m\u001b[38;5;124;43mstrict\u001b[39;49m\u001b[38;5;124;43m\"\u001b[39;49m\u001b[43m)\u001b[49m\u001b[43m,\u001b[49m\n\u001b[0;32m   1713\u001b[0m \u001b[43m    \u001b[49m\u001b[43mstorage_options\u001b[49m\u001b[38;5;241;43m=\u001b[39;49m\u001b[38;5;28;43mself\u001b[39;49m\u001b[38;5;241;43m.\u001b[39;49m\u001b[43moptions\u001b[49m\u001b[38;5;241;43m.\u001b[39;49m\u001b[43mget\u001b[49m\u001b[43m(\u001b[49m\u001b[38;5;124;43m\"\u001b[39;49m\u001b[38;5;124;43mstorage_options\u001b[39;49m\u001b[38;5;124;43m\"\u001b[39;49m\u001b[43m,\u001b[49m\u001b[43m \u001b[49m\u001b[38;5;28;43;01mNone\u001b[39;49;00m\u001b[43m)\u001b[49m\u001b[43m,\u001b[49m\n\u001b[0;32m   1714\u001b[0m \u001b[43m\u001b[49m\u001b[43m)\u001b[49m\n\u001b[0;32m   1715\u001b[0m \u001b[38;5;28;01massert\u001b[39;00m \u001b[38;5;28mself\u001b[39m\u001b[38;5;241m.\u001b[39mhandles \u001b[38;5;129;01mis\u001b[39;00m \u001b[38;5;129;01mnot\u001b[39;00m \u001b[38;5;28;01mNone\u001b[39;00m\n\u001b[0;32m   1716\u001b[0m f \u001b[38;5;241m=\u001b[39m \u001b[38;5;28mself\u001b[39m\u001b[38;5;241m.\u001b[39mhandles\u001b[38;5;241m.\u001b[39mhandle\n",
      "File \u001b[1;32m~\\AppData\\Local\\Packages\\PythonSoftwareFoundation.Python.3.11_qbz5n2kfra8p0\\LocalCache\\local-packages\\Python311\\site-packages\\pandas\\io\\common.py:863\u001b[0m, in \u001b[0;36mget_handle\u001b[1;34m(path_or_buf, mode, encoding, compression, memory_map, is_text, errors, storage_options)\u001b[0m\n\u001b[0;32m    858\u001b[0m \u001b[38;5;28;01melif\u001b[39;00m \u001b[38;5;28misinstance\u001b[39m(handle, \u001b[38;5;28mstr\u001b[39m):\n\u001b[0;32m    859\u001b[0m     \u001b[38;5;66;03m# Check whether the filename is to be opened in binary mode.\u001b[39;00m\n\u001b[0;32m    860\u001b[0m     \u001b[38;5;66;03m# Binary mode does not support 'encoding' and 'newline'.\u001b[39;00m\n\u001b[0;32m    861\u001b[0m     \u001b[38;5;28;01mif\u001b[39;00m ioargs\u001b[38;5;241m.\u001b[39mencoding \u001b[38;5;129;01mand\u001b[39;00m \u001b[38;5;124m\"\u001b[39m\u001b[38;5;124mb\u001b[39m\u001b[38;5;124m\"\u001b[39m \u001b[38;5;129;01mnot\u001b[39;00m \u001b[38;5;129;01min\u001b[39;00m ioargs\u001b[38;5;241m.\u001b[39mmode:\n\u001b[0;32m    862\u001b[0m         \u001b[38;5;66;03m# Encoding\u001b[39;00m\n\u001b[1;32m--> 863\u001b[0m         handle \u001b[38;5;241m=\u001b[39m \u001b[38;5;28;43mopen\u001b[39;49m\u001b[43m(\u001b[49m\n\u001b[0;32m    864\u001b[0m \u001b[43m            \u001b[49m\u001b[43mhandle\u001b[49m\u001b[43m,\u001b[49m\n\u001b[0;32m    865\u001b[0m \u001b[43m            \u001b[49m\u001b[43mioargs\u001b[49m\u001b[38;5;241;43m.\u001b[39;49m\u001b[43mmode\u001b[49m\u001b[43m,\u001b[49m\n\u001b[0;32m    866\u001b[0m \u001b[43m            \u001b[49m\u001b[43mencoding\u001b[49m\u001b[38;5;241;43m=\u001b[39;49m\u001b[43mioargs\u001b[49m\u001b[38;5;241;43m.\u001b[39;49m\u001b[43mencoding\u001b[49m\u001b[43m,\u001b[49m\n\u001b[0;32m    867\u001b[0m \u001b[43m            \u001b[49m\u001b[43merrors\u001b[49m\u001b[38;5;241;43m=\u001b[39;49m\u001b[43merrors\u001b[49m\u001b[43m,\u001b[49m\n\u001b[0;32m    868\u001b[0m \u001b[43m            \u001b[49m\u001b[43mnewline\u001b[49m\u001b[38;5;241;43m=\u001b[39;49m\u001b[38;5;124;43m\"\u001b[39;49m\u001b[38;5;124;43m\"\u001b[39;49m\u001b[43m,\u001b[49m\n\u001b[0;32m    869\u001b[0m \u001b[43m        \u001b[49m\u001b[43m)\u001b[49m\n\u001b[0;32m    870\u001b[0m     \u001b[38;5;28;01melse\u001b[39;00m:\n\u001b[0;32m    871\u001b[0m         \u001b[38;5;66;03m# Binary mode\u001b[39;00m\n\u001b[0;32m    872\u001b[0m         handle \u001b[38;5;241m=\u001b[39m \u001b[38;5;28mopen\u001b[39m(handle, ioargs\u001b[38;5;241m.\u001b[39mmode)\n",
      "\u001b[1;31mFileNotFoundError\u001b[0m: [Errno 2] No such file or directory: 'D:/Samatrix/Python/Notes/Pandas/basic_info.csv'"
     ]
    }
   ],
   "source": [
    "df_basic_info = pd.read_csv(\"D:/Samatrix/Python/Notes/Pandas/basic_info.csv\")"
   ]
  },
  {
   "cell_type": "code",
   "execution_count": 62,
   "id": "7df2130a",
   "metadata": {},
   "outputs": [
    {
     "data": {
      "text/html": [
       "<div>\n",
       "<style scoped>\n",
       "    .dataframe tbody tr th:only-of-type {\n",
       "        vertical-align: middle;\n",
       "    }\n",
       "\n",
       "    .dataframe tbody tr th {\n",
       "        vertical-align: top;\n",
       "    }\n",
       "\n",
       "    .dataframe thead th {\n",
       "        text-align: right;\n",
       "    }\n",
       "</style>\n",
       "<table border=\"1\" class=\"dataframe\">\n",
       "  <thead>\n",
       "    <tr style=\"text-align: right;\">\n",
       "      <th></th>\n",
       "      <th>Age</th>\n",
       "      <th>Weight (in kg)</th>\n",
       "      <th>Height (in m)</th>\n",
       "    </tr>\n",
       "  </thead>\n",
       "  <tbody>\n",
       "    <tr>\n",
       "      <th>0</th>\n",
       "      <td>45</td>\n",
       "      <td>60</td>\n",
       "      <td>1.35</td>\n",
       "    </tr>\n",
       "    <tr>\n",
       "      <th>1</th>\n",
       "      <td>12</td>\n",
       "      <td>43</td>\n",
       "      <td>1.21</td>\n",
       "    </tr>\n",
       "    <tr>\n",
       "      <th>2</th>\n",
       "      <td>54</td>\n",
       "      <td>78</td>\n",
       "      <td>1.50</td>\n",
       "    </tr>\n",
       "    <tr>\n",
       "      <th>3</th>\n",
       "      <td>26</td>\n",
       "      <td>65</td>\n",
       "      <td>1.21</td>\n",
       "    </tr>\n",
       "    <tr>\n",
       "      <th>4</th>\n",
       "      <td>68</td>\n",
       "      <td>50</td>\n",
       "      <td>1.32</td>\n",
       "    </tr>\n",
       "    <tr>\n",
       "      <th>5</th>\n",
       "      <td>21</td>\n",
       "      <td>43</td>\n",
       "      <td>1.52</td>\n",
       "    </tr>\n",
       "    <tr>\n",
       "      <th>6</th>\n",
       "      <td>10</td>\n",
       "      <td>32</td>\n",
       "      <td>1.65</td>\n",
       "    </tr>\n",
       "    <tr>\n",
       "      <th>7</th>\n",
       "      <td>57</td>\n",
       "      <td>34</td>\n",
       "      <td>1.61</td>\n",
       "    </tr>\n",
       "    <tr>\n",
       "      <th>8</th>\n",
       "      <td>75</td>\n",
       "      <td>23</td>\n",
       "      <td>1.24</td>\n",
       "    </tr>\n",
       "    <tr>\n",
       "      <th>9</th>\n",
       "      <td>32</td>\n",
       "      <td>21</td>\n",
       "      <td>1.52</td>\n",
       "    </tr>\n",
       "    <tr>\n",
       "      <th>10</th>\n",
       "      <td>23</td>\n",
       "      <td>53</td>\n",
       "      <td>1.50</td>\n",
       "    </tr>\n",
       "    <tr>\n",
       "      <th>11</th>\n",
       "      <td>34</td>\n",
       "      <td>65</td>\n",
       "      <td>1.76</td>\n",
       "    </tr>\n",
       "    <tr>\n",
       "      <th>12</th>\n",
       "      <td>55</td>\n",
       "      <td>89</td>\n",
       "      <td>1.65</td>\n",
       "    </tr>\n",
       "    <tr>\n",
       "      <th>13</th>\n",
       "      <td>23</td>\n",
       "      <td>45</td>\n",
       "      <td>1.75</td>\n",
       "    </tr>\n",
       "    <tr>\n",
       "      <th>14</th>\n",
       "      <td>56</td>\n",
       "      <td>76</td>\n",
       "      <td>1.69</td>\n",
       "    </tr>\n",
       "    <tr>\n",
       "      <th>15</th>\n",
       "      <td>67</td>\n",
       "      <td>78</td>\n",
       "      <td>1.85</td>\n",
       "    </tr>\n",
       "    <tr>\n",
       "      <th>16</th>\n",
       "      <td>26</td>\n",
       "      <td>65</td>\n",
       "      <td>1.21</td>\n",
       "    </tr>\n",
       "    <tr>\n",
       "      <th>17</th>\n",
       "      <td>56</td>\n",
       "      <td>74</td>\n",
       "      <td>1.69</td>\n",
       "    </tr>\n",
       "    <tr>\n",
       "      <th>18</th>\n",
       "      <td>67</td>\n",
       "      <td>78</td>\n",
       "      <td>1.85</td>\n",
       "    </tr>\n",
       "    <tr>\n",
       "      <th>19</th>\n",
       "      <td>26</td>\n",
       "      <td>65</td>\n",
       "      <td>1.21</td>\n",
       "    </tr>\n",
       "    <tr>\n",
       "      <th>20</th>\n",
       "      <td>68</td>\n",
       "      <td>50</td>\n",
       "      <td>1.32</td>\n",
       "    </tr>\n",
       "    <tr>\n",
       "      <th>21</th>\n",
       "      <td>56</td>\n",
       "      <td>76</td>\n",
       "      <td>1.69</td>\n",
       "    </tr>\n",
       "    <tr>\n",
       "      <th>22</th>\n",
       "      <td>67</td>\n",
       "      <td>78</td>\n",
       "      <td>1.85</td>\n",
       "    </tr>\n",
       "  </tbody>\n",
       "</table>\n",
       "</div>"
      ],
      "text/plain": [
       "    Age  Weight (in kg)  Height (in m)\n",
       "0    45              60           1.35\n",
       "1    12              43           1.21\n",
       "2    54              78           1.50\n",
       "3    26              65           1.21\n",
       "4    68              50           1.32\n",
       "5    21              43           1.52\n",
       "6    10              32           1.65\n",
       "7    57              34           1.61\n",
       "8    75              23           1.24\n",
       "9    32              21           1.52\n",
       "10   23              53           1.50\n",
       "11   34              65           1.76\n",
       "12   55              89           1.65\n",
       "13   23              45           1.75\n",
       "14   56              76           1.69\n",
       "15   67              78           1.85\n",
       "16   26              65           1.21\n",
       "17   56              74           1.69\n",
       "18   67              78           1.85\n",
       "19   26              65           1.21\n",
       "20   68              50           1.32\n",
       "21   56              76           1.69\n",
       "22   67              78           1.85"
      ]
     },
     "execution_count": 62,
     "metadata": {},
     "output_type": "execute_result"
    }
   ],
   "source": [
    "df_basic_info"
   ]
  },
  {
   "cell_type": "code",
   "execution_count": 16,
   "id": "6fef37db",
   "metadata": {},
   "outputs": [
    {
     "data": {
      "text/plain": [
       "pandas.core.frame.DataFrame"
      ]
     },
     "execution_count": 16,
     "metadata": {},
     "output_type": "execute_result"
    }
   ],
   "source": [
    "type(df_basic_info)"
   ]
  },
  {
   "cell_type": "markdown",
   "id": "dc91f2de",
   "metadata": {},
   "source": [
    "On checking the data type, we notice it is read as pandas data frame."
   ]
  },
  {
   "cell_type": "code",
   "execution_count": 17,
   "id": "c9df8418",
   "metadata": {
    "scrolled": false
   },
   "outputs": [
    {
     "name": "stdout",
     "output_type": "stream",
     "text": [
      "    Age  Weight (in kg)  Height (in m)\n",
      "0    45              60           1.35\n",
      "1    12              43           1.21\n",
      "2    54              78           1.50\n",
      "3    26              65           1.21\n",
      "4    68              50           1.32\n",
      "5    21              43           1.52\n",
      "6    10              32           1.65\n",
      "7    57              34           1.61\n",
      "8    75              23           1.24\n",
      "9    32              21           1.52\n",
      "10   23              53           1.50\n",
      "11   34              65           1.76\n",
      "12   55              89           1.65\n",
      "13   23              45           1.75\n",
      "14   56              76           1.69\n",
      "15   67              78           1.85\n",
      "16   26              65           1.21\n",
      "17   56              74           1.69\n",
      "18   67              78           1.85\n",
      "19   26              65           1.21\n",
      "20   68              50           1.32\n",
      "21   56              76           1.69\n",
      "22   67              78           1.85\n"
     ]
    }
   ],
   "source": [
    "print(df_basic_info)"
   ]
  },
  {
   "cell_type": "markdown",
   "id": "226c13c6",
   "metadata": {},
   "source": [
    "**To print head of the data**"
   ]
  },
  {
   "cell_type": "code",
   "execution_count": 21,
   "id": "0718806d",
   "metadata": {},
   "outputs": [
    {
     "data": {
      "text/html": [
       "<div>\n",
       "<style scoped>\n",
       "    .dataframe tbody tr th:only-of-type {\n",
       "        vertical-align: middle;\n",
       "    }\n",
       "\n",
       "    .dataframe tbody tr th {\n",
       "        vertical-align: top;\n",
       "    }\n",
       "\n",
       "    .dataframe thead th {\n",
       "        text-align: right;\n",
       "    }\n",
       "</style>\n",
       "<table border=\"1\" class=\"dataframe\">\n",
       "  <thead>\n",
       "    <tr style=\"text-align: right;\">\n",
       "      <th></th>\n",
       "      <th>Age</th>\n",
       "      <th>Weight (in kg)</th>\n",
       "      <th>Height (in m)</th>\n",
       "    </tr>\n",
       "  </thead>\n",
       "  <tbody>\n",
       "    <tr>\n",
       "      <th>0</th>\n",
       "      <td>45</td>\n",
       "      <td>60</td>\n",
       "      <td>1.35</td>\n",
       "    </tr>\n",
       "    <tr>\n",
       "      <th>1</th>\n",
       "      <td>12</td>\n",
       "      <td>43</td>\n",
       "      <td>1.21</td>\n",
       "    </tr>\n",
       "    <tr>\n",
       "      <th>2</th>\n",
       "      <td>54</td>\n",
       "      <td>78</td>\n",
       "      <td>1.50</td>\n",
       "    </tr>\n",
       "    <tr>\n",
       "      <th>3</th>\n",
       "      <td>26</td>\n",
       "      <td>65</td>\n",
       "      <td>1.21</td>\n",
       "    </tr>\n",
       "    <tr>\n",
       "      <th>4</th>\n",
       "      <td>68</td>\n",
       "      <td>50</td>\n",
       "      <td>1.32</td>\n",
       "    </tr>\n",
       "  </tbody>\n",
       "</table>\n",
       "</div>"
      ],
      "text/plain": [
       "   Age  Weight (in kg)  Height (in m)\n",
       "0   45              60           1.35\n",
       "1   12              43           1.21\n",
       "2   54              78           1.50\n",
       "3   26              65           1.21\n",
       "4   68              50           1.32"
      ]
     },
     "execution_count": 21,
     "metadata": {},
     "output_type": "execute_result"
    }
   ],
   "source": [
    "# display the first 5 rows of the DataFrame\n",
    "# head(): displays the first 5 rows\n",
    "# to display more rows, for example 15, use head(15)\n",
    "# the default value is 5\n",
    "df_basic_info.head()"
   ]
  },
  {
   "cell_type": "markdown",
   "id": "5845dfab",
   "metadata": {},
   "source": [
    "By default, the `.head()` will display **first** five rows. However, we can set the desired number of rows to be displayed.\n",
    "\n",
    "Say we want to see the first 9 rows, we write the number 9 in the parentheses."
   ]
  },
  {
   "cell_type": "code",
   "execution_count": 19,
   "id": "b627ca0e",
   "metadata": {},
   "outputs": [
    {
     "data": {
      "text/html": [
       "<div>\n",
       "<style scoped>\n",
       "    .dataframe tbody tr th:only-of-type {\n",
       "        vertical-align: middle;\n",
       "    }\n",
       "\n",
       "    .dataframe tbody tr th {\n",
       "        vertical-align: top;\n",
       "    }\n",
       "\n",
       "    .dataframe thead th {\n",
       "        text-align: right;\n",
       "    }\n",
       "</style>\n",
       "<table border=\"1\" class=\"dataframe\">\n",
       "  <thead>\n",
       "    <tr style=\"text-align: right;\">\n",
       "      <th></th>\n",
       "      <th>Age</th>\n",
       "      <th>Weight (in kg)</th>\n",
       "      <th>Height (in m)</th>\n",
       "    </tr>\n",
       "  </thead>\n",
       "  <tbody>\n",
       "    <tr>\n",
       "      <th>0</th>\n",
       "      <td>45</td>\n",
       "      <td>60</td>\n",
       "      <td>1.35</td>\n",
       "    </tr>\n",
       "    <tr>\n",
       "      <th>1</th>\n",
       "      <td>12</td>\n",
       "      <td>43</td>\n",
       "      <td>1.21</td>\n",
       "    </tr>\n",
       "    <tr>\n",
       "      <th>2</th>\n",
       "      <td>54</td>\n",
       "      <td>78</td>\n",
       "      <td>1.50</td>\n",
       "    </tr>\n",
       "    <tr>\n",
       "      <th>3</th>\n",
       "      <td>26</td>\n",
       "      <td>65</td>\n",
       "      <td>1.21</td>\n",
       "    </tr>\n",
       "    <tr>\n",
       "      <th>4</th>\n",
       "      <td>68</td>\n",
       "      <td>50</td>\n",
       "      <td>1.32</td>\n",
       "    </tr>\n",
       "    <tr>\n",
       "      <th>5</th>\n",
       "      <td>21</td>\n",
       "      <td>43</td>\n",
       "      <td>1.52</td>\n",
       "    </tr>\n",
       "    <tr>\n",
       "      <th>6</th>\n",
       "      <td>10</td>\n",
       "      <td>32</td>\n",
       "      <td>1.65</td>\n",
       "    </tr>\n",
       "    <tr>\n",
       "      <th>7</th>\n",
       "      <td>57</td>\n",
       "      <td>34</td>\n",
       "      <td>1.61</td>\n",
       "    </tr>\n",
       "    <tr>\n",
       "      <th>8</th>\n",
       "      <td>75</td>\n",
       "      <td>23</td>\n",
       "      <td>1.24</td>\n",
       "    </tr>\n",
       "  </tbody>\n",
       "</table>\n",
       "</div>"
      ],
      "text/plain": [
       "   Age  Weight (in kg)  Height (in m)\n",
       "0   45              60           1.35\n",
       "1   12              43           1.21\n",
       "2   54              78           1.50\n",
       "3   26              65           1.21\n",
       "4   68              50           1.32\n",
       "5   21              43           1.52\n",
       "6   10              32           1.65\n",
       "7   57              34           1.61\n",
       "8   75              23           1.24"
      ]
     },
     "execution_count": 19,
     "metadata": {},
     "output_type": "execute_result"
    }
   ],
   "source": [
    "# display 9 rows\n",
    "df_basic_info.head(9)"
   ]
  },
  {
   "cell_type": "markdown",
   "id": "95482f6c",
   "metadata": {},
   "source": [
    "**To print tail of the data**"
   ]
  },
  {
   "cell_type": "code",
   "execution_count": 23,
   "id": "c0df4d15",
   "metadata": {},
   "outputs": [
    {
     "data": {
      "text/html": [
       "<div>\n",
       "<style scoped>\n",
       "    .dataframe tbody tr th:only-of-type {\n",
       "        vertical-align: middle;\n",
       "    }\n",
       "\n",
       "    .dataframe tbody tr th {\n",
       "        vertical-align: top;\n",
       "    }\n",
       "\n",
       "    .dataframe thead th {\n",
       "        text-align: right;\n",
       "    }\n",
       "</style>\n",
       "<table border=\"1\" class=\"dataframe\">\n",
       "  <thead>\n",
       "    <tr style=\"text-align: right;\">\n",
       "      <th></th>\n",
       "      <th>Age</th>\n",
       "      <th>Weight (in kg)</th>\n",
       "      <th>Height (in m)</th>\n",
       "    </tr>\n",
       "  </thead>\n",
       "  <tbody>\n",
       "    <tr>\n",
       "      <th>18</th>\n",
       "      <td>67</td>\n",
       "      <td>78</td>\n",
       "      <td>1.85</td>\n",
       "    </tr>\n",
       "    <tr>\n",
       "      <th>19</th>\n",
       "      <td>26</td>\n",
       "      <td>65</td>\n",
       "      <td>1.21</td>\n",
       "    </tr>\n",
       "    <tr>\n",
       "      <th>20</th>\n",
       "      <td>68</td>\n",
       "      <td>50</td>\n",
       "      <td>1.32</td>\n",
       "    </tr>\n",
       "    <tr>\n",
       "      <th>21</th>\n",
       "      <td>56</td>\n",
       "      <td>76</td>\n",
       "      <td>1.69</td>\n",
       "    </tr>\n",
       "    <tr>\n",
       "      <th>22</th>\n",
       "      <td>67</td>\n",
       "      <td>78</td>\n",
       "      <td>1.85</td>\n",
       "    </tr>\n",
       "  </tbody>\n",
       "</table>\n",
       "</div>"
      ],
      "text/plain": [
       "    Age  Weight (in kg)  Height (in m)\n",
       "18   67              78           1.85\n",
       "19   26              65           1.21\n",
       "20   68              50           1.32\n",
       "21   56              76           1.69\n",
       "22   67              78           1.85"
      ]
     },
     "execution_count": 23,
     "metadata": {},
     "output_type": "execute_result"
    }
   ],
   "source": [
    "# to display the last 5 rows\n",
    "df_basic_info.tail()"
   ]
  },
  {
   "cell_type": "markdown",
   "id": "eeca6a88",
   "metadata": {},
   "source": [
    "By default, the `.tail()` will display **last** five rows. However, we can set the desired number of rows to be displayed.\n",
    "\n",
    "Say we want to see the last 14 rows, we write the number 14 in the parentheses."
   ]
  },
  {
   "cell_type": "code",
   "execution_count": 24,
   "id": "feb2406a",
   "metadata": {},
   "outputs": [
    {
     "data": {
      "text/html": [
       "<div>\n",
       "<style scoped>\n",
       "    .dataframe tbody tr th:only-of-type {\n",
       "        vertical-align: middle;\n",
       "    }\n",
       "\n",
       "    .dataframe tbody tr th {\n",
       "        vertical-align: top;\n",
       "    }\n",
       "\n",
       "    .dataframe thead th {\n",
       "        text-align: right;\n",
       "    }\n",
       "</style>\n",
       "<table border=\"1\" class=\"dataframe\">\n",
       "  <thead>\n",
       "    <tr style=\"text-align: right;\">\n",
       "      <th></th>\n",
       "      <th>Age</th>\n",
       "      <th>Weight (in kg)</th>\n",
       "      <th>Height (in m)</th>\n",
       "    </tr>\n",
       "  </thead>\n",
       "  <tbody>\n",
       "    <tr>\n",
       "      <th>9</th>\n",
       "      <td>32</td>\n",
       "      <td>21</td>\n",
       "      <td>1.52</td>\n",
       "    </tr>\n",
       "    <tr>\n",
       "      <th>10</th>\n",
       "      <td>23</td>\n",
       "      <td>53</td>\n",
       "      <td>1.50</td>\n",
       "    </tr>\n",
       "    <tr>\n",
       "      <th>11</th>\n",
       "      <td>34</td>\n",
       "      <td>65</td>\n",
       "      <td>1.76</td>\n",
       "    </tr>\n",
       "    <tr>\n",
       "      <th>12</th>\n",
       "      <td>55</td>\n",
       "      <td>89</td>\n",
       "      <td>1.65</td>\n",
       "    </tr>\n",
       "    <tr>\n",
       "      <th>13</th>\n",
       "      <td>23</td>\n",
       "      <td>45</td>\n",
       "      <td>1.75</td>\n",
       "    </tr>\n",
       "    <tr>\n",
       "      <th>14</th>\n",
       "      <td>56</td>\n",
       "      <td>76</td>\n",
       "      <td>1.69</td>\n",
       "    </tr>\n",
       "    <tr>\n",
       "      <th>15</th>\n",
       "      <td>67</td>\n",
       "      <td>78</td>\n",
       "      <td>1.85</td>\n",
       "    </tr>\n",
       "    <tr>\n",
       "      <th>16</th>\n",
       "      <td>26</td>\n",
       "      <td>65</td>\n",
       "      <td>1.21</td>\n",
       "    </tr>\n",
       "    <tr>\n",
       "      <th>17</th>\n",
       "      <td>56</td>\n",
       "      <td>74</td>\n",
       "      <td>1.69</td>\n",
       "    </tr>\n",
       "    <tr>\n",
       "      <th>18</th>\n",
       "      <td>67</td>\n",
       "      <td>78</td>\n",
       "      <td>1.85</td>\n",
       "    </tr>\n",
       "    <tr>\n",
       "      <th>19</th>\n",
       "      <td>26</td>\n",
       "      <td>65</td>\n",
       "      <td>1.21</td>\n",
       "    </tr>\n",
       "    <tr>\n",
       "      <th>20</th>\n",
       "      <td>68</td>\n",
       "      <td>50</td>\n",
       "      <td>1.32</td>\n",
       "    </tr>\n",
       "    <tr>\n",
       "      <th>21</th>\n",
       "      <td>56</td>\n",
       "      <td>76</td>\n",
       "      <td>1.69</td>\n",
       "    </tr>\n",
       "    <tr>\n",
       "      <th>22</th>\n",
       "      <td>67</td>\n",
       "      <td>78</td>\n",
       "      <td>1.85</td>\n",
       "    </tr>\n",
       "  </tbody>\n",
       "</table>\n",
       "</div>"
      ],
      "text/plain": [
       "    Age  Weight (in kg)  Height (in m)\n",
       "9    32              21           1.52\n",
       "10   23              53           1.50\n",
       "11   34              65           1.76\n",
       "12   55              89           1.65\n",
       "13   23              45           1.75\n",
       "14   56              76           1.69\n",
       "15   67              78           1.85\n",
       "16   26              65           1.21\n",
       "17   56              74           1.69\n",
       "18   67              78           1.85\n",
       "19   26              65           1.21\n",
       "20   68              50           1.32\n",
       "21   56              76           1.69\n",
       "22   67              78           1.85"
      ]
     },
     "execution_count": 24,
     "metadata": {},
     "output_type": "execute_result"
    }
   ],
   "source": [
    "# to display the last 14 rows\n",
    "df_basic_info.tail(14)"
   ]
  },
  {
   "cell_type": "markdown",
   "id": "b1ec1be6",
   "metadata": {},
   "source": [
    "**To obtain the dimension of the data**"
   ]
  },
  {
   "cell_type": "code",
   "execution_count": 25,
   "id": "524f3609",
   "metadata": {},
   "outputs": [
    {
     "data": {
      "text/plain": [
       "(23, 3)"
      ]
     },
     "execution_count": 25,
     "metadata": {},
     "output_type": "execute_result"
    }
   ],
   "source": [
    "# to display the shape of the data\n",
    "df_basic_info.shape"
   ]
  },
  {
   "cell_type": "markdown",
   "id": "a981c1d5",
   "metadata": {},
   "source": [
    "**To know the data types of a data frame**"
   ]
  },
  {
   "cell_type": "code",
   "execution_count": 28,
   "id": "edd072d9",
   "metadata": {},
   "outputs": [
    {
     "data": {
      "text/plain": [
       "Age                 int64\n",
       "Weight (in kg)      int64\n",
       "Height (in m)     float64\n",
       "dtype: object"
      ]
     },
     "execution_count": 28,
     "metadata": {},
     "output_type": "execute_result"
    }
   ],
   "source": [
    "# to know the type of each variable\n",
    "df_basic_info.dtypes"
   ]
  },
  {
   "cell_type": "markdown",
   "id": "5cfea729",
   "metadata": {},
   "source": [
    "We see the data type of each variable."
   ]
  },
  {
   "cell_type": "markdown",
   "id": "4bcc20a7",
   "metadata": {},
   "source": [
    "**To know some information of the data**"
   ]
  },
  {
   "cell_type": "code",
   "execution_count": 29,
   "id": "26973eb5",
   "metadata": {},
   "outputs": [
    {
     "name": "stdout",
     "output_type": "stream",
     "text": [
      "<class 'pandas.core.frame.DataFrame'>\n",
      "RangeIndex: 23 entries, 0 to 22\n",
      "Data columns (total 3 columns):\n",
      " #   Column          Non-Null Count  Dtype  \n",
      "---  ------          --------------  -----  \n",
      " 0   Age             23 non-null     int64  \n",
      " 1   Weight (in kg)  23 non-null     int64  \n",
      " 2   Height (in m)   23 non-null     float64\n",
      "dtypes: float64(1), int64(2)\n",
      "memory usage: 680.0 bytes\n"
     ]
    }
   ],
   "source": [
    "# to know information on the variables in the data\n",
    "df_basic_info.info()"
   ]
  },
  {
   "cell_type": "markdown",
   "id": "59989daa",
   "metadata": {},
   "source": [
    "We see this output gives the number of rows present in the data `RangeIndex: 23 entries, 0 to 22` There are 23 rows numbered from 0 to 22. And there are a total of three columns - `Data columns (total 3 columns)`. \n",
    "\n",
    "Consider `Age 23 non-null int64` indicates that the column named 'Age' has 23 non-null observations having the data type 'int64'\n",
    "\n",
    "And finally the memory used to save this dataframe is 680 bytes.\n",
    "\n"
   ]
  },
  {
   "cell_type": "markdown",
   "id": "ef4cbe7b",
   "metadata": {},
   "source": [
    "**To check the data type of column in the data frame**"
   ]
  },
  {
   "cell_type": "code",
   "execution_count": null,
   "id": "3bbb5013",
   "metadata": {},
   "outputs": [],
   "source": [
    "# check the type of each variable\n",
    "type(df_basic_info.Age)"
   ]
  },
  {
   "cell_type": "code",
   "execution_count": null,
   "id": "97b52148",
   "metadata": {},
   "outputs": [],
   "source": [
    "# check the type of each variable\n",
    "type(df_basic_info[\"Weight (in kg)\"])"
   ]
  },
  {
   "cell_type": "code",
   "execution_count": null,
   "id": "a5e32082",
   "metadata": {},
   "outputs": [],
   "source": [
    "# check the type of each variable\n",
    "type(df_basic_info[\"Height (in m)\"])"
   ]
  },
  {
   "cell_type": "markdown",
   "id": "b40422d9",
   "metadata": {},
   "source": [
    "**Note that every column of the data frame is a pandas Series.**"
   ]
  },
  {
   "cell_type": "markdown",
   "id": "ca27c3fd",
   "metadata": {},
   "source": [
    "## Manipulating DataFrames \n",
    "\n",
    "#### Add new column and rows\n",
    "\n",
    "**Remark:**   \n",
    "1. DataFrame[column] works for any column name, but DataFrame.column only works when the column name is a valid Python variable name.<br>\n",
    "2. New columns cannot be created with the ` df_basic_info.BMI ` syntax.\n",
    "                   \n",
    "\n"
   ]
  },
  {
   "cell_type": "markdown",
   "id": "5c40806e",
   "metadata": {},
   "source": [
    "**Adding a new column to the data set**"
   ]
  },
  {
   "cell_type": "code",
   "execution_count": 64,
   "id": "5b9bc399",
   "metadata": {},
   "outputs": [
    {
     "data": {
      "text/html": [
       "<div>\n",
       "<style scoped>\n",
       "    .dataframe tbody tr th:only-of-type {\n",
       "        vertical-align: middle;\n",
       "    }\n",
       "\n",
       "    .dataframe tbody tr th {\n",
       "        vertical-align: top;\n",
       "    }\n",
       "\n",
       "    .dataframe thead th {\n",
       "        text-align: right;\n",
       "    }\n",
       "</style>\n",
       "<table border=\"1\" class=\"dataframe\">\n",
       "  <thead>\n",
       "    <tr style=\"text-align: right;\">\n",
       "      <th></th>\n",
       "      <th>Age</th>\n",
       "      <th>Weight (in kg)</th>\n",
       "      <th>Height (in m)</th>\n",
       "      <th>BMI</th>\n",
       "    </tr>\n",
       "  </thead>\n",
       "  <tbody>\n",
       "    <tr>\n",
       "      <th>0</th>\n",
       "      <td>45</td>\n",
       "      <td>60</td>\n",
       "      <td>1.35</td>\n",
       "      <td>32.921811</td>\n",
       "    </tr>\n",
       "    <tr>\n",
       "      <th>1</th>\n",
       "      <td>12</td>\n",
       "      <td>43</td>\n",
       "      <td>1.21</td>\n",
       "      <td>29.369579</td>\n",
       "    </tr>\n",
       "    <tr>\n",
       "      <th>2</th>\n",
       "      <td>54</td>\n",
       "      <td>78</td>\n",
       "      <td>1.50</td>\n",
       "      <td>34.666667</td>\n",
       "    </tr>\n",
       "    <tr>\n",
       "      <th>3</th>\n",
       "      <td>26</td>\n",
       "      <td>65</td>\n",
       "      <td>1.21</td>\n",
       "      <td>44.395875</td>\n",
       "    </tr>\n",
       "    <tr>\n",
       "      <th>4</th>\n",
       "      <td>68</td>\n",
       "      <td>50</td>\n",
       "      <td>1.32</td>\n",
       "      <td>28.696051</td>\n",
       "    </tr>\n",
       "  </tbody>\n",
       "</table>\n",
       "</div>"
      ],
      "text/plain": [
       "   Age  Weight (in kg)  Height (in m)        BMI\n",
       "0   45              60           1.35  32.921811\n",
       "1   12              43           1.21  29.369579\n",
       "2   54              78           1.50  34.666667\n",
       "3   26              65           1.21  44.395875\n",
       "4   68              50           1.32  28.696051"
      ]
     },
     "execution_count": 64,
     "metadata": {},
     "output_type": "execute_result"
    }
   ],
   "source": [
    "# create a new variable BMI\n",
    "df_basic_info['BMI'] = df_basic_info['Weight (in kg)'] / (df_basic_info['Height (in m)'] ** 2)\n",
    "df_basic_info.head()"
   ]
  },
  {
   "cell_type": "code",
   "execution_count": 65,
   "id": "67290093",
   "metadata": {},
   "outputs": [
    {
     "data": {
      "text/plain": [
       "(23, 4)"
      ]
     },
     "execution_count": 65,
     "metadata": {},
     "output_type": "execute_result"
    }
   ],
   "source": [
    "# check the shape of the DataFrame\n",
    "df_basic_info.shape"
   ]
  },
  {
   "cell_type": "markdown",
   "id": "9277a7b7",
   "metadata": {},
   "source": [
    "**Adding a new row to the data set**\n",
    "\n",
    "A new row can be added using the `loc`"
   ]
  },
  {
   "cell_type": "code",
   "execution_count": 66,
   "id": "587f939c",
   "metadata": {},
   "outputs": [
    {
     "data": {
      "text/html": [
       "<div>\n",
       "<style scoped>\n",
       "    .dataframe tbody tr th:only-of-type {\n",
       "        vertical-align: middle;\n",
       "    }\n",
       "\n",
       "    .dataframe tbody tr th {\n",
       "        vertical-align: top;\n",
       "    }\n",
       "\n",
       "    .dataframe thead th {\n",
       "        text-align: right;\n",
       "    }\n",
       "</style>\n",
       "<table border=\"1\" class=\"dataframe\">\n",
       "  <thead>\n",
       "    <tr style=\"text-align: right;\">\n",
       "      <th></th>\n",
       "      <th>Age</th>\n",
       "      <th>Weight (in kg)</th>\n",
       "      <th>Height (in m)</th>\n",
       "      <th>BMI</th>\n",
       "    </tr>\n",
       "  </thead>\n",
       "  <tbody>\n",
       "    <tr>\n",
       "      <th>0</th>\n",
       "      <td>45</td>\n",
       "      <td>60</td>\n",
       "      <td>1.35</td>\n",
       "      <td>32.921811</td>\n",
       "    </tr>\n",
       "    <tr>\n",
       "      <th>1</th>\n",
       "      <td>12</td>\n",
       "      <td>43</td>\n",
       "      <td>1.21</td>\n",
       "      <td>29.369579</td>\n",
       "    </tr>\n",
       "    <tr>\n",
       "      <th>2</th>\n",
       "      <td>54</td>\n",
       "      <td>78</td>\n",
       "      <td>1.50</td>\n",
       "      <td>34.666667</td>\n",
       "    </tr>\n",
       "    <tr>\n",
       "      <th>3</th>\n",
       "      <td>26</td>\n",
       "      <td>65</td>\n",
       "      <td>1.21</td>\n",
       "      <td>44.395875</td>\n",
       "    </tr>\n",
       "    <tr>\n",
       "      <th>4</th>\n",
       "      <td>68</td>\n",
       "      <td>50</td>\n",
       "      <td>1.32</td>\n",
       "      <td>28.696051</td>\n",
       "    </tr>\n",
       "    <tr>\n",
       "      <th>5</th>\n",
       "      <td>21</td>\n",
       "      <td>43</td>\n",
       "      <td>1.52</td>\n",
       "      <td>18.611496</td>\n",
       "    </tr>\n",
       "    <tr>\n",
       "      <th>6</th>\n",
       "      <td>10</td>\n",
       "      <td>32</td>\n",
       "      <td>1.65</td>\n",
       "      <td>11.753903</td>\n",
       "    </tr>\n",
       "    <tr>\n",
       "      <th>7</th>\n",
       "      <td>57</td>\n",
       "      <td>34</td>\n",
       "      <td>1.61</td>\n",
       "      <td>13.116778</td>\n",
       "    </tr>\n",
       "    <tr>\n",
       "      <th>8</th>\n",
       "      <td>75</td>\n",
       "      <td>23</td>\n",
       "      <td>1.24</td>\n",
       "      <td>14.958377</td>\n",
       "    </tr>\n",
       "    <tr>\n",
       "      <th>9</th>\n",
       "      <td>32</td>\n",
       "      <td>21</td>\n",
       "      <td>1.52</td>\n",
       "      <td>9.089335</td>\n",
       "    </tr>\n",
       "    <tr>\n",
       "      <th>10</th>\n",
       "      <td>23</td>\n",
       "      <td>53</td>\n",
       "      <td>1.50</td>\n",
       "      <td>23.555556</td>\n",
       "    </tr>\n",
       "    <tr>\n",
       "      <th>11</th>\n",
       "      <td>34</td>\n",
       "      <td>65</td>\n",
       "      <td>1.76</td>\n",
       "      <td>20.983988</td>\n",
       "    </tr>\n",
       "    <tr>\n",
       "      <th>12</th>\n",
       "      <td>55</td>\n",
       "      <td>89</td>\n",
       "      <td>1.65</td>\n",
       "      <td>32.690542</td>\n",
       "    </tr>\n",
       "    <tr>\n",
       "      <th>13</th>\n",
       "      <td>23</td>\n",
       "      <td>45</td>\n",
       "      <td>1.75</td>\n",
       "      <td>14.693878</td>\n",
       "    </tr>\n",
       "    <tr>\n",
       "      <th>14</th>\n",
       "      <td>56</td>\n",
       "      <td>76</td>\n",
       "      <td>1.69</td>\n",
       "      <td>26.609713</td>\n",
       "    </tr>\n",
       "    <tr>\n",
       "      <th>15</th>\n",
       "      <td>67</td>\n",
       "      <td>78</td>\n",
       "      <td>1.85</td>\n",
       "      <td>22.790358</td>\n",
       "    </tr>\n",
       "    <tr>\n",
       "      <th>16</th>\n",
       "      <td>26</td>\n",
       "      <td>65</td>\n",
       "      <td>1.21</td>\n",
       "      <td>44.395875</td>\n",
       "    </tr>\n",
       "    <tr>\n",
       "      <th>17</th>\n",
       "      <td>56</td>\n",
       "      <td>74</td>\n",
       "      <td>1.69</td>\n",
       "      <td>25.909457</td>\n",
       "    </tr>\n",
       "    <tr>\n",
       "      <th>18</th>\n",
       "      <td>67</td>\n",
       "      <td>78</td>\n",
       "      <td>1.85</td>\n",
       "      <td>22.790358</td>\n",
       "    </tr>\n",
       "    <tr>\n",
       "      <th>19</th>\n",
       "      <td>26</td>\n",
       "      <td>65</td>\n",
       "      <td>1.21</td>\n",
       "      <td>44.395875</td>\n",
       "    </tr>\n",
       "    <tr>\n",
       "      <th>20</th>\n",
       "      <td>68</td>\n",
       "      <td>50</td>\n",
       "      <td>1.32</td>\n",
       "      <td>28.696051</td>\n",
       "    </tr>\n",
       "    <tr>\n",
       "      <th>21</th>\n",
       "      <td>56</td>\n",
       "      <td>76</td>\n",
       "      <td>1.69</td>\n",
       "      <td>26.609713</td>\n",
       "    </tr>\n",
       "    <tr>\n",
       "      <th>22</th>\n",
       "      <td>67</td>\n",
       "      <td>78</td>\n",
       "      <td>1.85</td>\n",
       "      <td>22.790358</td>\n",
       "    </tr>\n",
       "  </tbody>\n",
       "</table>\n",
       "</div>"
      ],
      "text/plain": [
       "    Age  Weight (in kg)  Height (in m)        BMI\n",
       "0    45              60           1.35  32.921811\n",
       "1    12              43           1.21  29.369579\n",
       "2    54              78           1.50  34.666667\n",
       "3    26              65           1.21  44.395875\n",
       "4    68              50           1.32  28.696051\n",
       "5    21              43           1.52  18.611496\n",
       "6    10              32           1.65  11.753903\n",
       "7    57              34           1.61  13.116778\n",
       "8    75              23           1.24  14.958377\n",
       "9    32              21           1.52   9.089335\n",
       "10   23              53           1.50  23.555556\n",
       "11   34              65           1.76  20.983988\n",
       "12   55              89           1.65  32.690542\n",
       "13   23              45           1.75  14.693878\n",
       "14   56              76           1.69  26.609713\n",
       "15   67              78           1.85  22.790358\n",
       "16   26              65           1.21  44.395875\n",
       "17   56              74           1.69  25.909457\n",
       "18   67              78           1.85  22.790358\n",
       "19   26              65           1.21  44.395875\n",
       "20   68              50           1.32  28.696051\n",
       "21   56              76           1.69  26.609713\n",
       "22   67              78           1.85  22.790358"
      ]
     },
     "execution_count": 66,
     "metadata": {},
     "output_type": "execute_result"
    }
   ],
   "source": [
    "df_basic_info"
   ]
  },
  {
   "cell_type": "code",
   "execution_count": 67,
   "id": "cfa49b39",
   "metadata": {},
   "outputs": [
    {
     "data": {
      "text/html": [
       "<div>\n",
       "<style scoped>\n",
       "    .dataframe tbody tr th:only-of-type {\n",
       "        vertical-align: middle;\n",
       "    }\n",
       "\n",
       "    .dataframe tbody tr th {\n",
       "        vertical-align: top;\n",
       "    }\n",
       "\n",
       "    .dataframe thead th {\n",
       "        text-align: right;\n",
       "    }\n",
       "</style>\n",
       "<table border=\"1\" class=\"dataframe\">\n",
       "  <thead>\n",
       "    <tr style=\"text-align: right;\">\n",
       "      <th></th>\n",
       "      <th>Age</th>\n",
       "      <th>Weight (in kg)</th>\n",
       "      <th>Height (in m)</th>\n",
       "      <th>BMI</th>\n",
       "    </tr>\n",
       "  </thead>\n",
       "  <tbody>\n",
       "    <tr>\n",
       "      <th>0</th>\n",
       "      <td>45.0</td>\n",
       "      <td>60.0</td>\n",
       "      <td>1.35</td>\n",
       "      <td>32.921811</td>\n",
       "    </tr>\n",
       "    <tr>\n",
       "      <th>1</th>\n",
       "      <td>12.0</td>\n",
       "      <td>43.0</td>\n",
       "      <td>1.21</td>\n",
       "      <td>29.369579</td>\n",
       "    </tr>\n",
       "    <tr>\n",
       "      <th>2</th>\n",
       "      <td>54.0</td>\n",
       "      <td>78.0</td>\n",
       "      <td>1.50</td>\n",
       "      <td>34.666667</td>\n",
       "    </tr>\n",
       "    <tr>\n",
       "      <th>3</th>\n",
       "      <td>26.0</td>\n",
       "      <td>65.0</td>\n",
       "      <td>1.21</td>\n",
       "      <td>44.395875</td>\n",
       "    </tr>\n",
       "    <tr>\n",
       "      <th>4</th>\n",
       "      <td>68.0</td>\n",
       "      <td>50.0</td>\n",
       "      <td>1.32</td>\n",
       "      <td>28.696051</td>\n",
       "    </tr>\n",
       "    <tr>\n",
       "      <th>5</th>\n",
       "      <td>21.0</td>\n",
       "      <td>43.0</td>\n",
       "      <td>1.52</td>\n",
       "      <td>18.611496</td>\n",
       "    </tr>\n",
       "    <tr>\n",
       "      <th>6</th>\n",
       "      <td>10.0</td>\n",
       "      <td>32.0</td>\n",
       "      <td>1.65</td>\n",
       "      <td>11.753903</td>\n",
       "    </tr>\n",
       "    <tr>\n",
       "      <th>7</th>\n",
       "      <td>57.0</td>\n",
       "      <td>34.0</td>\n",
       "      <td>1.61</td>\n",
       "      <td>13.116778</td>\n",
       "    </tr>\n",
       "    <tr>\n",
       "      <th>8</th>\n",
       "      <td>75.0</td>\n",
       "      <td>23.0</td>\n",
       "      <td>1.24</td>\n",
       "      <td>14.958377</td>\n",
       "    </tr>\n",
       "    <tr>\n",
       "      <th>9</th>\n",
       "      <td>32.0</td>\n",
       "      <td>21.0</td>\n",
       "      <td>1.52</td>\n",
       "      <td>9.089335</td>\n",
       "    </tr>\n",
       "    <tr>\n",
       "      <th>10</th>\n",
       "      <td>23.0</td>\n",
       "      <td>53.0</td>\n",
       "      <td>1.50</td>\n",
       "      <td>23.555556</td>\n",
       "    </tr>\n",
       "    <tr>\n",
       "      <th>11</th>\n",
       "      <td>34.0</td>\n",
       "      <td>65.0</td>\n",
       "      <td>1.76</td>\n",
       "      <td>20.983988</td>\n",
       "    </tr>\n",
       "    <tr>\n",
       "      <th>12</th>\n",
       "      <td>55.0</td>\n",
       "      <td>89.0</td>\n",
       "      <td>1.65</td>\n",
       "      <td>32.690542</td>\n",
       "    </tr>\n",
       "    <tr>\n",
       "      <th>13</th>\n",
       "      <td>23.0</td>\n",
       "      <td>45.0</td>\n",
       "      <td>1.75</td>\n",
       "      <td>14.693878</td>\n",
       "    </tr>\n",
       "    <tr>\n",
       "      <th>14</th>\n",
       "      <td>56.0</td>\n",
       "      <td>76.0</td>\n",
       "      <td>1.69</td>\n",
       "      <td>26.609713</td>\n",
       "    </tr>\n",
       "    <tr>\n",
       "      <th>15</th>\n",
       "      <td>67.0</td>\n",
       "      <td>78.0</td>\n",
       "      <td>1.85</td>\n",
       "      <td>22.790358</td>\n",
       "    </tr>\n",
       "    <tr>\n",
       "      <th>16</th>\n",
       "      <td>26.0</td>\n",
       "      <td>65.0</td>\n",
       "      <td>1.21</td>\n",
       "      <td>44.395875</td>\n",
       "    </tr>\n",
       "    <tr>\n",
       "      <th>17</th>\n",
       "      <td>56.0</td>\n",
       "      <td>74.0</td>\n",
       "      <td>1.69</td>\n",
       "      <td>25.909457</td>\n",
       "    </tr>\n",
       "    <tr>\n",
       "      <th>18</th>\n",
       "      <td>67.0</td>\n",
       "      <td>78.0</td>\n",
       "      <td>1.85</td>\n",
       "      <td>22.790358</td>\n",
       "    </tr>\n",
       "    <tr>\n",
       "      <th>19</th>\n",
       "      <td>26.0</td>\n",
       "      <td>65.0</td>\n",
       "      <td>1.21</td>\n",
       "      <td>44.395875</td>\n",
       "    </tr>\n",
       "    <tr>\n",
       "      <th>20</th>\n",
       "      <td>68.0</td>\n",
       "      <td>50.0</td>\n",
       "      <td>1.32</td>\n",
       "      <td>28.696051</td>\n",
       "    </tr>\n",
       "    <tr>\n",
       "      <th>21</th>\n",
       "      <td>56.0</td>\n",
       "      <td>76.0</td>\n",
       "      <td>1.69</td>\n",
       "      <td>26.609713</td>\n",
       "    </tr>\n",
       "    <tr>\n",
       "      <th>22</th>\n",
       "      <td>67.0</td>\n",
       "      <td>78.0</td>\n",
       "      <td>1.85</td>\n",
       "      <td>22.790358</td>\n",
       "    </tr>\n",
       "    <tr>\n",
       "      <th>23</th>\n",
       "      <td>45.0</td>\n",
       "      <td>85.0</td>\n",
       "      <td>1.80</td>\n",
       "      <td>26.300000</td>\n",
       "    </tr>\n",
       "  </tbody>\n",
       "</table>\n",
       "</div>"
      ],
      "text/plain": [
       "     Age  Weight (in kg)  Height (in m)        BMI\n",
       "0   45.0            60.0           1.35  32.921811\n",
       "1   12.0            43.0           1.21  29.369579\n",
       "2   54.0            78.0           1.50  34.666667\n",
       "3   26.0            65.0           1.21  44.395875\n",
       "4   68.0            50.0           1.32  28.696051\n",
       "5   21.0            43.0           1.52  18.611496\n",
       "6   10.0            32.0           1.65  11.753903\n",
       "7   57.0            34.0           1.61  13.116778\n",
       "8   75.0            23.0           1.24  14.958377\n",
       "9   32.0            21.0           1.52   9.089335\n",
       "10  23.0            53.0           1.50  23.555556\n",
       "11  34.0            65.0           1.76  20.983988\n",
       "12  55.0            89.0           1.65  32.690542\n",
       "13  23.0            45.0           1.75  14.693878\n",
       "14  56.0            76.0           1.69  26.609713\n",
       "15  67.0            78.0           1.85  22.790358\n",
       "16  26.0            65.0           1.21  44.395875\n",
       "17  56.0            74.0           1.69  25.909457\n",
       "18  67.0            78.0           1.85  22.790358\n",
       "19  26.0            65.0           1.21  44.395875\n",
       "20  68.0            50.0           1.32  28.696051\n",
       "21  56.0            76.0           1.69  26.609713\n",
       "22  67.0            78.0           1.85  22.790358\n",
       "23  45.0            85.0           1.80  26.300000"
      ]
     },
     "execution_count": 67,
     "metadata": {},
     "output_type": "execute_result"
    }
   ],
   "source": [
    "# add a new row at the end of the DataFrame\n",
    "df_basic_info.loc[23] = [45, 85, 1.8, 26.3]\n",
    "\n",
    "# display the DataFrame\n",
    "df_basic_info"
   ]
  },
  {
   "cell_type": "markdown",
   "id": "acf1cdc1",
   "metadata": {},
   "source": [
    "We see that a new column number 23 has be added to the data."
   ]
  },
  {
   "cell_type": "markdown",
   "id": "fbc55fa3",
   "metadata": {},
   "source": [
    "**Indexing a dataframe using `.iloc`**\n",
    "\n",
    "`DataFrame.iloc[]` method is used when the index label of a data frame is something other than numeric series of 0, 1, 2, 3….n or in case the user doesn’t know the index label. \n",
    "\n",
    "We shall work on the BMI data set.\n",
    "\n",
    "**Select the 2nd row**"
   ]
  },
  {
   "cell_type": "code",
   "execution_count": 68,
   "id": "8bee4cb1",
   "metadata": {},
   "outputs": [
    {
     "data": {
      "text/plain": [
       "Age               12.000000\n",
       "Weight (in kg)    43.000000\n",
       "Height (in m)      1.210000\n",
       "BMI               29.369579\n",
       "Name: 1, dtype: float64"
      ]
     },
     "execution_count": 68,
     "metadata": {},
     "output_type": "execute_result"
    }
   ],
   "source": [
    "# select the second row\n",
    "df_basic_info.iloc[1]"
   ]
  },
  {
   "cell_type": "markdown",
   "id": "8db3acb8",
   "metadata": {},
   "source": [
    "**Select fourth, seventh and tenth rows**"
   ]
  },
  {
   "cell_type": "code",
   "execution_count": 69,
   "id": "c7379484",
   "metadata": {},
   "outputs": [
    {
     "data": {
      "text/html": [
       "<div>\n",
       "<style scoped>\n",
       "    .dataframe tbody tr th:only-of-type {\n",
       "        vertical-align: middle;\n",
       "    }\n",
       "\n",
       "    .dataframe tbody tr th {\n",
       "        vertical-align: top;\n",
       "    }\n",
       "\n",
       "    .dataframe thead th {\n",
       "        text-align: right;\n",
       "    }\n",
       "</style>\n",
       "<table border=\"1\" class=\"dataframe\">\n",
       "  <thead>\n",
       "    <tr style=\"text-align: right;\">\n",
       "      <th></th>\n",
       "      <th>Age</th>\n",
       "      <th>Weight (in kg)</th>\n",
       "      <th>Height (in m)</th>\n",
       "      <th>BMI</th>\n",
       "    </tr>\n",
       "  </thead>\n",
       "  <tbody>\n",
       "    <tr>\n",
       "      <th>4</th>\n",
       "      <td>68.0</td>\n",
       "      <td>50.0</td>\n",
       "      <td>1.32</td>\n",
       "      <td>28.696051</td>\n",
       "    </tr>\n",
       "    <tr>\n",
       "      <th>7</th>\n",
       "      <td>57.0</td>\n",
       "      <td>34.0</td>\n",
       "      <td>1.61</td>\n",
       "      <td>13.116778</td>\n",
       "    </tr>\n",
       "    <tr>\n",
       "      <th>10</th>\n",
       "      <td>23.0</td>\n",
       "      <td>53.0</td>\n",
       "      <td>1.50</td>\n",
       "      <td>23.555556</td>\n",
       "    </tr>\n",
       "  </tbody>\n",
       "</table>\n",
       "</div>"
      ],
      "text/plain": [
       "     Age  Weight (in kg)  Height (in m)        BMI\n",
       "4   68.0            50.0           1.32  28.696051\n",
       "7   57.0            34.0           1.61  13.116778\n",
       "10  23.0            53.0           1.50  23.555556"
      ]
     },
     "execution_count": 69,
     "metadata": {},
     "output_type": "execute_result"
    }
   ],
   "source": [
    "# select the 4th, 7th and the 10th row\n",
    "x = [4,7,10]\n",
    "df_basic_info.iloc[x]"
   ]
  },
  {
   "cell_type": "markdown",
   "id": "c15a59b2",
   "metadata": {},
   "source": [
    "We use two square brackets since we are passing a list of row numbers to be accessed."
   ]
  },
  {
   "cell_type": "markdown",
   "id": "3ce83d4d",
   "metadata": {},
   "source": [
    "**Select 12th to 17th rows**"
   ]
  },
  {
   "cell_type": "code",
   "execution_count": 70,
   "id": "cb849856",
   "metadata": {},
   "outputs": [
    {
     "data": {
      "text/html": [
       "<div>\n",
       "<style scoped>\n",
       "    .dataframe tbody tr th:only-of-type {\n",
       "        vertical-align: middle;\n",
       "    }\n",
       "\n",
       "    .dataframe tbody tr th {\n",
       "        vertical-align: top;\n",
       "    }\n",
       "\n",
       "    .dataframe thead th {\n",
       "        text-align: right;\n",
       "    }\n",
       "</style>\n",
       "<table border=\"1\" class=\"dataframe\">\n",
       "  <thead>\n",
       "    <tr style=\"text-align: right;\">\n",
       "      <th></th>\n",
       "      <th>Age</th>\n",
       "      <th>Weight (in kg)</th>\n",
       "      <th>Height (in m)</th>\n",
       "      <th>BMI</th>\n",
       "    </tr>\n",
       "  </thead>\n",
       "  <tbody>\n",
       "    <tr>\n",
       "      <th>12</th>\n",
       "      <td>55.0</td>\n",
       "      <td>89.0</td>\n",
       "      <td>1.65</td>\n",
       "      <td>32.690542</td>\n",
       "    </tr>\n",
       "    <tr>\n",
       "      <th>13</th>\n",
       "      <td>23.0</td>\n",
       "      <td>45.0</td>\n",
       "      <td>1.75</td>\n",
       "      <td>14.693878</td>\n",
       "    </tr>\n",
       "    <tr>\n",
       "      <th>14</th>\n",
       "      <td>56.0</td>\n",
       "      <td>76.0</td>\n",
       "      <td>1.69</td>\n",
       "      <td>26.609713</td>\n",
       "    </tr>\n",
       "    <tr>\n",
       "      <th>15</th>\n",
       "      <td>67.0</td>\n",
       "      <td>78.0</td>\n",
       "      <td>1.85</td>\n",
       "      <td>22.790358</td>\n",
       "    </tr>\n",
       "    <tr>\n",
       "      <th>16</th>\n",
       "      <td>26.0</td>\n",
       "      <td>65.0</td>\n",
       "      <td>1.21</td>\n",
       "      <td>44.395875</td>\n",
       "    </tr>\n",
       "    <tr>\n",
       "      <th>17</th>\n",
       "      <td>56.0</td>\n",
       "      <td>74.0</td>\n",
       "      <td>1.69</td>\n",
       "      <td>25.909457</td>\n",
       "    </tr>\n",
       "  </tbody>\n",
       "</table>\n",
       "</div>"
      ],
      "text/plain": [
       "     Age  Weight (in kg)  Height (in m)        BMI\n",
       "12  55.0            89.0           1.65  32.690542\n",
       "13  23.0            45.0           1.75  14.693878\n",
       "14  56.0            76.0           1.69  26.609713\n",
       "15  67.0            78.0           1.85  22.790358\n",
       "16  26.0            65.0           1.21  44.395875\n",
       "17  56.0            74.0           1.69  25.909457"
      ]
     },
     "execution_count": 70,
     "metadata": {},
     "output_type": "execute_result"
    }
   ],
   "source": [
    "# select rows \n",
    "df_basic_info.iloc[12: 18]"
   ]
  },
  {
   "cell_type": "markdown",
   "id": "c0c20c77",
   "metadata": {},
   "source": [
    "**Select the 1st column**"
   ]
  },
  {
   "cell_type": "raw",
   "id": "813548d2",
   "metadata": {},
   "source": [
    "df_basic_info.iloc[r_start: r_end, c_start: c_end]"
   ]
  },
  {
   "cell_type": "code",
   "execution_count": 71,
   "id": "8dd18369",
   "metadata": {},
   "outputs": [
    {
     "data": {
      "text/html": [
       "<div>\n",
       "<style scoped>\n",
       "    .dataframe tbody tr th:only-of-type {\n",
       "        vertical-align: middle;\n",
       "    }\n",
       "\n",
       "    .dataframe tbody tr th {\n",
       "        vertical-align: top;\n",
       "    }\n",
       "\n",
       "    .dataframe thead th {\n",
       "        text-align: right;\n",
       "    }\n",
       "</style>\n",
       "<table border=\"1\" class=\"dataframe\">\n",
       "  <thead>\n",
       "    <tr style=\"text-align: right;\">\n",
       "      <th></th>\n",
       "      <th>Age</th>\n",
       "      <th>Weight (in kg)</th>\n",
       "      <th>Height (in m)</th>\n",
       "    </tr>\n",
       "  </thead>\n",
       "  <tbody>\n",
       "    <tr>\n",
       "      <th>0</th>\n",
       "      <td>45.0</td>\n",
       "      <td>60.0</td>\n",
       "      <td>1.35</td>\n",
       "    </tr>\n",
       "    <tr>\n",
       "      <th>1</th>\n",
       "      <td>12.0</td>\n",
       "      <td>43.0</td>\n",
       "      <td>1.21</td>\n",
       "    </tr>\n",
       "    <tr>\n",
       "      <th>2</th>\n",
       "      <td>54.0</td>\n",
       "      <td>78.0</td>\n",
       "      <td>1.50</td>\n",
       "    </tr>\n",
       "    <tr>\n",
       "      <th>3</th>\n",
       "      <td>26.0</td>\n",
       "      <td>65.0</td>\n",
       "      <td>1.21</td>\n",
       "    </tr>\n",
       "    <tr>\n",
       "      <th>4</th>\n",
       "      <td>68.0</td>\n",
       "      <td>50.0</td>\n",
       "      <td>1.32</td>\n",
       "    </tr>\n",
       "    <tr>\n",
       "      <th>5</th>\n",
       "      <td>21.0</td>\n",
       "      <td>43.0</td>\n",
       "      <td>1.52</td>\n",
       "    </tr>\n",
       "    <tr>\n",
       "      <th>6</th>\n",
       "      <td>10.0</td>\n",
       "      <td>32.0</td>\n",
       "      <td>1.65</td>\n",
       "    </tr>\n",
       "    <tr>\n",
       "      <th>7</th>\n",
       "      <td>57.0</td>\n",
       "      <td>34.0</td>\n",
       "      <td>1.61</td>\n",
       "    </tr>\n",
       "    <tr>\n",
       "      <th>8</th>\n",
       "      <td>75.0</td>\n",
       "      <td>23.0</td>\n",
       "      <td>1.24</td>\n",
       "    </tr>\n",
       "    <tr>\n",
       "      <th>9</th>\n",
       "      <td>32.0</td>\n",
       "      <td>21.0</td>\n",
       "      <td>1.52</td>\n",
       "    </tr>\n",
       "    <tr>\n",
       "      <th>10</th>\n",
       "      <td>23.0</td>\n",
       "      <td>53.0</td>\n",
       "      <td>1.50</td>\n",
       "    </tr>\n",
       "    <tr>\n",
       "      <th>11</th>\n",
       "      <td>34.0</td>\n",
       "      <td>65.0</td>\n",
       "      <td>1.76</td>\n",
       "    </tr>\n",
       "    <tr>\n",
       "      <th>12</th>\n",
       "      <td>55.0</td>\n",
       "      <td>89.0</td>\n",
       "      <td>1.65</td>\n",
       "    </tr>\n",
       "    <tr>\n",
       "      <th>13</th>\n",
       "      <td>23.0</td>\n",
       "      <td>45.0</td>\n",
       "      <td>1.75</td>\n",
       "    </tr>\n",
       "    <tr>\n",
       "      <th>14</th>\n",
       "      <td>56.0</td>\n",
       "      <td>76.0</td>\n",
       "      <td>1.69</td>\n",
       "    </tr>\n",
       "    <tr>\n",
       "      <th>15</th>\n",
       "      <td>67.0</td>\n",
       "      <td>78.0</td>\n",
       "      <td>1.85</td>\n",
       "    </tr>\n",
       "    <tr>\n",
       "      <th>16</th>\n",
       "      <td>26.0</td>\n",
       "      <td>65.0</td>\n",
       "      <td>1.21</td>\n",
       "    </tr>\n",
       "    <tr>\n",
       "      <th>17</th>\n",
       "      <td>56.0</td>\n",
       "      <td>74.0</td>\n",
       "      <td>1.69</td>\n",
       "    </tr>\n",
       "    <tr>\n",
       "      <th>18</th>\n",
       "      <td>67.0</td>\n",
       "      <td>78.0</td>\n",
       "      <td>1.85</td>\n",
       "    </tr>\n",
       "    <tr>\n",
       "      <th>19</th>\n",
       "      <td>26.0</td>\n",
       "      <td>65.0</td>\n",
       "      <td>1.21</td>\n",
       "    </tr>\n",
       "    <tr>\n",
       "      <th>20</th>\n",
       "      <td>68.0</td>\n",
       "      <td>50.0</td>\n",
       "      <td>1.32</td>\n",
       "    </tr>\n",
       "    <tr>\n",
       "      <th>21</th>\n",
       "      <td>56.0</td>\n",
       "      <td>76.0</td>\n",
       "      <td>1.69</td>\n",
       "    </tr>\n",
       "    <tr>\n",
       "      <th>22</th>\n",
       "      <td>67.0</td>\n",
       "      <td>78.0</td>\n",
       "      <td>1.85</td>\n",
       "    </tr>\n",
       "    <tr>\n",
       "      <th>23</th>\n",
       "      <td>45.0</td>\n",
       "      <td>85.0</td>\n",
       "      <td>1.80</td>\n",
       "    </tr>\n",
       "  </tbody>\n",
       "</table>\n",
       "</div>"
      ],
      "text/plain": [
       "     Age  Weight (in kg)  Height (in m)\n",
       "0   45.0            60.0           1.35\n",
       "1   12.0            43.0           1.21\n",
       "2   54.0            78.0           1.50\n",
       "3   26.0            65.0           1.21\n",
       "4   68.0            50.0           1.32\n",
       "5   21.0            43.0           1.52\n",
       "6   10.0            32.0           1.65\n",
       "7   57.0            34.0           1.61\n",
       "8   75.0            23.0           1.24\n",
       "9   32.0            21.0           1.52\n",
       "10  23.0            53.0           1.50\n",
       "11  34.0            65.0           1.76\n",
       "12  55.0            89.0           1.65\n",
       "13  23.0            45.0           1.75\n",
       "14  56.0            76.0           1.69\n",
       "15  67.0            78.0           1.85\n",
       "16  26.0            65.0           1.21\n",
       "17  56.0            74.0           1.69\n",
       "18  67.0            78.0           1.85\n",
       "19  26.0            65.0           1.21\n",
       "20  68.0            50.0           1.32\n",
       "21  56.0            76.0           1.69\n",
       "22  67.0            78.0           1.85\n",
       "23  45.0            85.0           1.80"
      ]
     },
     "execution_count": 71,
     "metadata": {},
     "output_type": "execute_result"
    }
   ],
   "source": [
    "# select the 1st column\n",
    "df_basic_info.iloc[0: 30, 0: 3]"
   ]
  },
  {
   "cell_type": "markdown",
   "id": "cf0d12dc",
   "metadata": {},
   "source": [
    "**Select the last column**"
   ]
  },
  {
   "cell_type": "code",
   "execution_count": 72,
   "id": "64b794f7",
   "metadata": {},
   "outputs": [
    {
     "data": {
      "text/plain": [
       "0     32.921811\n",
       "1     29.369579\n",
       "2     34.666667\n",
       "3     44.395875\n",
       "4     28.696051\n",
       "5     18.611496\n",
       "6     11.753903\n",
       "7     13.116778\n",
       "8     14.958377\n",
       "9      9.089335\n",
       "10    23.555556\n",
       "11    20.983988\n",
       "12    32.690542\n",
       "13    14.693878\n",
       "14    26.609713\n",
       "15    22.790358\n",
       "16    44.395875\n",
       "17    25.909457\n",
       "18    22.790358\n",
       "19    44.395875\n",
       "20    28.696051\n",
       "21    26.609713\n",
       "22    22.790358\n",
       "23    26.300000\n",
       "Name: BMI, dtype: float64"
      ]
     },
     "execution_count": 72,
     "metadata": {},
     "output_type": "execute_result"
    }
   ],
   "source": [
    "# select the last column\n",
    "# the colon indicates that all the rows are selected\n",
    "# -1 indicated that the last column is selected\n",
    "df_basic_info.iloc[:, -1]"
   ]
  },
  {
   "cell_type": "markdown",
   "id": "a73bb55a",
   "metadata": {},
   "source": [
    "To select the last column we use -1, to select the second last column we use -2"
   ]
  },
  {
   "cell_type": "markdown",
   "id": "1954b10e",
   "metadata": {},
   "source": [
    "**Select the first two columns**"
   ]
  },
  {
   "cell_type": "code",
   "execution_count": 73,
   "id": "3a0a69a8",
   "metadata": {},
   "outputs": [
    {
     "data": {
      "text/html": [
       "<div>\n",
       "<style scoped>\n",
       "    .dataframe tbody tr th:only-of-type {\n",
       "        vertical-align: middle;\n",
       "    }\n",
       "\n",
       "    .dataframe tbody tr th {\n",
       "        vertical-align: top;\n",
       "    }\n",
       "\n",
       "    .dataframe thead th {\n",
       "        text-align: right;\n",
       "    }\n",
       "</style>\n",
       "<table border=\"1\" class=\"dataframe\">\n",
       "  <thead>\n",
       "    <tr style=\"text-align: right;\">\n",
       "      <th></th>\n",
       "      <th>Age</th>\n",
       "      <th>Weight (in kg)</th>\n",
       "    </tr>\n",
       "  </thead>\n",
       "  <tbody>\n",
       "    <tr>\n",
       "      <th>0</th>\n",
       "      <td>45.0</td>\n",
       "      <td>60.0</td>\n",
       "    </tr>\n",
       "    <tr>\n",
       "      <th>1</th>\n",
       "      <td>12.0</td>\n",
       "      <td>43.0</td>\n",
       "    </tr>\n",
       "    <tr>\n",
       "      <th>2</th>\n",
       "      <td>54.0</td>\n",
       "      <td>78.0</td>\n",
       "    </tr>\n",
       "    <tr>\n",
       "      <th>3</th>\n",
       "      <td>26.0</td>\n",
       "      <td>65.0</td>\n",
       "    </tr>\n",
       "    <tr>\n",
       "      <th>4</th>\n",
       "      <td>68.0</td>\n",
       "      <td>50.0</td>\n",
       "    </tr>\n",
       "    <tr>\n",
       "      <th>5</th>\n",
       "      <td>21.0</td>\n",
       "      <td>43.0</td>\n",
       "    </tr>\n",
       "    <tr>\n",
       "      <th>6</th>\n",
       "      <td>10.0</td>\n",
       "      <td>32.0</td>\n",
       "    </tr>\n",
       "    <tr>\n",
       "      <th>7</th>\n",
       "      <td>57.0</td>\n",
       "      <td>34.0</td>\n",
       "    </tr>\n",
       "    <tr>\n",
       "      <th>8</th>\n",
       "      <td>75.0</td>\n",
       "      <td>23.0</td>\n",
       "    </tr>\n",
       "    <tr>\n",
       "      <th>9</th>\n",
       "      <td>32.0</td>\n",
       "      <td>21.0</td>\n",
       "    </tr>\n",
       "    <tr>\n",
       "      <th>10</th>\n",
       "      <td>23.0</td>\n",
       "      <td>53.0</td>\n",
       "    </tr>\n",
       "    <tr>\n",
       "      <th>11</th>\n",
       "      <td>34.0</td>\n",
       "      <td>65.0</td>\n",
       "    </tr>\n",
       "    <tr>\n",
       "      <th>12</th>\n",
       "      <td>55.0</td>\n",
       "      <td>89.0</td>\n",
       "    </tr>\n",
       "    <tr>\n",
       "      <th>13</th>\n",
       "      <td>23.0</td>\n",
       "      <td>45.0</td>\n",
       "    </tr>\n",
       "    <tr>\n",
       "      <th>14</th>\n",
       "      <td>56.0</td>\n",
       "      <td>76.0</td>\n",
       "    </tr>\n",
       "    <tr>\n",
       "      <th>15</th>\n",
       "      <td>67.0</td>\n",
       "      <td>78.0</td>\n",
       "    </tr>\n",
       "    <tr>\n",
       "      <th>16</th>\n",
       "      <td>26.0</td>\n",
       "      <td>65.0</td>\n",
       "    </tr>\n",
       "    <tr>\n",
       "      <th>17</th>\n",
       "      <td>56.0</td>\n",
       "      <td>74.0</td>\n",
       "    </tr>\n",
       "    <tr>\n",
       "      <th>18</th>\n",
       "      <td>67.0</td>\n",
       "      <td>78.0</td>\n",
       "    </tr>\n",
       "    <tr>\n",
       "      <th>19</th>\n",
       "      <td>26.0</td>\n",
       "      <td>65.0</td>\n",
       "    </tr>\n",
       "    <tr>\n",
       "      <th>20</th>\n",
       "      <td>68.0</td>\n",
       "      <td>50.0</td>\n",
       "    </tr>\n",
       "    <tr>\n",
       "      <th>21</th>\n",
       "      <td>56.0</td>\n",
       "      <td>76.0</td>\n",
       "    </tr>\n",
       "    <tr>\n",
       "      <th>22</th>\n",
       "      <td>67.0</td>\n",
       "      <td>78.0</td>\n",
       "    </tr>\n",
       "    <tr>\n",
       "      <th>23</th>\n",
       "      <td>45.0</td>\n",
       "      <td>85.0</td>\n",
       "    </tr>\n",
       "  </tbody>\n",
       "</table>\n",
       "</div>"
      ],
      "text/plain": [
       "     Age  Weight (in kg)\n",
       "0   45.0            60.0\n",
       "1   12.0            43.0\n",
       "2   54.0            78.0\n",
       "3   26.0            65.0\n",
       "4   68.0            50.0\n",
       "5   21.0            43.0\n",
       "6   10.0            32.0\n",
       "7   57.0            34.0\n",
       "8   75.0            23.0\n",
       "9   32.0            21.0\n",
       "10  23.0            53.0\n",
       "11  34.0            65.0\n",
       "12  55.0            89.0\n",
       "13  23.0            45.0\n",
       "14  56.0            76.0\n",
       "15  67.0            78.0\n",
       "16  26.0            65.0\n",
       "17  56.0            74.0\n",
       "18  67.0            78.0\n",
       "19  26.0            65.0\n",
       "20  68.0            50.0\n",
       "21  56.0            76.0\n",
       "22  67.0            78.0\n",
       "23  45.0            85.0"
      ]
     },
     "execution_count": 73,
     "metadata": {},
     "output_type": "execute_result"
    }
   ],
   "source": [
    "# select the 1st and 2nd columns\n",
    "# the colon indicates that all the rows are selected\n",
    "# 0:2 indicates that the 1st and 2nd columns are selected\n",
    "df_basic_info.iloc[:, 0:2]"
   ]
  },
  {
   "cell_type": "markdown",
   "id": "b0c5f11f",
   "metadata": {},
   "source": [
    "**Select the first two columns and 5 to 10 rows**"
   ]
  },
  {
   "cell_type": "code",
   "execution_count": 74,
   "id": "0f28d1cb",
   "metadata": {},
   "outputs": [
    {
     "data": {
      "text/html": [
       "<div>\n",
       "<style scoped>\n",
       "    .dataframe tbody tr th:only-of-type {\n",
       "        vertical-align: middle;\n",
       "    }\n",
       "\n",
       "    .dataframe tbody tr th {\n",
       "        vertical-align: top;\n",
       "    }\n",
       "\n",
       "    .dataframe thead th {\n",
       "        text-align: right;\n",
       "    }\n",
       "</style>\n",
       "<table border=\"1\" class=\"dataframe\">\n",
       "  <thead>\n",
       "    <tr style=\"text-align: right;\">\n",
       "      <th></th>\n",
       "      <th>Age</th>\n",
       "      <th>Weight (in kg)</th>\n",
       "    </tr>\n",
       "  </thead>\n",
       "  <tbody>\n",
       "    <tr>\n",
       "      <th>5</th>\n",
       "      <td>21.0</td>\n",
       "      <td>43.0</td>\n",
       "    </tr>\n",
       "    <tr>\n",
       "      <th>6</th>\n",
       "      <td>10.0</td>\n",
       "      <td>32.0</td>\n",
       "    </tr>\n",
       "    <tr>\n",
       "      <th>7</th>\n",
       "      <td>57.0</td>\n",
       "      <td>34.0</td>\n",
       "    </tr>\n",
       "    <tr>\n",
       "      <th>8</th>\n",
       "      <td>75.0</td>\n",
       "      <td>23.0</td>\n",
       "    </tr>\n",
       "    <tr>\n",
       "      <th>9</th>\n",
       "      <td>32.0</td>\n",
       "      <td>21.0</td>\n",
       "    </tr>\n",
       "    <tr>\n",
       "      <th>10</th>\n",
       "      <td>23.0</td>\n",
       "      <td>53.0</td>\n",
       "    </tr>\n",
       "  </tbody>\n",
       "</table>\n",
       "</div>"
      ],
      "text/plain": [
       "     Age  Weight (in kg)\n",
       "5   21.0            43.0\n",
       "6   10.0            32.0\n",
       "7   57.0            34.0\n",
       "8   75.0            23.0\n",
       "9   32.0            21.0\n",
       "10  23.0            53.0"
      ]
     },
     "execution_count": 74,
     "metadata": {},
     "output_type": "execute_result"
    }
   ],
   "source": [
    "# 5:11 indicates that the 5th to 10th rows will be selected\n",
    "# 0:2 indicates that the 1st and 2nd columns be selected\n",
    "df_basic_info.iloc[5: 11, 0: 2]"
   ]
  },
  {
   "cell_type": "markdown",
   "id": "428cfa4c",
   "metadata": {},
   "source": [
    "**Indexing a dataframe using `.loc`**\n",
    "\n",
    "`DataFrame.loc[]` method is a method that takes only index labels and returns row or dataframe if the index label exists in the caller data frame. <br>\n",
    "`DataFrame.loc[Row_names, column_names]` is used to select or index rows or columns based on their name."
   ]
  },
  {
   "cell_type": "markdown",
   "id": "de98f80f",
   "metadata": {},
   "source": [
    "**Select 1 to 5 rows and 2nd and 4th columns**"
   ]
  },
  {
   "cell_type": "code",
   "execution_count": 75,
   "id": "195306bd",
   "metadata": {},
   "outputs": [
    {
     "data": {
      "text/html": [
       "<div>\n",
       "<style scoped>\n",
       "    .dataframe tbody tr th:only-of-type {\n",
       "        vertical-align: middle;\n",
       "    }\n",
       "\n",
       "    .dataframe tbody tr th {\n",
       "        vertical-align: top;\n",
       "    }\n",
       "\n",
       "    .dataframe thead th {\n",
       "        text-align: right;\n",
       "    }\n",
       "</style>\n",
       "<table border=\"1\" class=\"dataframe\">\n",
       "  <thead>\n",
       "    <tr style=\"text-align: right;\">\n",
       "      <th></th>\n",
       "      <th>Weight (in kg)</th>\n",
       "      <th>BMI</th>\n",
       "    </tr>\n",
       "  </thead>\n",
       "  <tbody>\n",
       "    <tr>\n",
       "      <th>1</th>\n",
       "      <td>43.0</td>\n",
       "      <td>29.369579</td>\n",
       "    </tr>\n",
       "    <tr>\n",
       "      <th>2</th>\n",
       "      <td>78.0</td>\n",
       "      <td>34.666667</td>\n",
       "    </tr>\n",
       "    <tr>\n",
       "      <th>3</th>\n",
       "      <td>65.0</td>\n",
       "      <td>44.395875</td>\n",
       "    </tr>\n",
       "    <tr>\n",
       "      <th>4</th>\n",
       "      <td>50.0</td>\n",
       "      <td>28.696051</td>\n",
       "    </tr>\n",
       "    <tr>\n",
       "      <th>5</th>\n",
       "      <td>43.0</td>\n",
       "      <td>18.611496</td>\n",
       "    </tr>\n",
       "  </tbody>\n",
       "</table>\n",
       "</div>"
      ],
      "text/plain": [
       "   Weight (in kg)        BMI\n",
       "1            43.0  29.369579\n",
       "2            78.0  34.666667\n",
       "3            65.0  44.395875\n",
       "4            50.0  28.696051\n",
       "5            43.0  18.611496"
      ]
     },
     "execution_count": 75,
     "metadata": {},
     "output_type": "execute_result"
    }
   ],
   "source": [
    "# 1:5 indicates that rows with indices 1, 2, 3, 4 and 5 are selected\n",
    "# [\"Weight (in kg)\",\"BMI\"] indicates that the specified columns be selected\n",
    "df_basic_info.loc[1:5, [\"Weight (in kg)\", \"BMI\"]]"
   ]
  },
  {
   "cell_type": "markdown",
   "id": "1a195fde",
   "metadata": {},
   "source": [
    "**Note:** the row names are numbers "
   ]
  },
  {
   "cell_type": "markdown",
   "id": "e8af5d08",
   "metadata": {},
   "source": [
    "**Selecting columns by specifying column names**"
   ]
  },
  {
   "cell_type": "markdown",
   "id": "185ae813",
   "metadata": {},
   "source": [
    "**Select the column 'Age'**"
   ]
  },
  {
   "cell_type": "code",
   "execution_count": 76,
   "id": "d2bf6d8b",
   "metadata": {},
   "outputs": [
    {
     "data": {
      "text/plain": [
       "0     45.0\n",
       "1     12.0\n",
       "2     54.0\n",
       "3     26.0\n",
       "4     68.0\n",
       "5     21.0\n",
       "6     10.0\n",
       "7     57.0\n",
       "8     75.0\n",
       "9     32.0\n",
       "10    23.0\n",
       "11    34.0\n",
       "12    55.0\n",
       "13    23.0\n",
       "14    56.0\n",
       "15    67.0\n",
       "16    26.0\n",
       "17    56.0\n",
       "18    67.0\n",
       "19    26.0\n",
       "20    68.0\n",
       "21    56.0\n",
       "22    67.0\n",
       "23    45.0\n",
       "Name: Age, dtype: float64"
      ]
     },
     "execution_count": 76,
     "metadata": {},
     "output_type": "execute_result"
    }
   ],
   "source": [
    "# select the coumn 'Age'\n",
    "df_basic_info.Age"
   ]
  },
  {
   "cell_type": "markdown",
   "id": "4fafba74",
   "metadata": {},
   "source": [
    "**Remark:** Using this method we can select only one column."
   ]
  },
  {
   "cell_type": "code",
   "execution_count": 77,
   "id": "ff7c8ba9",
   "metadata": {},
   "outputs": [
    {
     "data": {
      "text/plain": [
       "0     45.0\n",
       "1     12.0\n",
       "2     54.0\n",
       "3     26.0\n",
       "4     68.0\n",
       "5     21.0\n",
       "6     10.0\n",
       "7     57.0\n",
       "8     75.0\n",
       "9     32.0\n",
       "10    23.0\n",
       "11    34.0\n",
       "12    55.0\n",
       "13    23.0\n",
       "14    56.0\n",
       "15    67.0\n",
       "16    26.0\n",
       "17    56.0\n",
       "18    67.0\n",
       "19    26.0\n",
       "20    68.0\n",
       "21    56.0\n",
       "22    67.0\n",
       "23    45.0\n",
       "Name: Age, dtype: float64"
      ]
     },
     "execution_count": 77,
     "metadata": {},
     "output_type": "execute_result"
    }
   ],
   "source": [
    "# OR\n",
    "df_basic_info['Age']"
   ]
  },
  {
   "cell_type": "markdown",
   "id": "34c1bfd0",
   "metadata": {},
   "source": [
    "**Select the column 'Age' and 'BMI'**"
   ]
  },
  {
   "cell_type": "code",
   "execution_count": 78,
   "id": "7ccd3ad7",
   "metadata": {},
   "outputs": [
    {
     "data": {
      "text/html": [
       "<div>\n",
       "<style scoped>\n",
       "    .dataframe tbody tr th:only-of-type {\n",
       "        vertical-align: middle;\n",
       "    }\n",
       "\n",
       "    .dataframe tbody tr th {\n",
       "        vertical-align: top;\n",
       "    }\n",
       "\n",
       "    .dataframe thead th {\n",
       "        text-align: right;\n",
       "    }\n",
       "</style>\n",
       "<table border=\"1\" class=\"dataframe\">\n",
       "  <thead>\n",
       "    <tr style=\"text-align: right;\">\n",
       "      <th></th>\n",
       "      <th>Age</th>\n",
       "      <th>BMI</th>\n",
       "    </tr>\n",
       "  </thead>\n",
       "  <tbody>\n",
       "    <tr>\n",
       "      <th>0</th>\n",
       "      <td>45.0</td>\n",
       "      <td>32.921811</td>\n",
       "    </tr>\n",
       "    <tr>\n",
       "      <th>1</th>\n",
       "      <td>12.0</td>\n",
       "      <td>29.369579</td>\n",
       "    </tr>\n",
       "    <tr>\n",
       "      <th>2</th>\n",
       "      <td>54.0</td>\n",
       "      <td>34.666667</td>\n",
       "    </tr>\n",
       "    <tr>\n",
       "      <th>3</th>\n",
       "      <td>26.0</td>\n",
       "      <td>44.395875</td>\n",
       "    </tr>\n",
       "    <tr>\n",
       "      <th>4</th>\n",
       "      <td>68.0</td>\n",
       "      <td>28.696051</td>\n",
       "    </tr>\n",
       "    <tr>\n",
       "      <th>5</th>\n",
       "      <td>21.0</td>\n",
       "      <td>18.611496</td>\n",
       "    </tr>\n",
       "    <tr>\n",
       "      <th>6</th>\n",
       "      <td>10.0</td>\n",
       "      <td>11.753903</td>\n",
       "    </tr>\n",
       "    <tr>\n",
       "      <th>7</th>\n",
       "      <td>57.0</td>\n",
       "      <td>13.116778</td>\n",
       "    </tr>\n",
       "    <tr>\n",
       "      <th>8</th>\n",
       "      <td>75.0</td>\n",
       "      <td>14.958377</td>\n",
       "    </tr>\n",
       "    <tr>\n",
       "      <th>9</th>\n",
       "      <td>32.0</td>\n",
       "      <td>9.089335</td>\n",
       "    </tr>\n",
       "    <tr>\n",
       "      <th>10</th>\n",
       "      <td>23.0</td>\n",
       "      <td>23.555556</td>\n",
       "    </tr>\n",
       "    <tr>\n",
       "      <th>11</th>\n",
       "      <td>34.0</td>\n",
       "      <td>20.983988</td>\n",
       "    </tr>\n",
       "    <tr>\n",
       "      <th>12</th>\n",
       "      <td>55.0</td>\n",
       "      <td>32.690542</td>\n",
       "    </tr>\n",
       "    <tr>\n",
       "      <th>13</th>\n",
       "      <td>23.0</td>\n",
       "      <td>14.693878</td>\n",
       "    </tr>\n",
       "    <tr>\n",
       "      <th>14</th>\n",
       "      <td>56.0</td>\n",
       "      <td>26.609713</td>\n",
       "    </tr>\n",
       "    <tr>\n",
       "      <th>15</th>\n",
       "      <td>67.0</td>\n",
       "      <td>22.790358</td>\n",
       "    </tr>\n",
       "    <tr>\n",
       "      <th>16</th>\n",
       "      <td>26.0</td>\n",
       "      <td>44.395875</td>\n",
       "    </tr>\n",
       "    <tr>\n",
       "      <th>17</th>\n",
       "      <td>56.0</td>\n",
       "      <td>25.909457</td>\n",
       "    </tr>\n",
       "    <tr>\n",
       "      <th>18</th>\n",
       "      <td>67.0</td>\n",
       "      <td>22.790358</td>\n",
       "    </tr>\n",
       "    <tr>\n",
       "      <th>19</th>\n",
       "      <td>26.0</td>\n",
       "      <td>44.395875</td>\n",
       "    </tr>\n",
       "    <tr>\n",
       "      <th>20</th>\n",
       "      <td>68.0</td>\n",
       "      <td>28.696051</td>\n",
       "    </tr>\n",
       "    <tr>\n",
       "      <th>21</th>\n",
       "      <td>56.0</td>\n",
       "      <td>26.609713</td>\n",
       "    </tr>\n",
       "    <tr>\n",
       "      <th>22</th>\n",
       "      <td>67.0</td>\n",
       "      <td>22.790358</td>\n",
       "    </tr>\n",
       "    <tr>\n",
       "      <th>23</th>\n",
       "      <td>45.0</td>\n",
       "      <td>26.300000</td>\n",
       "    </tr>\n",
       "  </tbody>\n",
       "</table>\n",
       "</div>"
      ],
      "text/plain": [
       "     Age        BMI\n",
       "0   45.0  32.921811\n",
       "1   12.0  29.369579\n",
       "2   54.0  34.666667\n",
       "3   26.0  44.395875\n",
       "4   68.0  28.696051\n",
       "5   21.0  18.611496\n",
       "6   10.0  11.753903\n",
       "7   57.0  13.116778\n",
       "8   75.0  14.958377\n",
       "9   32.0   9.089335\n",
       "10  23.0  23.555556\n",
       "11  34.0  20.983988\n",
       "12  55.0  32.690542\n",
       "13  23.0  14.693878\n",
       "14  56.0  26.609713\n",
       "15  67.0  22.790358\n",
       "16  26.0  44.395875\n",
       "17  56.0  25.909457\n",
       "18  67.0  22.790358\n",
       "19  26.0  44.395875\n",
       "20  68.0  28.696051\n",
       "21  56.0  26.609713\n",
       "22  67.0  22.790358\n",
       "23  45.0  26.300000"
      ]
     },
     "execution_count": 78,
     "metadata": {},
     "output_type": "execute_result"
    }
   ],
   "source": [
    "# select two columns\n",
    "# the column names are passed in a list\n",
    "df_basic_info[['Age', 'BMI']]"
   ]
  },
  {
   "cell_type": "markdown",
   "id": "9c852dbb",
   "metadata": {},
   "source": [
    "**Conditional subsetting**\n",
    "\n",
    "Selecting rows where the value of `Age` is greater than 47 "
   ]
  },
  {
   "cell_type": "code",
   "execution_count": 79,
   "id": "dced1164",
   "metadata": {},
   "outputs": [
    {
     "data": {
      "text/html": [
       "<div>\n",
       "<style scoped>\n",
       "    .dataframe tbody tr th:only-of-type {\n",
       "        vertical-align: middle;\n",
       "    }\n",
       "\n",
       "    .dataframe tbody tr th {\n",
       "        vertical-align: top;\n",
       "    }\n",
       "\n",
       "    .dataframe thead th {\n",
       "        text-align: right;\n",
       "    }\n",
       "</style>\n",
       "<table border=\"1\" class=\"dataframe\">\n",
       "  <thead>\n",
       "    <tr style=\"text-align: right;\">\n",
       "      <th></th>\n",
       "      <th>Age</th>\n",
       "      <th>Weight (in kg)</th>\n",
       "      <th>Height (in m)</th>\n",
       "      <th>BMI</th>\n",
       "    </tr>\n",
       "  </thead>\n",
       "  <tbody>\n",
       "    <tr>\n",
       "      <th>2</th>\n",
       "      <td>54.0</td>\n",
       "      <td>78.0</td>\n",
       "      <td>1.50</td>\n",
       "      <td>34.666667</td>\n",
       "    </tr>\n",
       "    <tr>\n",
       "      <th>4</th>\n",
       "      <td>68.0</td>\n",
       "      <td>50.0</td>\n",
       "      <td>1.32</td>\n",
       "      <td>28.696051</td>\n",
       "    </tr>\n",
       "    <tr>\n",
       "      <th>7</th>\n",
       "      <td>57.0</td>\n",
       "      <td>34.0</td>\n",
       "      <td>1.61</td>\n",
       "      <td>13.116778</td>\n",
       "    </tr>\n",
       "    <tr>\n",
       "      <th>8</th>\n",
       "      <td>75.0</td>\n",
       "      <td>23.0</td>\n",
       "      <td>1.24</td>\n",
       "      <td>14.958377</td>\n",
       "    </tr>\n",
       "    <tr>\n",
       "      <th>12</th>\n",
       "      <td>55.0</td>\n",
       "      <td>89.0</td>\n",
       "      <td>1.65</td>\n",
       "      <td>32.690542</td>\n",
       "    </tr>\n",
       "    <tr>\n",
       "      <th>14</th>\n",
       "      <td>56.0</td>\n",
       "      <td>76.0</td>\n",
       "      <td>1.69</td>\n",
       "      <td>26.609713</td>\n",
       "    </tr>\n",
       "    <tr>\n",
       "      <th>15</th>\n",
       "      <td>67.0</td>\n",
       "      <td>78.0</td>\n",
       "      <td>1.85</td>\n",
       "      <td>22.790358</td>\n",
       "    </tr>\n",
       "    <tr>\n",
       "      <th>17</th>\n",
       "      <td>56.0</td>\n",
       "      <td>74.0</td>\n",
       "      <td>1.69</td>\n",
       "      <td>25.909457</td>\n",
       "    </tr>\n",
       "    <tr>\n",
       "      <th>18</th>\n",
       "      <td>67.0</td>\n",
       "      <td>78.0</td>\n",
       "      <td>1.85</td>\n",
       "      <td>22.790358</td>\n",
       "    </tr>\n",
       "    <tr>\n",
       "      <th>20</th>\n",
       "      <td>68.0</td>\n",
       "      <td>50.0</td>\n",
       "      <td>1.32</td>\n",
       "      <td>28.696051</td>\n",
       "    </tr>\n",
       "    <tr>\n",
       "      <th>21</th>\n",
       "      <td>56.0</td>\n",
       "      <td>76.0</td>\n",
       "      <td>1.69</td>\n",
       "      <td>26.609713</td>\n",
       "    </tr>\n",
       "    <tr>\n",
       "      <th>22</th>\n",
       "      <td>67.0</td>\n",
       "      <td>78.0</td>\n",
       "      <td>1.85</td>\n",
       "      <td>22.790358</td>\n",
       "    </tr>\n",
       "  </tbody>\n",
       "</table>\n",
       "</div>"
      ],
      "text/plain": [
       "     Age  Weight (in kg)  Height (in m)        BMI\n",
       "2   54.0            78.0           1.50  34.666667\n",
       "4   68.0            50.0           1.32  28.696051\n",
       "7   57.0            34.0           1.61  13.116778\n",
       "8   75.0            23.0           1.24  14.958377\n",
       "12  55.0            89.0           1.65  32.690542\n",
       "14  56.0            76.0           1.69  26.609713\n",
       "15  67.0            78.0           1.85  22.790358\n",
       "17  56.0            74.0           1.69  25.909457\n",
       "18  67.0            78.0           1.85  22.790358\n",
       "20  68.0            50.0           1.32  28.696051\n",
       "21  56.0            76.0           1.69  26.609713\n",
       "22  67.0            78.0           1.85  22.790358"
      ]
     },
     "execution_count": 79,
     "metadata": {},
     "output_type": "execute_result"
    }
   ],
   "source": [
    "# to selct rows where the Age is greater than 47\n",
    "df_basic_info[df_basic_info['Age'] > 47]"
   ]
  },
  {
   "cell_type": "markdown",
   "id": "5ef6122e",
   "metadata": {},
   "source": [
    "Subsetting the age more than 40 or weight column value more than 65"
   ]
  },
  {
   "cell_type": "code",
   "execution_count": 80,
   "id": "5be841a9",
   "metadata": {},
   "outputs": [
    {
     "data": {
      "text/html": [
       "<div>\n",
       "<style scoped>\n",
       "    .dataframe tbody tr th:only-of-type {\n",
       "        vertical-align: middle;\n",
       "    }\n",
       "\n",
       "    .dataframe tbody tr th {\n",
       "        vertical-align: top;\n",
       "    }\n",
       "\n",
       "    .dataframe thead th {\n",
       "        text-align: right;\n",
       "    }\n",
       "</style>\n",
       "<table border=\"1\" class=\"dataframe\">\n",
       "  <thead>\n",
       "    <tr style=\"text-align: right;\">\n",
       "      <th></th>\n",
       "      <th>Age</th>\n",
       "      <th>Weight (in kg)</th>\n",
       "      <th>Height (in m)</th>\n",
       "      <th>BMI</th>\n",
       "    </tr>\n",
       "  </thead>\n",
       "  <tbody>\n",
       "    <tr>\n",
       "      <th>2</th>\n",
       "      <td>54.0</td>\n",
       "      <td>78.0</td>\n",
       "      <td>1.50</td>\n",
       "      <td>34.666667</td>\n",
       "    </tr>\n",
       "    <tr>\n",
       "      <th>12</th>\n",
       "      <td>55.0</td>\n",
       "      <td>89.0</td>\n",
       "      <td>1.65</td>\n",
       "      <td>32.690542</td>\n",
       "    </tr>\n",
       "    <tr>\n",
       "      <th>14</th>\n",
       "      <td>56.0</td>\n",
       "      <td>76.0</td>\n",
       "      <td>1.69</td>\n",
       "      <td>26.609713</td>\n",
       "    </tr>\n",
       "    <tr>\n",
       "      <th>15</th>\n",
       "      <td>67.0</td>\n",
       "      <td>78.0</td>\n",
       "      <td>1.85</td>\n",
       "      <td>22.790358</td>\n",
       "    </tr>\n",
       "    <tr>\n",
       "      <th>17</th>\n",
       "      <td>56.0</td>\n",
       "      <td>74.0</td>\n",
       "      <td>1.69</td>\n",
       "      <td>25.909457</td>\n",
       "    </tr>\n",
       "    <tr>\n",
       "      <th>18</th>\n",
       "      <td>67.0</td>\n",
       "      <td>78.0</td>\n",
       "      <td>1.85</td>\n",
       "      <td>22.790358</td>\n",
       "    </tr>\n",
       "    <tr>\n",
       "      <th>21</th>\n",
       "      <td>56.0</td>\n",
       "      <td>76.0</td>\n",
       "      <td>1.69</td>\n",
       "      <td>26.609713</td>\n",
       "    </tr>\n",
       "    <tr>\n",
       "      <th>22</th>\n",
       "      <td>67.0</td>\n",
       "      <td>78.0</td>\n",
       "      <td>1.85</td>\n",
       "      <td>22.790358</td>\n",
       "    </tr>\n",
       "    <tr>\n",
       "      <th>23</th>\n",
       "      <td>45.0</td>\n",
       "      <td>85.0</td>\n",
       "      <td>1.80</td>\n",
       "      <td>26.300000</td>\n",
       "    </tr>\n",
       "  </tbody>\n",
       "</table>\n",
       "</div>"
      ],
      "text/plain": [
       "     Age  Weight (in kg)  Height (in m)        BMI\n",
       "2   54.0            78.0           1.50  34.666667\n",
       "12  55.0            89.0           1.65  32.690542\n",
       "14  56.0            76.0           1.69  26.609713\n",
       "15  67.0            78.0           1.85  22.790358\n",
       "17  56.0            74.0           1.69  25.909457\n",
       "18  67.0            78.0           1.85  22.790358\n",
       "21  56.0            76.0           1.69  26.609713\n",
       "22  67.0            78.0           1.85  22.790358\n",
       "23  45.0            85.0           1.80  26.300000"
      ]
     },
     "execution_count": 80,
     "metadata": {},
     "output_type": "execute_result"
    }
   ],
   "source": [
    "# to select rows where either age is greater than 40 or weight is more than 65\n",
    "df_basic_info[(df_basic_info['Age'] > 40) & (df_basic_info['Weight (in kg)'] > 65)]"
   ]
  },
  {
   "cell_type": "markdown",
   "id": "259c5be7",
   "metadata": {},
   "source": [
    "Subsetting the age and weight column value more than 65\n"
   ]
  },
  {
   "cell_type": "code",
   "execution_count": 81,
   "id": "3059d024",
   "metadata": {},
   "outputs": [
    {
     "data": {
      "text/html": [
       "<div>\n",
       "<style scoped>\n",
       "    .dataframe tbody tr th:only-of-type {\n",
       "        vertical-align: middle;\n",
       "    }\n",
       "\n",
       "    .dataframe tbody tr th {\n",
       "        vertical-align: top;\n",
       "    }\n",
       "\n",
       "    .dataframe thead th {\n",
       "        text-align: right;\n",
       "    }\n",
       "</style>\n",
       "<table border=\"1\" class=\"dataframe\">\n",
       "  <thead>\n",
       "    <tr style=\"text-align: right;\">\n",
       "      <th></th>\n",
       "      <th>Age</th>\n",
       "      <th>Weight (in kg)</th>\n",
       "      <th>Height (in m)</th>\n",
       "      <th>BMI</th>\n",
       "    </tr>\n",
       "  </thead>\n",
       "  <tbody>\n",
       "    <tr>\n",
       "      <th>15</th>\n",
       "      <td>67.0</td>\n",
       "      <td>78.0</td>\n",
       "      <td>1.85</td>\n",
       "      <td>22.790358</td>\n",
       "    </tr>\n",
       "    <tr>\n",
       "      <th>18</th>\n",
       "      <td>67.0</td>\n",
       "      <td>78.0</td>\n",
       "      <td>1.85</td>\n",
       "      <td>22.790358</td>\n",
       "    </tr>\n",
       "    <tr>\n",
       "      <th>22</th>\n",
       "      <td>67.0</td>\n",
       "      <td>78.0</td>\n",
       "      <td>1.85</td>\n",
       "      <td>22.790358</td>\n",
       "    </tr>\n",
       "  </tbody>\n",
       "</table>\n",
       "</div>"
      ],
      "text/plain": [
       "     Age  Weight (in kg)  Height (in m)        BMI\n",
       "15  67.0            78.0           1.85  22.790358\n",
       "18  67.0            78.0           1.85  22.790358\n",
       "22  67.0            78.0           1.85  22.790358"
      ]
     },
     "execution_count": 81,
     "metadata": {},
     "output_type": "execute_result"
    }
   ],
   "source": [
    "# select rows where both age and weight are more than 65\n",
    "df_basic_info[(df_basic_info['Age'] > 65) & (df_basic_info['Weight (in kg)'] > 65)]"
   ]
  },
  {
   "cell_type": "markdown",
   "id": "23b01ff8",
   "metadata": {},
   "source": [
    "**Sort the data frame on the basis of values in a column**"
   ]
  },
  {
   "cell_type": "markdown",
   "id": "632cc70f",
   "metadata": {},
   "source": [
    "Each column of a pandas DataFrame is treated as a pandas Series. The `.sort_values()` in DataFrames works similar to the `pandas.Series`."
   ]
  },
  {
   "cell_type": "code",
   "execution_count": 82,
   "id": "d58f37dc",
   "metadata": {},
   "outputs": [],
   "source": [
    "# sort the data frame on basis of 'Age' values\n",
    "# by default the values will get sorted in ascending order\n"
   ]
  },
  {
   "cell_type": "code",
   "execution_count": 83,
   "id": "a409bb4f",
   "metadata": {},
   "outputs": [],
   "source": [
    "# Note: 'ascending = False' will sort the data frame in descending order"
   ]
  },
  {
   "cell_type": "markdown",
   "id": "cc186a3d",
   "metadata": {},
   "source": [
    "**Rank the dataframe**"
   ]
  },
  {
   "cell_type": "code",
   "execution_count": 84,
   "id": "309f6aa1",
   "metadata": {},
   "outputs": [
    {
     "data": {
      "text/html": [
       "<div>\n",
       "<style scoped>\n",
       "    .dataframe tbody tr th:only-of-type {\n",
       "        vertical-align: middle;\n",
       "    }\n",
       "\n",
       "    .dataframe tbody tr th {\n",
       "        vertical-align: top;\n",
       "    }\n",
       "\n",
       "    .dataframe thead th {\n",
       "        text-align: right;\n",
       "    }\n",
       "</style>\n",
       "<table border=\"1\" class=\"dataframe\">\n",
       "  <thead>\n",
       "    <tr style=\"text-align: right;\">\n",
       "      <th></th>\n",
       "      <th>Age</th>\n",
       "      <th>Weight (in kg)</th>\n",
       "      <th>Height (in m)</th>\n",
       "      <th>BMI</th>\n",
       "      <th>Rank_min</th>\n",
       "    </tr>\n",
       "  </thead>\n",
       "  <tbody>\n",
       "    <tr>\n",
       "      <th>0</th>\n",
       "      <td>45.0</td>\n",
       "      <td>60.0</td>\n",
       "      <td>1.35</td>\n",
       "      <td>32.921811</td>\n",
       "      <td>20.0</td>\n",
       "    </tr>\n",
       "    <tr>\n",
       "      <th>1</th>\n",
       "      <td>12.0</td>\n",
       "      <td>43.0</td>\n",
       "      <td>1.21</td>\n",
       "      <td>29.369579</td>\n",
       "      <td>18.0</td>\n",
       "    </tr>\n",
       "    <tr>\n",
       "      <th>2</th>\n",
       "      <td>54.0</td>\n",
       "      <td>78.0</td>\n",
       "      <td>1.50</td>\n",
       "      <td>34.666667</td>\n",
       "      <td>21.0</td>\n",
       "    </tr>\n",
       "    <tr>\n",
       "      <th>3</th>\n",
       "      <td>26.0</td>\n",
       "      <td>65.0</td>\n",
       "      <td>1.21</td>\n",
       "      <td>44.395875</td>\n",
       "      <td>22.0</td>\n",
       "    </tr>\n",
       "    <tr>\n",
       "      <th>4</th>\n",
       "      <td>68.0</td>\n",
       "      <td>50.0</td>\n",
       "      <td>1.32</td>\n",
       "      <td>28.696051</td>\n",
       "      <td>16.0</td>\n",
       "    </tr>\n",
       "    <tr>\n",
       "      <th>5</th>\n",
       "      <td>21.0</td>\n",
       "      <td>43.0</td>\n",
       "      <td>1.52</td>\n",
       "      <td>18.611496</td>\n",
       "      <td>6.0</td>\n",
       "    </tr>\n",
       "    <tr>\n",
       "      <th>6</th>\n",
       "      <td>10.0</td>\n",
       "      <td>32.0</td>\n",
       "      <td>1.65</td>\n",
       "      <td>11.753903</td>\n",
       "      <td>2.0</td>\n",
       "    </tr>\n",
       "    <tr>\n",
       "      <th>7</th>\n",
       "      <td>57.0</td>\n",
       "      <td>34.0</td>\n",
       "      <td>1.61</td>\n",
       "      <td>13.116778</td>\n",
       "      <td>3.0</td>\n",
       "    </tr>\n",
       "    <tr>\n",
       "      <th>8</th>\n",
       "      <td>75.0</td>\n",
       "      <td>23.0</td>\n",
       "      <td>1.24</td>\n",
       "      <td>14.958377</td>\n",
       "      <td>5.0</td>\n",
       "    </tr>\n",
       "    <tr>\n",
       "      <th>9</th>\n",
       "      <td>32.0</td>\n",
       "      <td>21.0</td>\n",
       "      <td>1.52</td>\n",
       "      <td>9.089335</td>\n",
       "      <td>1.0</td>\n",
       "    </tr>\n",
       "    <tr>\n",
       "      <th>10</th>\n",
       "      <td>23.0</td>\n",
       "      <td>53.0</td>\n",
       "      <td>1.50</td>\n",
       "      <td>23.555556</td>\n",
       "      <td>11.0</td>\n",
       "    </tr>\n",
       "    <tr>\n",
       "      <th>11</th>\n",
       "      <td>34.0</td>\n",
       "      <td>65.0</td>\n",
       "      <td>1.76</td>\n",
       "      <td>20.983988</td>\n",
       "      <td>7.0</td>\n",
       "    </tr>\n",
       "    <tr>\n",
       "      <th>12</th>\n",
       "      <td>55.0</td>\n",
       "      <td>89.0</td>\n",
       "      <td>1.65</td>\n",
       "      <td>32.690542</td>\n",
       "      <td>19.0</td>\n",
       "    </tr>\n",
       "    <tr>\n",
       "      <th>13</th>\n",
       "      <td>23.0</td>\n",
       "      <td>45.0</td>\n",
       "      <td>1.75</td>\n",
       "      <td>14.693878</td>\n",
       "      <td>4.0</td>\n",
       "    </tr>\n",
       "    <tr>\n",
       "      <th>14</th>\n",
       "      <td>56.0</td>\n",
       "      <td>76.0</td>\n",
       "      <td>1.69</td>\n",
       "      <td>26.609713</td>\n",
       "      <td>14.0</td>\n",
       "    </tr>\n",
       "    <tr>\n",
       "      <th>15</th>\n",
       "      <td>67.0</td>\n",
       "      <td>78.0</td>\n",
       "      <td>1.85</td>\n",
       "      <td>22.790358</td>\n",
       "      <td>8.0</td>\n",
       "    </tr>\n",
       "    <tr>\n",
       "      <th>16</th>\n",
       "      <td>26.0</td>\n",
       "      <td>65.0</td>\n",
       "      <td>1.21</td>\n",
       "      <td>44.395875</td>\n",
       "      <td>22.0</td>\n",
       "    </tr>\n",
       "    <tr>\n",
       "      <th>17</th>\n",
       "      <td>56.0</td>\n",
       "      <td>74.0</td>\n",
       "      <td>1.69</td>\n",
       "      <td>25.909457</td>\n",
       "      <td>12.0</td>\n",
       "    </tr>\n",
       "    <tr>\n",
       "      <th>18</th>\n",
       "      <td>67.0</td>\n",
       "      <td>78.0</td>\n",
       "      <td>1.85</td>\n",
       "      <td>22.790358</td>\n",
       "      <td>8.0</td>\n",
       "    </tr>\n",
       "    <tr>\n",
       "      <th>19</th>\n",
       "      <td>26.0</td>\n",
       "      <td>65.0</td>\n",
       "      <td>1.21</td>\n",
       "      <td>44.395875</td>\n",
       "      <td>22.0</td>\n",
       "    </tr>\n",
       "    <tr>\n",
       "      <th>20</th>\n",
       "      <td>68.0</td>\n",
       "      <td>50.0</td>\n",
       "      <td>1.32</td>\n",
       "      <td>28.696051</td>\n",
       "      <td>16.0</td>\n",
       "    </tr>\n",
       "    <tr>\n",
       "      <th>21</th>\n",
       "      <td>56.0</td>\n",
       "      <td>76.0</td>\n",
       "      <td>1.69</td>\n",
       "      <td>26.609713</td>\n",
       "      <td>14.0</td>\n",
       "    </tr>\n",
       "    <tr>\n",
       "      <th>22</th>\n",
       "      <td>67.0</td>\n",
       "      <td>78.0</td>\n",
       "      <td>1.85</td>\n",
       "      <td>22.790358</td>\n",
       "      <td>8.0</td>\n",
       "    </tr>\n",
       "    <tr>\n",
       "      <th>23</th>\n",
       "      <td>45.0</td>\n",
       "      <td>85.0</td>\n",
       "      <td>1.80</td>\n",
       "      <td>26.300000</td>\n",
       "      <td>13.0</td>\n",
       "    </tr>\n",
       "  </tbody>\n",
       "</table>\n",
       "</div>"
      ],
      "text/plain": [
       "     Age  Weight (in kg)  Height (in m)        BMI  Rank_min\n",
       "0   45.0            60.0           1.35  32.921811      20.0\n",
       "1   12.0            43.0           1.21  29.369579      18.0\n",
       "2   54.0            78.0           1.50  34.666667      21.0\n",
       "3   26.0            65.0           1.21  44.395875      22.0\n",
       "4   68.0            50.0           1.32  28.696051      16.0\n",
       "5   21.0            43.0           1.52  18.611496       6.0\n",
       "6   10.0            32.0           1.65  11.753903       2.0\n",
       "7   57.0            34.0           1.61  13.116778       3.0\n",
       "8   75.0            23.0           1.24  14.958377       5.0\n",
       "9   32.0            21.0           1.52   9.089335       1.0\n",
       "10  23.0            53.0           1.50  23.555556      11.0\n",
       "11  34.0            65.0           1.76  20.983988       7.0\n",
       "12  55.0            89.0           1.65  32.690542      19.0\n",
       "13  23.0            45.0           1.75  14.693878       4.0\n",
       "14  56.0            76.0           1.69  26.609713      14.0\n",
       "15  67.0            78.0           1.85  22.790358       8.0\n",
       "16  26.0            65.0           1.21  44.395875      22.0\n",
       "17  56.0            74.0           1.69  25.909457      12.0\n",
       "18  67.0            78.0           1.85  22.790358       8.0\n",
       "19  26.0            65.0           1.21  44.395875      22.0\n",
       "20  68.0            50.0           1.32  28.696051      16.0\n",
       "21  56.0            76.0           1.69  26.609713      14.0\n",
       "22  67.0            78.0           1.85  22.790358       8.0\n",
       "23  45.0            85.0           1.80  26.300000      13.0"
      ]
     },
     "execution_count": 84,
     "metadata": {},
     "output_type": "execute_result"
    }
   ],
   "source": [
    "# rank the data frame 'data' in descending order based on 'BMI'\n",
    "# 'method = min' assigns the minimum rank to highest equal value of 'BMI' \n",
    "df_basic_info['Rank_min'] = df_basic_info['BMI'].rank(method = 'min')\n",
    "df_basic_info"
   ]
  },
  {
   "cell_type": "markdown",
   "id": "cc58c61e",
   "metadata": {},
   "source": [
    "From the above data frame, we can see that 'BMI = 44.395875' is repeating thrice; thus the method = 'min' will assign the minimum rank (=1) to all the three values of BMI. The rank '4' will be assigned to the second largest value of BMI and so on. Thus, there is no rank equal to 2 and 3."
   ]
  },
  {
   "cell_type": "code",
   "execution_count": null,
   "id": "4988a16c",
   "metadata": {},
   "outputs": [],
   "source": [
    "# method = 'dense' assigns same rank to all the same BMI values\n"
   ]
  },
  {
   "cell_type": "markdown",
   "id": "d52c8285",
   "metadata": {},
   "source": [
    "Here, the dense method assigns minimum rank (=1) to the minimum value (=9.089335) of the BMI. Rank 2 will be assigned to next smallest value and so on. The value 44.395875 which repeats thrice has the same rank - 18 to the three observations."
   ]
  },
  {
   "cell_type": "markdown",
   "id": "1254b162",
   "metadata": {},
   "source": [
    "**To check for missing values**"
   ]
  },
  {
   "cell_type": "code",
   "execution_count": null,
   "id": "ed4a6b0c",
   "metadata": {},
   "outputs": [],
   "source": [
    "# read the dataset\n",
    "df_basic_info_missing = pd.read_csv(\"basic_info_missingdata.csv\")\n",
    "\n",
    "# print the dataset\n",
    "df_basic_info_missing"
   ]
  },
  {
   "cell_type": "markdown",
   "id": "d41d4155",
   "metadata": {},
   "source": [
    "Check for missing values"
   ]
  },
  {
   "cell_type": "code",
   "execution_count": null,
   "id": "677ea67c",
   "metadata": {},
   "outputs": [],
   "source": [
    "# isnull() returns True for a missing value\n",
    "# sum() gives the sum of True values\n"
   ]
  },
  {
   "cell_type": "markdown",
   "id": "55315d9c",
   "metadata": {},
   "source": [
    "The function `.isnull` check whether the data is missing. The `sum()` sums the number of 'True' values in the column. The final output gives the number of missing values in each column.\n",
    "\n",
    "Here, we see there are 2 missing values in the 'weight' column and one missing value in other columns."
   ]
  },
  {
   "cell_type": "code",
   "execution_count": null,
   "id": "791e5674",
   "metadata": {},
   "outputs": [],
   "source": []
  },
  {
   "cell_type": "code",
   "execution_count": null,
   "id": "c1d2b64d",
   "metadata": {},
   "outputs": [],
   "source": []
  }
 ],
 "metadata": {
  "kernelspec": {
   "display_name": "Python 3",
   "language": "python",
   "name": "python3"
  },
  "language_info": {
   "codemirror_mode": {
    "name": "ipython",
    "version": 3
   },
   "file_extension": ".py",
   "mimetype": "text/x-python",
   "name": "python",
   "nbconvert_exporter": "python",
   "pygments_lexer": "ipython3",
   "version": "3.11.9"
  }
 },
 "nbformat": 4,
 "nbformat_minor": 5
}
