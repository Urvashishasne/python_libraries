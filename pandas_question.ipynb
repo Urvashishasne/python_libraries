{
 "cells": [
  {
   "cell_type": "markdown",
   "metadata": {},
   "source": [
    "Pandas-15 questions \n"
   ]
  },
  {
   "cell_type": "markdown",
   "metadata": {},
   "source": [
    "practice pandas at https://leetcode.com/studyplan/introduction-to-pandas/"
   ]
  },
  {
   "cell_type": "code",
   "execution_count": 1,
   "metadata": {},
   "outputs": [],
   "source": [
    "import pandas as pd"
   ]
  },
  {
   "cell_type": "code",
   "execution_count": null,
   "metadata": {},
   "outputs": [],
   "source": [
    "#que 1-Create a DataFrame from List\n",
    "\n",
    "def createDataframe(student_data: List[List[int]]) -> pd.DataFrame:\n",
    "    student = pd.DataFrame(student_data,columns=['student_id','age'])\n",
    "    return student\n"
   ]
  },
  {
   "cell_type": "code",
   "execution_count": null,
   "metadata": {},
   "outputs": [],
   "source": [
    "#que 2- Get the Size of a DataFrame\n",
    "\n",
    "def getDataframeSize(players: pd.DataFrame) -> List[int]:\n",
    "    sizeget = players.shape\n",
    "    return list(sizeget)"
   ]
  },
  {
   "cell_type": "code",
   "execution_count": null,
   "metadata": {},
   "outputs": [],
   "source": [
    "# 3Display the First Three Rows\n",
    "def selectFirstRows(employees: pd.DataFrame) -> pd.DataFrame:\n",
    "    return employees.head(3)"
   ]
  },
  {
   "cell_type": "code",
   "execution_count": null,
   "metadata": {},
   "outputs": [],
   "source": [
    "#4Select Data\n",
    "def selectData(students: pd.DataFrame) -> pd.DataFrame:\n",
    "    result = students.loc[students['student_id'] == 101, ['name', 'age']]\n",
    "    return result"
   ]
  },
  {
   "cell_type": "code",
   "execution_count": null,
   "metadata": {},
   "outputs": [],
   "source": [
    "#5Create a New Column\n",
    "def createBonusColumn(employees: pd.DataFrame) -> pd.DataFrame:\n",
    "    employees['bonus']=2*employees['salary']\n",
    "    return employees"
   ]
  },
  {
   "cell_type": "code",
   "execution_count": null,
   "metadata": {},
   "outputs": [],
   "source": [
    "#6Drop Duplicate Rows\n",
    "def dropDuplicateEmails(customers: pd.DataFrame) -> pd.DataFrame:\n",
    "    df = customers.drop_duplicates(subset='email')\n",
    "    return df\n"
   ]
  },
  {
   "cell_type": "code",
   "execution_count": null,
   "metadata": {},
   "outputs": [],
   "source": [
    "#7Drop Missing Data\n",
    "def dropMissingData(students: pd.DataFrame) -> pd.DataFrame:\n",
    "    df = students.dropna(subset='name')\n",
    "    return df"
   ]
  },
  {
   "cell_type": "code",
   "execution_count": null,
   "metadata": {},
   "outputs": [],
   "source": [
    "#8Modify Columns\n",
    "def modifySalaryColumn(employees: pd.DataFrame) -> pd.DataFrame:\n",
    "    employees['salary']=2*employees['salary']\n",
    "    return employees"
   ]
  },
  {
   "cell_type": "code",
   "execution_count": null,
   "metadata": {},
   "outputs": [],
   "source": [
    "#9Rename Columns\n",
    "def renameColumns(students: pd.DataFrame) -> pd.DataFrame:\n",
    "    students= students.rename(columns={\n",
    "             'id':'student_id',\n",
    "            'first': 'first_name',\n",
    "            'last': 'last_name',\n",
    "            'age': 'age_in_years'\n",
    "        })\n",
    "    return students"
   ]
  },
  {
   "cell_type": "code",
   "execution_count": null,
   "metadata": {},
   "outputs": [],
   "source": [
    "#10 Change Data Type\n",
    "def changeDatatype(students: pd.DataFrame) -> pd.DataFrame:\n",
    "    students['grade'] = students['grade'].round().astype(int)\n",
    "    return students\n",
    "#----or \n",
    "def changeDatatype(students: pd.DataFrame) -> pd.DataFrame:\n",
    "    students['grade'] = students['grade'].apply(int)\n",
    "    return students\n",
    "#-----or\n",
    "def changeDatatype(students: pd.DataFrame) -> pd.DataFrame:\n",
    "    students['grade'] = np.floor(students['grade']).astype(int)\n",
    "    return students\n",
    "#-----or \n",
    "def changeDatatype(students: pd.DataFrame) -> pd.DataFrame:\n",
    "    students['grade'] = pd.to_numeric(students['grade']).astype(int)\n",
    "    return students"
   ]
  },
  {
   "cell_type": "code",
   "execution_count": null,
   "metadata": {},
   "outputs": [],
   "source": [
    "# 11 Fill Missing Data\n",
    "def fillMissingValues(products: pd.DataFrame) -> pd.DataFrame:\n",
    "    products['quantity']= products['quantity'].fillna(0)\n",
    "    return products\n"
   ]
  },
  {
   "cell_type": "code",
   "execution_count": null,
   "metadata": {},
   "outputs": [],
   "source": [
    "#12 Reshape Data: Concatenate\n",
    "def concatenateTables(df1: pd.DataFrame, df2: pd.DataFrame) -> pd.DataFrame:\n",
    "    df_combined = pd.concat([df1, df2], axis=0)\n",
    "    return df_combined"
   ]
  },
  {
   "cell_type": "code",
   "execution_count": null,
   "metadata": {},
   "outputs": [],
   "source": [
    "#13 Reshape Data: Pivot\n",
    "def pivotTable(weather: pd.DataFrame) -> pd.DataFrame:\n",
    "    weather = weather.pivot(index='month', columns='city', values='temperature')\n",
    "    weather = weather.sort_values(by='month')\n",
    "    return weather\n"
   ]
  },
  {
   "cell_type": "code",
   "execution_count": null,
   "metadata": {},
   "outputs": [],
   "source": [
    "#14 Reshape Data: Melt\n",
    "\n"
   ]
  },
  {
   "cell_type": "code",
   "execution_count": null,
   "metadata": {},
   "outputs": [],
   "source": [
    "#15 Method Chaining\n",
    "\n"
   ]
  }
 ],
 "metadata": {
  "kernelspec": {
   "display_name": "Python 3",
   "language": "python",
   "name": "python3"
  },
  "language_info": {
   "codemirror_mode": {
    "name": "ipython",
    "version": 3
   },
   "file_extension": ".py",
   "mimetype": "text/x-python",
   "name": "python",
   "nbconvert_exporter": "python",
   "pygments_lexer": "ipython3",
   "version": "3.11.9"
  }
 },
 "nbformat": 4,
 "nbformat_minor": 2
}
